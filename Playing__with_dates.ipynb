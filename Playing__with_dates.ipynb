{
  "nbformat": 4,
  "nbformat_minor": 0,
  "metadata": {
    "colab": {
      "name": "Playing _with_dates.ipynb",
      "provenance": [],
      "authorship_tag": "ABX9TyP/OLmDvo/tGAnHbY13RI2a",
      "include_colab_link": true
    },
    "kernelspec": {
      "name": "python3",
      "display_name": "Python 3"
    },
    "language_info": {
      "name": "python"
    }
  },
  "cells": [
    {
      "cell_type": "markdown",
      "metadata": {
        "id": "view-in-github",
        "colab_type": "text"
      },
      "source": [
        "<a href=\"https://colab.research.google.com/github/wolego2uni/ibm_demo/blob/main/Playing__with_dates.ipynb\" target=\"_parent\"><img src=\"https://colab.research.google.com/assets/colab-badge.svg\" alt=\"Open In Colab\"/></a>"
      ]
    },
    {
      "cell_type": "code",
      "metadata": {
        "id": "u8MfRvGS_X92"
      },
      "source": [
        "#import libraries \n",
        "\n",
        "import numpy as np\n",
        "import pandas as pd\n",
        "from datetime import datetime\n",
        "%matplotlib inline\n",
        "import matplotlib as plt\n",
        "from matplotlib import pyplot\n"
      ],
      "execution_count": 43,
      "outputs": []
    },
    {
      "cell_type": "code",
      "metadata": {
        "colab": {
          "base_uri": "https://localhost:8080/"
        },
        "id": "fqVieeq59HOu",
        "outputId": "fe42e8a9-22b7-4045-fa81-1ac320c7751d"
      },
      "source": [
        "# Lets create a pandas dataframe for the year 2021\n",
        "#method 1\n",
        "df = pd.date_range(start='2021-01-01', end='2021-12-31', freq='D')\n",
        "#check the image below for other freq options \n",
        "#method 2\n",
        "# df = pd.date_range(start='2021-01-01', periods=365)\n",
        "df"
      ],
      "execution_count": 25,
      "outputs": [
        {
          "output_type": "execute_result",
          "data": {
            "text/plain": [
              "DatetimeIndex(['2021-01-01', '2021-01-02', '2021-01-03', '2021-01-04',\n",
              "               '2021-01-05', '2021-01-06', '2021-01-07', '2021-01-08',\n",
              "               '2021-01-09', '2021-01-10',\n",
              "               ...\n",
              "               '2021-12-22', '2021-12-23', '2021-12-24', '2021-12-25',\n",
              "               '2021-12-26', '2021-12-27', '2021-12-28', '2021-12-29',\n",
              "               '2021-12-30', '2021-12-31'],\n",
              "              dtype='datetime64[ns]', length=365, freq='D')"
            ]
          },
          "metadata": {},
          "execution_count": 25
        }
      ]
    },
    {
      "cell_type": "markdown",
      "metadata": {
        "id": "eBo6FG9E-UM2"
      },
      "source": [
        "![WhatsApp Image 2021-08-24 at 12.46.36.jpeg](data:image/jpeg;base64,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)"
      ]
    },
    {
      "cell_type": "code",
      "metadata": {
        "id": "WbcYciI79JHM"
      },
      "source": [
        "#Make a dataframe with column= date\n",
        "df = pd.DataFrame(df, columns=['date'])"
      ],
      "execution_count": 26,
      "outputs": []
    },
    {
      "cell_type": "code",
      "metadata": {
        "colab": {
          "base_uri": "https://localhost:8080/"
        },
        "id": "UFLnHklO9NKV",
        "outputId": "674cff96-743d-441c-e8f7-24f7c6dc51e7"
      },
      "source": [
        "len(df)"
      ],
      "execution_count": 27,
      "outputs": [
        {
          "output_type": "execute_result",
          "data": {
            "text/plain": [
              "365"
            ]
          },
          "metadata": {},
          "execution_count": 27
        }
      ]
    },
    {
      "cell_type": "code",
      "metadata": {
        "colab": {
          "base_uri": "https://localhost:8080/",
          "height": 203
        },
        "id": "iG1tzoP69NAH",
        "outputId": "8f36adfc-457e-44b7-a82e-1c59f951791f"
      },
      "source": [
        "# And add a 'made up' column for temp\n",
        "df['temp'] = np.random.randint(0,60,size=(len(df)))\n",
        "df.head()"
      ],
      "execution_count": 28,
      "outputs": [
        {
          "output_type": "execute_result",
          "data": {
            "text/html": [
              "<div>\n",
              "<style scoped>\n",
              "    .dataframe tbody tr th:only-of-type {\n",
              "        vertical-align: middle;\n",
              "    }\n",
              "\n",
              "    .dataframe tbody tr th {\n",
              "        vertical-align: top;\n",
              "    }\n",
              "\n",
              "    .dataframe thead th {\n",
              "        text-align: right;\n",
              "    }\n",
              "</style>\n",
              "<table border=\"1\" class=\"dataframe\">\n",
              "  <thead>\n",
              "    <tr style=\"text-align: right;\">\n",
              "      <th></th>\n",
              "      <th>date</th>\n",
              "      <th>temp</th>\n",
              "    </tr>\n",
              "  </thead>\n",
              "  <tbody>\n",
              "    <tr>\n",
              "      <th>0</th>\n",
              "      <td>2021-01-01</td>\n",
              "      <td>14</td>\n",
              "    </tr>\n",
              "    <tr>\n",
              "      <th>1</th>\n",
              "      <td>2021-01-02</td>\n",
              "      <td>49</td>\n",
              "    </tr>\n",
              "    <tr>\n",
              "      <th>2</th>\n",
              "      <td>2021-01-03</td>\n",
              "      <td>19</td>\n",
              "    </tr>\n",
              "    <tr>\n",
              "      <th>3</th>\n",
              "      <td>2021-01-04</td>\n",
              "      <td>39</td>\n",
              "    </tr>\n",
              "    <tr>\n",
              "      <th>4</th>\n",
              "      <td>2021-01-05</td>\n",
              "      <td>38</td>\n",
              "    </tr>\n",
              "  </tbody>\n",
              "</table>\n",
              "</div>"
            ],
            "text/plain": [
              "        date  temp\n",
              "0 2021-01-01    14\n",
              "1 2021-01-02    49\n",
              "2 2021-01-03    19\n",
              "3 2021-01-04    39\n",
              "4 2021-01-05    38"
            ]
          },
          "metadata": {},
          "execution_count": 28
        }
      ]
    },
    {
      "cell_type": "code",
      "metadata": {
        "colab": {
          "base_uri": "https://localhost:8080/",
          "height": 234
        },
        "id": "bVF4fm3o9MtX",
        "outputId": "bebd885a-a1db-4d6a-d5a7-08a1e2d9d5cc"
      },
      "source": [
        "# Set your date as the index \n",
        "df = df.set_index('date')\n",
        "df.head()"
      ],
      "execution_count": 29,
      "outputs": [
        {
          "output_type": "execute_result",
          "data": {
            "text/html": [
              "<div>\n",
              "<style scoped>\n",
              "    .dataframe tbody tr th:only-of-type {\n",
              "        vertical-align: middle;\n",
              "    }\n",
              "\n",
              "    .dataframe tbody tr th {\n",
              "        vertical-align: top;\n",
              "    }\n",
              "\n",
              "    .dataframe thead th {\n",
              "        text-align: right;\n",
              "    }\n",
              "</style>\n",
              "<table border=\"1\" class=\"dataframe\">\n",
              "  <thead>\n",
              "    <tr style=\"text-align: right;\">\n",
              "      <th></th>\n",
              "      <th>temp</th>\n",
              "    </tr>\n",
              "    <tr>\n",
              "      <th>date</th>\n",
              "      <th></th>\n",
              "    </tr>\n",
              "  </thead>\n",
              "  <tbody>\n",
              "    <tr>\n",
              "      <th>2021-01-01</th>\n",
              "      <td>14</td>\n",
              "    </tr>\n",
              "    <tr>\n",
              "      <th>2021-01-02</th>\n",
              "      <td>49</td>\n",
              "    </tr>\n",
              "    <tr>\n",
              "      <th>2021-01-03</th>\n",
              "      <td>19</td>\n",
              "    </tr>\n",
              "    <tr>\n",
              "      <th>2021-01-04</th>\n",
              "      <td>39</td>\n",
              "    </tr>\n",
              "    <tr>\n",
              "      <th>2021-01-05</th>\n",
              "      <td>38</td>\n",
              "    </tr>\n",
              "  </tbody>\n",
              "</table>\n",
              "</div>"
            ],
            "text/plain": [
              "            temp\n",
              "date            \n",
              "2021-01-01    14\n",
              "2021-01-02    49\n",
              "2021-01-03    19\n",
              "2021-01-04    39\n",
              "2021-01-05    38"
            ]
          },
          "metadata": {},
          "execution_count": 29
        }
      ]
    },
    {
      "cell_type": "code",
      "metadata": {
        "colab": {
          "base_uri": "https://localhost:8080/",
          "height": 308
        },
        "id": "gbPn7BL2DBdc",
        "outputId": "523ebc98-3b18-4cb6-a3ab-92f90da55bc0"
      },
      "source": [
        "df['temp'].plot()"
      ],
      "execution_count": 47,
      "outputs": [
        {
          "output_type": "execute_result",
          "data": {
            "text/plain": [
              "<matplotlib.axes._subplots.AxesSubplot at 0x7f66524ec910>"
            ]
          },
          "metadata": {},
          "execution_count": 47
        },
        {
          "output_type": "display_data",
          "data": {
            "image/png": "[encoded data removed]",
            "text/plain": [
              "<Figure size 432x288 with 1 Axes>"
            ]
          },
          "metadata": {
            "needs_background": "light"
          }
        }
      ]
    },
    {
      "cell_type": "code",
      "metadata": {
        "colab": {
          "base_uri": "https://localhost:8080/",
          "height": 331
        },
        "id": "zLFgOhLXDKzs",
        "outputId": "b92b1bc9-ab59-40de-8889-616f661aba56"
      },
      "source": [
        "df.loc['2021-11-01':'2021-11-30'].plot()"
      ],
      "execution_count": 50,
      "outputs": [
        {
          "output_type": "execute_result",
          "data": {
            "text/plain": [
              "<matplotlib.axes._subplots.AxesSubplot at 0x7f66522cd050>"
            ]
          },
          "metadata": {},
          "execution_count": 50
        },
        {
          "output_type": "display_data",
          "data": {
            "image/png": "[encoded data removed]",
            "text/plain": [
              "<Figure size 432x288 with 1 Axes>"
            ]
          },
          "metadata": {
            "needs_background": "light"
          }
        }
      ]
    },
    {
      "cell_type": "code",
      "metadata": {
        "colab": {
          "base_uri": "https://localhost:8080/"
        },
        "id": "jhxziGy99bSU",
        "outputId": "7e34eb30-5fe8-4514-9258-7b391df308ff"
      },
      "source": [
        "#extract information about a certain day's temp \n",
        "df.loc['2021-11-01', 'temp']"
      ],
      "execution_count": 30,
      "outputs": [
        {
          "output_type": "execute_result",
          "data": {
            "text/plain": [
              "17"
            ]
          },
          "metadata": {},
          "execution_count": 30
        }
      ]
    },
    {
      "cell_type": "code",
      "metadata": {
        "colab": {
          "base_uri": "https://localhost:8080/",
          "height": 388
        },
        "id": "zQ-fhge29hrM",
        "outputId": "223aed2d-0605-44b6-8060-b1aa50717666"
      },
      "source": [
        "#extracting information for a range of dates \n",
        "df.loc['2021-11-01':'2021-11-10']"
      ],
      "execution_count": 52,
      "outputs": [
        {
          "output_type": "execute_result",
          "data": {
            "text/html": [
              "<div>\n",
              "<style scoped>\n",
              "    .dataframe tbody tr th:only-of-type {\n",
              "        vertical-align: middle;\n",
              "    }\n",
              "\n",
              "    .dataframe tbody tr th {\n",
              "        vertical-align: top;\n",
              "    }\n",
              "\n",
              "    .dataframe thead th {\n",
              "        text-align: right;\n",
              "    }\n",
              "</style>\n",
              "<table border=\"1\" class=\"dataframe\">\n",
              "  <thead>\n",
              "    <tr style=\"text-align: right;\">\n",
              "      <th></th>\n",
              "      <th>temp</th>\n",
              "      <th>classes</th>\n",
              "    </tr>\n",
              "    <tr>\n",
              "      <th>date</th>\n",
              "      <th></th>\n",
              "      <th></th>\n",
              "    </tr>\n",
              "  </thead>\n",
              "  <tbody>\n",
              "    <tr>\n",
              "      <th>2021-11-01</th>\n",
              "      <td>17</td>\n",
              "      <td>Medium</td>\n",
              "    </tr>\n",
              "    <tr>\n",
              "      <th>2021-11-02</th>\n",
              "      <td>32</td>\n",
              "      <td>High</td>\n",
              "    </tr>\n",
              "    <tr>\n",
              "      <th>2021-11-03</th>\n",
              "      <td>34</td>\n",
              "      <td>High</td>\n",
              "    </tr>\n",
              "    <tr>\n",
              "      <th>2021-11-04</th>\n",
              "      <td>2</td>\n",
              "      <td>Low</td>\n",
              "    </tr>\n",
              "    <tr>\n",
              "      <th>2021-11-05</th>\n",
              "      <td>35</td>\n",
              "      <td>High</td>\n",
              "    </tr>\n",
              "    <tr>\n",
              "      <th>2021-11-06</th>\n",
              "      <td>1</td>\n",
              "      <td>Low</td>\n",
              "    </tr>\n",
              "    <tr>\n",
              "      <th>2021-11-07</th>\n",
              "      <td>36</td>\n",
              "      <td>High</td>\n",
              "    </tr>\n",
              "    <tr>\n",
              "      <th>2021-11-08</th>\n",
              "      <td>22</td>\n",
              "      <td>Medium</td>\n",
              "    </tr>\n",
              "    <tr>\n",
              "      <th>2021-11-09</th>\n",
              "      <td>26</td>\n",
              "      <td>Medium</td>\n",
              "    </tr>\n",
              "    <tr>\n",
              "      <th>2021-11-10</th>\n",
              "      <td>42</td>\n",
              "      <td>High</td>\n",
              "    </tr>\n",
              "  </tbody>\n",
              "</table>\n",
              "</div>"
            ],
            "text/plain": [
              "            temp classes\n",
              "date                    \n",
              "2021-11-01    17  Medium\n",
              "2021-11-02    32    High\n",
              "2021-11-03    34    High\n",
              "2021-11-04     2     Low\n",
              "2021-11-05    35    High\n",
              "2021-11-06     1     Low\n",
              "2021-11-07    36    High\n",
              "2021-11-08    22  Medium\n",
              "2021-11-09    26  Medium\n",
              "2021-11-10    42    High"
            ]
          },
          "metadata": {},
          "execution_count": 52
        }
      ]
    },
    {
      "cell_type": "markdown",
      "metadata": {
        "id": "epFVjPfGDb0D"
      },
      "source": [
        "Lets say we want to convert the daily tempature into categorical variables, say we want to classify the temps into low,medium, high and very high temperatures. We use binning. "
      ]
    },
    {
      "cell_type": "code",
      "metadata": {
        "colab": {
          "base_uri": "https://localhost:8080/"
        },
        "id": "ol7DwjUx_3bN",
        "outputId": "7bb3c395-48cf-45f3-ca48-e752d95d1916"
      },
      "source": [
        "bins = np.linspace(min(df[\"temp\"]), max(df[\"temp\"]), 5)\n",
        "bins"
      ],
      "execution_count": 32,
      "outputs": [
        {
          "output_type": "execute_result",
          "data": {
            "text/plain": [
              "array([ 0.  , 14.75, 29.5 , 44.25, 59.  ])"
            ]
          },
          "metadata": {},
          "execution_count": 32
        }
      ]
    },
    {
      "cell_type": "code",
      "metadata": {
        "id": "CilxoLNMAdLV"
      },
      "source": [
        "classes = ['Low', 'Medium', 'High', 'VeryHigh']"
      ],
      "execution_count": 33,
      "outputs": []
    },
    {
      "cell_type": "code",
      "metadata": {
        "colab": {
          "base_uri": "https://localhost:8080/",
          "height": 696
        },
        "id": "bivEHIGNAdnM",
        "outputId": "835244d5-77b6-4266-cd8e-1ea53378eb86"
      },
      "source": [
        "df['classes'] =pd.cut(df['temp'], bins, labels=classes, include_lowest=True)\n",
        "df[['temp','classes']].head(20)"
      ],
      "execution_count": 34,
      "outputs": [
        {
          "output_type": "execute_result",
          "data": {
            "text/html": [
              "<div>\n",
              "<style scoped>\n",
              "    .dataframe tbody tr th:only-of-type {\n",
              "        vertical-align: middle;\n",
              "    }\n",
              "\n",
              "    .dataframe tbody tr th {\n",
              "        vertical-align: top;\n",
              "    }\n",
              "\n",
              "    .dataframe thead th {\n",
              "        text-align: right;\n",
              "    }\n",
              "</style>\n",
              "<table border=\"1\" class=\"dataframe\">\n",
              "  <thead>\n",
              "    <tr style=\"text-align: right;\">\n",
              "      <th></th>\n",
              "      <th>temp</th>\n",
              "      <th>classes</th>\n",
              "    </tr>\n",
              "    <tr>\n",
              "      <th>date</th>\n",
              "      <th></th>\n",
              "      <th></th>\n",
              "    </tr>\n",
              "  </thead>\n",
              "  <tbody>\n",
              "    <tr>\n",
              "      <th>2021-01-01</th>\n",
              "      <td>14</td>\n",
              "      <td>Low</td>\n",
              "    </tr>\n",
              "    <tr>\n",
              "      <th>2021-01-02</th>\n",
              "      <td>49</td>\n",
              "      <td>VeryHigh</td>\n",
              "    </tr>\n",
              "    <tr>\n",
              "      <th>2021-01-03</th>\n",
              "      <td>19</td>\n",
              "      <td>Medium</td>\n",
              "    </tr>\n",
              "    <tr>\n",
              "      <th>2021-01-04</th>\n",
              "      <td>39</td>\n",
              "      <td>High</td>\n",
              "    </tr>\n",
              "    <tr>\n",
              "      <th>2021-01-05</th>\n",
              "      <td>38</td>\n",
              "      <td>High</td>\n",
              "    </tr>\n",
              "    <tr>\n",
              "      <th>2021-01-06</th>\n",
              "      <td>29</td>\n",
              "      <td>Medium</td>\n",
              "    </tr>\n",
              "    <tr>\n",
              "      <th>2021-01-07</th>\n",
              "      <td>17</td>\n",
              "      <td>Medium</td>\n",
              "    </tr>\n",
              "    <tr>\n",
              "      <th>2021-01-08</th>\n",
              "      <td>11</td>\n",
              "      <td>Low</td>\n",
              "    </tr>\n",
              "    <tr>\n",
              "      <th>2021-01-09</th>\n",
              "      <td>0</td>\n",
              "      <td>Low</td>\n",
              "    </tr>\n",
              "    <tr>\n",
              "      <th>2021-01-10</th>\n",
              "      <td>32</td>\n",
              "      <td>High</td>\n",
              "    </tr>\n",
              "    <tr>\n",
              "      <th>2021-01-11</th>\n",
              "      <td>19</td>\n",
              "      <td>Medium</td>\n",
              "    </tr>\n",
              "    <tr>\n",
              "      <th>2021-01-12</th>\n",
              "      <td>10</td>\n",
              "      <td>Low</td>\n",
              "    </tr>\n",
              "    <tr>\n",
              "      <th>2021-01-13</th>\n",
              "      <td>24</td>\n",
              "      <td>Medium</td>\n",
              "    </tr>\n",
              "    <tr>\n",
              "      <th>2021-01-14</th>\n",
              "      <td>43</td>\n",
              "      <td>High</td>\n",
              "    </tr>\n",
              "    <tr>\n",
              "      <th>2021-01-15</th>\n",
              "      <td>58</td>\n",
              "      <td>VeryHigh</td>\n",
              "    </tr>\n",
              "    <tr>\n",
              "      <th>2021-01-16</th>\n",
              "      <td>32</td>\n",
              "      <td>High</td>\n",
              "    </tr>\n",
              "    <tr>\n",
              "      <th>2021-01-17</th>\n",
              "      <td>45</td>\n",
              "      <td>VeryHigh</td>\n",
              "    </tr>\n",
              "    <tr>\n",
              "      <th>2021-01-18</th>\n",
              "      <td>50</td>\n",
              "      <td>VeryHigh</td>\n",
              "    </tr>\n",
              "    <tr>\n",
              "      <th>2021-01-19</th>\n",
              "      <td>17</td>\n",
              "      <td>Medium</td>\n",
              "    </tr>\n",
              "    <tr>\n",
              "      <th>2021-01-20</th>\n",
              "      <td>55</td>\n",
              "      <td>VeryHigh</td>\n",
              "    </tr>\n",
              "  </tbody>\n",
              "</table>\n",
              "</div>"
            ],
            "text/plain": [
              "            temp   classes\n",
              "date                      \n",
              "2021-01-01    14       Low\n",
              "2021-01-02    49  VeryHigh\n",
              "2021-01-03    19    Medium\n",
              "2021-01-04    39      High\n",
              "2021-01-05    38      High\n",
              "2021-01-06    29    Medium\n",
              "2021-01-07    17    Medium\n",
              "2021-01-08    11       Low\n",
              "2021-01-09     0       Low\n",
              "2021-01-10    32      High\n",
              "2021-01-11    19    Medium\n",
              "2021-01-12    10       Low\n",
              "2021-01-13    24    Medium\n",
              "2021-01-14    43      High\n",
              "2021-01-15    58  VeryHigh\n",
              "2021-01-16    32      High\n",
              "2021-01-17    45  VeryHigh\n",
              "2021-01-18    50  VeryHigh\n",
              "2021-01-19    17    Medium\n",
              "2021-01-20    55  VeryHigh"
            ]
          },
          "metadata": {},
          "execution_count": 34
        }
      ]
    },
    {
      "cell_type": "code",
      "metadata": {
        "colab": {
          "base_uri": "https://localhost:8080/",
          "height": 203
        },
        "id": "27CZBDQtBFkg",
        "outputId": "44902bef-4c33-4154-96fe-7d256850cd97"
      },
      "source": [
        "#Lets view the mean temp for each class\n",
        "df.pivot_table(values='temp', index='classes', aggfunc=np.mean, margins=True)\n",
        "#set margins to false to remove the totals\n",
        "\n",
        "#Method 2\n",
        "#df.groupby('classes')['temp'].mean() "
      ],
      "execution_count": 40,
      "outputs": [
        {
          "output_type": "execute_result",
          "data": {
            "text/html": [
              "<div>\n",
              "<style scoped>\n",
              "    .dataframe tbody tr th:only-of-type {\n",
              "        vertical-align: middle;\n",
              "    }\n",
              "\n",
              "    .dataframe tbody tr th {\n",
              "        vertical-align: top;\n",
              "    }\n",
              "\n",
              "    .dataframe thead th {\n",
              "        text-align: right;\n",
              "    }\n",
              "</style>\n",
              "<table border=\"1\" class=\"dataframe\">\n",
              "  <thead>\n",
              "    <tr style=\"text-align: right;\">\n",
              "      <th></th>\n",
              "      <th>temp</th>\n",
              "    </tr>\n",
              "    <tr>\n",
              "      <th>classes</th>\n",
              "      <th></th>\n",
              "    </tr>\n",
              "  </thead>\n",
              "  <tbody>\n",
              "    <tr>\n",
              "      <th>Low</th>\n",
              "      <td>6.901235</td>\n",
              "    </tr>\n",
              "    <tr>\n",
              "      <th>Medium</th>\n",
              "      <td>21.413043</td>\n",
              "    </tr>\n",
              "    <tr>\n",
              "      <th>High</th>\n",
              "      <td>37.273585</td>\n",
              "    </tr>\n",
              "    <tr>\n",
              "      <th>VeryHigh</th>\n",
              "      <td>52.627907</td>\n",
              "    </tr>\n",
              "  </tbody>\n",
              "</table>\n",
              "</div>"
            ],
            "text/plain": [
              "               temp\n",
              "classes            \n",
              "Low        6.901235\n",
              "Medium    21.413043\n",
              "High      37.273585\n",
              "VeryHigh  52.627907"
            ]
          },
          "metadata": {},
          "execution_count": 40
        }
      ]
    },
    {
      "cell_type": "code",
      "metadata": {
        "colab": {
          "base_uri": "https://localhost:8080/",
          "height": 312
        },
        "id": "8ThQXDA3Bo9t",
        "outputId": "3c4f39a8-f745-4a54-b189-5220c45db04f"
      },
      "source": [
        "#plotting the classes\n",
        "pyplot.bar(classes, df[\"classes\"].value_counts())\n",
        "plt.pyplot.xlabel(\"classes\")\n",
        "plt.pyplot.ylabel(\"count\")\n",
        "plt.pyplot.title(\"Temperature types\")\n"
      ],
      "execution_count": 46,
      "outputs": [
        {
          "output_type": "execute_result",
          "data": {
            "text/plain": [
              "Text(0.5, 1.0, 'Temperature types')"
            ]
          },
          "metadata": {},
          "execution_count": 46
        },
        {
          "output_type": "display_data",
          "data": {
            "image/png": "[encoded data removed]",
            "text/plain": [
              "<Figure size 432x288 with 1 Axes>"
            ]
          },
          "metadata": {
            "needs_background": "light"
          }
        }
      ]
    }
  ]
}
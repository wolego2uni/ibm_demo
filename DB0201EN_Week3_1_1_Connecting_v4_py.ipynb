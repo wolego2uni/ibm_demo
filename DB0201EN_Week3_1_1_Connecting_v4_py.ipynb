{
  "nbformat": 4,
  "nbformat_minor": 0,
  "metadata": {
    "kernelspec": {
      "display_name": "Python",
      "language": "python",
      "name": "conda-env-python-py"
    },
    "language_info": {
      "codemirror_mode": {
        "name": "ipython",
        "version": 3
      },
      "file_extension": ".py",
      "mimetype": "text/x-python",
      "name": "python",
      "nbconvert_exporter": "python",
      "pygments_lexer": "ipython3",
      "version": "3.6.13"
    },
    "colab": {
      "name": "DB0201EN-Week3-1-1-Connecting-v4-py.ipynb",
      "provenance": [],
      "include_colab_link": true
    }
  },
  "cells": [
    {
      "cell_type": "markdown",
      "metadata": {
        "id": "view-in-github",
        "colab_type": "text"
      },
      "source": [
        "<a href=\"https://colab.research.google.com/github/wolego2uni/ibm_demo/blob/main/DB0201EN_Week3_1_1_Connecting_v4_py.ipynb\" target=\"_parent\"><img src=\"https://colab.research.google.com/assets/colab-badge.svg\" alt=\"Open In Colab\"/></a>"
      ]
    },
    {
      "cell_type": "markdown",
      "metadata": {
        "id": "p1a2GVYDoXYJ"
      },
      "source": [
        "<center>\n",
        "    <img src=\"https://s3-api.us-geo.objectstorage.softlayer.net/cf-courses-data/CognitiveClass/Logos/organization_logo/organization_logo.png\" width=\"300\" alt=\"cognitiveclass.ai logo\"  />\n",
        "</center>\n",
        "\n",
        "# Connect to Db2 database on Cloud using Python\n",
        "\n",
        "Estimated time needed: **15** minutes\n",
        "\n",
        "## Objectives\n",
        "\n",
        "After completing this lab you will be able to:\n",
        "\n",
        "*   Import the ibm_db Python library\n",
        "*   Enter the database connection credentials\n",
        "*   Create the database connection\n",
        "*   Close the database connection\n"
      ]
    },
    {
      "cell_type": "markdown",
      "metadata": {
        "id": "q9lg6OSmoXYL"
      },
      "source": [
        "**Note:** Please follow the instructions given in the first Lab of this course to Create a database service instance of Db2 on Cloud and retrieve your database Service Credentials.\n",
        "\n",
        "## Import the `ibm_db` Python library\n",
        "\n",
        "The `ibm_db` [API ](https://pypi.python.org/pypi/ibm_db/?utm_medium=Exinfluencer\\&utm_source=Exinfluencer\\&utm_content=000026UJ\\&utm_term=10006555\\&utm_id=NA-SkillsNetwork-Channel-SkillsNetworkCoursesIBMDeveloperSkillsNetworkDB0201ENSkillsNetwork20127838-2021-01-01) provides a variety of useful Python functions for accessing and manipulating data in an IBM® data server database, including functions for connecting to a database, preparing and issuing SQL statements, fetching rows from result sets, calling stored procedures, committing and rolling back transactions, handling errors, and retrieving metadata.\n",
        "\n",
        "We first import the ibm_db library into our Python Application\n",
        "\n",
        "Execute the following cell by clicking within it and then\n",
        "press `Shift` and `Enter` keys simultaneously\n"
      ]
    },
    {
      "cell_type": "code",
      "metadata": {
        "colab": {
          "base_uri": "https://localhost:8080/"
        },
        "id": "kBvjiczkox9d",
        "outputId": "4263c821-d45c-4f6c-a8a9-e670274d7327"
      },
      "source": [
        "pip install ibm_db"
      ],
      "execution_count": 1,
      "outputs": [
        {
          "output_type": "stream",
          "text": [
            "Collecting ibm_db\n",
            "  Downloading ibm_db-3.0.4.tar.gz (796 kB)\n",
            "\u001b[?25l\r\u001b[K     |▍                               | 10 kB 21.1 MB/s eta 0:00:01\r\u001b[K     |▉                               | 20 kB 24.1 MB/s eta 0:00:01\r\u001b[K     |█▎                              | 30 kB 22.8 MB/s eta 0:00:01\r\u001b[K     |█▋                              | 40 kB 20.8 MB/s eta 0:00:01\r\u001b[K     |██                              | 51 kB 19.0 MB/s eta 0:00:01\r\u001b[K     |██▌                             | 61 kB 14.2 MB/s eta 0:00:01\r\u001b[K     |██▉                             | 71 kB 12.1 MB/s eta 0:00:01\r\u001b[K     |███▎                            | 81 kB 13.1 MB/s eta 0:00:01\r\u001b[K     |███▊                            | 92 kB 11.2 MB/s eta 0:00:01\r\u001b[K     |████▏                           | 102 kB 11.9 MB/s eta 0:00:01\r\u001b[K     |████▌                           | 112 kB 11.9 MB/s eta 0:00:01\r\u001b[K     |█████                           | 122 kB 11.9 MB/s eta 0:00:01\r\u001b[K     |█████▍                          | 133 kB 11.9 MB/s eta 0:00:01\r\u001b[K     |█████▊                          | 143 kB 11.9 MB/s eta 0:00:01\r\u001b[K     |██████▏                         | 153 kB 11.9 MB/s eta 0:00:01\r\u001b[K     |██████▋                         | 163 kB 11.9 MB/s eta 0:00:01\r\u001b[K     |███████                         | 174 kB 11.9 MB/s eta 0:00:01\r\u001b[K     |███████▍                        | 184 kB 11.9 MB/s eta 0:00:01\r\u001b[K     |███████▉                        | 194 kB 11.9 MB/s eta 0:00:01\r\u001b[K     |████████▎                       | 204 kB 11.9 MB/s eta 0:00:01\r\u001b[K     |████████▋                       | 215 kB 11.9 MB/s eta 0:00:01\r\u001b[K     |█████████                       | 225 kB 11.9 MB/s eta 0:00:01\r\u001b[K     |█████████▌                      | 235 kB 11.9 MB/s eta 0:00:01\r\u001b[K     |█████████▉                      | 245 kB 11.9 MB/s eta 0:00:01\r\u001b[K     |██████████▎                     | 256 kB 11.9 MB/s eta 0:00:01\r\u001b[K     |██████████▊                     | 266 kB 11.9 MB/s eta 0:00:01\r\u001b[K     |███████████                     | 276 kB 11.9 MB/s eta 0:00:01\r\u001b[K     |███████████▌                    | 286 kB 11.9 MB/s eta 0:00:01\r\u001b[K     |████████████                    | 296 kB 11.9 MB/s eta 0:00:01\r\u001b[K     |████████████▍                   | 307 kB 11.9 MB/s eta 0:00:01\r\u001b[K     |████████████▊                   | 317 kB 11.9 MB/s eta 0:00:01\r\u001b[K     |█████████████▏                  | 327 kB 11.9 MB/s eta 0:00:01\r\u001b[K     |█████████████▋                  | 337 kB 11.9 MB/s eta 0:00:01\r\u001b[K     |██████████████                  | 348 kB 11.9 MB/s eta 0:00:01\r\u001b[K     |██████████████▍                 | 358 kB 11.9 MB/s eta 0:00:01\r\u001b[K     |██████████████▉                 | 368 kB 11.9 MB/s eta 0:00:01\r\u001b[K     |███████████████▎                | 378 kB 11.9 MB/s eta 0:00:01\r\u001b[K     |███████████████▋                | 389 kB 11.9 MB/s eta 0:00:01\r\u001b[K     |████████████████                | 399 kB 11.9 MB/s eta 0:00:01\r\u001b[K     |████████████████▌               | 409 kB 11.9 MB/s eta 0:00:01\r\u001b[K     |████████████████▉               | 419 kB 11.9 MB/s eta 0:00:01\r\u001b[K     |█████████████████▎              | 430 kB 11.9 MB/s eta 0:00:01\r\u001b[K     |█████████████████▊              | 440 kB 11.9 MB/s eta 0:00:01\r\u001b[K     |██████████████████              | 450 kB 11.9 MB/s eta 0:00:01\r\u001b[K     |██████████████████▌             | 460 kB 11.9 MB/s eta 0:00:01\r\u001b[K     |███████████████████             | 471 kB 11.9 MB/s eta 0:00:01\r\u001b[K     |███████████████████▍            | 481 kB 11.9 MB/s eta 0:00:01\r\u001b[K     |███████████████████▊            | 491 kB 11.9 MB/s eta 0:00:01\r\u001b[K     |████████████████████▏           | 501 kB 11.9 MB/s eta 0:00:01\r\u001b[K     |████████████████████▋           | 512 kB 11.9 MB/s eta 0:00:01\r\u001b[K     |█████████████████████           | 522 kB 11.9 MB/s eta 0:00:01\r\u001b[K     |█████████████████████▍          | 532 kB 11.9 MB/s eta 0:00:01\r\u001b[K     |█████████████████████▉          | 542 kB 11.9 MB/s eta 0:00:01\r\u001b[K     |██████████████████████▏         | 552 kB 11.9 MB/s eta 0:00:01\r\u001b[K     |██████████████████████▋         | 563 kB 11.9 MB/s eta 0:00:01\r\u001b[K     |███████████████████████         | 573 kB 11.9 MB/s eta 0:00:01\r\u001b[K     |███████████████████████▌        | 583 kB 11.9 MB/s eta 0:00:01\r\u001b[K     |███████████████████████▉        | 593 kB 11.9 MB/s eta 0:00:01\r\u001b[K     |████████████████████████▎       | 604 kB 11.9 MB/s eta 0:00:01\r\u001b[K     |████████████████████████▊       | 614 kB 11.9 MB/s eta 0:00:01\r\u001b[K     |█████████████████████████       | 624 kB 11.9 MB/s eta 0:00:01\r\u001b[K     |█████████████████████████▌      | 634 kB 11.9 MB/s eta 0:00:01\r\u001b[K     |██████████████████████████      | 645 kB 11.9 MB/s eta 0:00:01\r\u001b[K     |██████████████████████████▎     | 655 kB 11.9 MB/s eta 0:00:01\r\u001b[K     |██████████████████████████▊     | 665 kB 11.9 MB/s eta 0:00:01\r\u001b[K     |███████████████████████████▏    | 675 kB 11.9 MB/s eta 0:00:01\r\u001b[K     |███████████████████████████▋    | 686 kB 11.9 MB/s eta 0:00:01\r\u001b[K     |████████████████████████████    | 696 kB 11.9 MB/s eta 0:00:01\r\u001b[K     |████████████████████████████▍   | 706 kB 11.9 MB/s eta 0:00:01\r\u001b[K     |████████████████████████████▉   | 716 kB 11.9 MB/s eta 0:00:01\r\u001b[K     |█████████████████████████████▏  | 727 kB 11.9 MB/s eta 0:00:01\r\u001b[K     |█████████████████████████████▋  | 737 kB 11.9 MB/s eta 0:00:01\r\u001b[K     |██████████████████████████████  | 747 kB 11.9 MB/s eta 0:00:01\r\u001b[K     |██████████████████████████████▌ | 757 kB 11.9 MB/s eta 0:00:01\r\u001b[K     |██████████████████████████████▉ | 768 kB 11.9 MB/s eta 0:00:01\r\u001b[K     |███████████████████████████████▎| 778 kB 11.9 MB/s eta 0:00:01\r\u001b[K     |███████████████████████████████▊| 788 kB 11.9 MB/s eta 0:00:01\r\u001b[K     |████████████████████████████████| 796 kB 11.9 MB/s \n",
            "\u001b[?25hBuilding wheels for collected packages: ibm-db\n",
            "  Building wheel for ibm-db (setup.py) ... \u001b[?25l\u001b[?25hdone\n",
            "  Created wheel for ibm-db: filename=ibm_db-3.0.4-cp37-cp37m-linux_x86_64.whl size=40999841 sha256=1e8d76fac781306f9facc15424533f76cb261c39f01b4bd0bc1c2f5ce3a0bf6c\n",
            "  Stored in directory: /root/.cache/pip/wheels/f4/46/2e/08b8d4903c892964edb8279f98da26d0d2d804054d2858ea46\n",
            "Successfully built ibm-db\n",
            "Installing collected packages: ibm-db\n",
            "Successfully installed ibm-db-3.0.4\n"
          ],
          "name": "stdout"
        }
      ]
    },
    {
      "cell_type": "code",
      "metadata": {
        "id": "Bw4etvS9oXYM"
      },
      "source": [
        "import ibm_db"
      ],
      "execution_count": 2,
      "outputs": []
    },
    {
      "cell_type": "markdown",
      "metadata": {
        "id": "TeZVZbgsoXYM"
      },
      "source": [
        "When the command above completes, the `ibm_db` library is loaded in your notebook.\n",
        "\n",
        "## Identify the database connection credentials\n",
        "\n",
        "Connecting to dashDB or DB2 database requires the following information:\n",
        "\n",
        "*   Driver Name\n",
        "*   Database name\n",
        "*   Host DNS name or IP address\n",
        "*   Host port\n",
        "*   Connection protocol\n",
        "*   User ID (or username)\n",
        "*   User Password\n",
        "\n",
        "**Notice:** To obtain credentials please refer to the instructions given in the first Lab of this course\n",
        "\n",
        "Now enter your database credentials below and execute the cell with `Shift` + `Enter`\n"
      ]
    },
    {
      "cell_type": "code",
      "metadata": {
        "id": "Rxay6xt6oXYN"
      },
      "source": [
        "#Replace the placeholder values with your actual Db2 hostname, username, and password:\n",
        "dsn_hostname = \"0c77d6f2-5da9-48a9-81f8-86b520b87518.bs2io90l08kqb1od8lcg.databases.appdomain.cloud\" # e.g.: \"54a2f15b-5c0f-46df-8954-7e38e612c2bd.c1ogj3sd0tgtu0lqde00.databases.appdomain.cloud\"\n",
        "dsn_uid = \"nwp26832\"        # e.g. \"abc12345\"\n",
        "dsn_pwd = \"p9agypBYRIRHlYDJ\"      # e.g. \"7dBZ3wWt9XN6$o0J\"\n",
        "\n",
        "dsn_driver = \"{IBM DB2 ODBC DRIVER}\"\n",
        "dsn_database = \"BLUDB\"            # e.g. \"BLUDB\"\n",
        "dsn_port = \"31198\"                # e.g. \"32733\" \n",
        "dsn_protocol = \"TCPIP\"            # i.e. \"TCPIP\"\n",
        "dsn_security = \"SSL\"              #i.e. \"SSL\""
      ],
      "execution_count": 3,
      "outputs": []
    },
    {
      "cell_type": "markdown",
      "metadata": {
        "id": "lT8tnGW1oXYN"
      },
      "source": [
        "## Create the DB2 database connection\n",
        "\n",
        "Ibm_db API uses the IBM Data Server Driver for ODBC and CLI APIs to connect to IBM DB2 and Informix.\n",
        "\n",
        "Lets build the dsn connection string using the credentials you entered above\n"
      ]
    },
    {
      "cell_type": "code",
      "metadata": {
        "colab": {
          "base_uri": "https://localhost:8080/"
        },
        "id": "MoAAhdNuoXYN",
        "outputId": "74e044dd-09e3-4997-85bb-40de89087d54"
      },
      "source": [
        "#DO NOT MODIFY THIS CELL. Just RUN it with Shift + Enter\n",
        "#Create the dsn connection string\n",
        "dsn = (\n",
        "    \"DRIVER={0};\"\n",
        "    \"DATABASE={1};\"\n",
        "    \"HOSTNAME={2};\"\n",
        "    \"PORT={3};\"\n",
        "    \"PROTOCOL={4};\"\n",
        "    \"UID={5};\"\n",
        "    \"PWD={6};\"\n",
        "    \"SECURITY={7};\").format(dsn_driver, dsn_database, dsn_hostname, dsn_port, dsn_protocol, dsn_uid, dsn_pwd,dsn_security)\n",
        "\n",
        "#print the connection string to check correct values are specified\n",
        "print(dsn)"
      ],
      "execution_count": 4,
      "outputs": [
        {
          "output_type": "stream",
          "text": [
            "DRIVER={IBM DB2 ODBC DRIVER};DATABASE=BLUDB;HOSTNAME=0c77d6f2-5da9-48a9-81f8-86b520b87518.bs2io90l08kqb1od8lcg.databases.appdomain.cloud;PORT=31198;PROTOCOL=TCPIP;UID=nwp26832;PWD=p9agypBYRIRHlYDJ;SECURITY=SSL;\n"
          ],
          "name": "stdout"
        }
      ]
    },
    {
      "cell_type": "markdown",
      "metadata": {
        "id": "SAranksjoXYO"
      },
      "source": [
        "Now establish the connection to the database\n"
      ]
    },
    {
      "cell_type": "code",
      "metadata": {
        "colab": {
          "base_uri": "https://localhost:8080/"
        },
        "id": "Bbden-sjoXYO",
        "outputId": "84b0f024-311b-484d-e6f5-2c73b9efd5cc"
      },
      "source": [
        "#DO NOT MODIFY THIS CELL. Just RUN it with Shift + Enter\n",
        "#Create database connection\n",
        "\n",
        "try:\n",
        "    conn = ibm_db.connect(dsn, \"\", \"\")\n",
        "    print (\"Connected to database: \", dsn_database, \"as user: \", dsn_uid, \"on host: \", dsn_hostname)\n",
        "\n",
        "except:\n",
        "    print (\"Unable to connect: \", ibm_db.conn_errormsg() )\n"
      ],
      "execution_count": 5,
      "outputs": [
        {
          "output_type": "stream",
          "text": [
            "Connected to database:  BLUDB as user:  nwp26832 on host:  0c77d6f2-5da9-48a9-81f8-86b520b87518.bs2io90l08kqb1od8lcg.databases.appdomain.cloud\n"
          ],
          "name": "stdout"
        }
      ]
    },
    {
      "cell_type": "markdown",
      "metadata": {
        "id": "2vkM6nrJoXYP"
      },
      "source": [
        "Congratulations if you were able to connect successfuly. Otherwise check the error and try again.\n"
      ]
    },
    {
      "cell_type": "code",
      "metadata": {
        "colab": {
          "base_uri": "https://localhost:8080/"
        },
        "id": "cjHf_uYyoXYP",
        "outputId": "4a9481a5-e094-44e9-9d06-282983b62900"
      },
      "source": [
        "#Retrieve Metadata for the Database Server\n",
        "server = ibm_db.server_info(conn)\n",
        "\n",
        "print (\"DBMS_NAME: \", server.DBMS_NAME)\n",
        "print (\"DBMS_VER:  \", server.DBMS_VER)\n",
        "print (\"DB_NAME:   \", server.DB_NAME)"
      ],
      "execution_count": 6,
      "outputs": [
        {
          "output_type": "stream",
          "text": [
            "DBMS_NAME:  DB2/LINUXX8664\n",
            "DBMS_VER:   11.05.0500\n",
            "DB_NAME:    BLUDB\n"
          ],
          "name": "stdout"
        }
      ]
    },
    {
      "cell_type": "code",
      "metadata": {
        "colab": {
          "base_uri": "https://localhost:8080/"
        },
        "id": "dFaVpI36oXYP",
        "outputId": "bd1cb509-2c6b-4804-d9ff-e58c9dbde38b"
      },
      "source": [
        "#Retrieve Metadata for the Database Client / Driver\n",
        "client = ibm_db.client_info(conn)\n",
        "\n",
        "print (\"DRIVER_NAME:          \", client.DRIVER_NAME) \n",
        "print (\"DRIVER_VER:           \", client.DRIVER_VER)\n",
        "print (\"DATA_SOURCE_NAME:     \", client.DATA_SOURCE_NAME)\n",
        "print (\"DRIVER_ODBC_VER:      \", client.DRIVER_ODBC_VER)\n",
        "print (\"ODBC_VER:             \", client.ODBC_VER)\n",
        "print (\"ODBC_SQL_CONFORMANCE: \", client.ODBC_SQL_CONFORMANCE)\n",
        "print (\"APPL_CODEPAGE:        \", client.APPL_CODEPAGE)\n",
        "print (\"CONN_CODEPAGE:        \", client.CONN_CODEPAGE)"
      ],
      "execution_count": 7,
      "outputs": [
        {
          "output_type": "stream",
          "text": [
            "DRIVER_NAME:           libdb2.a\n",
            "DRIVER_VER:            11.05.0500\n",
            "DATA_SOURCE_NAME:      BLUDB\n",
            "DRIVER_ODBC_VER:       03.51\n",
            "ODBC_VER:              03.01.0000\n",
            "ODBC_SQL_CONFORMANCE:  EXTENDED\n",
            "APPL_CODEPAGE:         1208\n",
            "CONN_CODEPAGE:         1208\n"
          ],
          "name": "stdout"
        }
      ]
    },
    {
      "cell_type": "markdown",
      "metadata": {
        "id": "-UZ64OA1oXYP"
      },
      "source": [
        "## Close the Connection\n",
        "\n",
        "We free all resources by closing the connection. Remember that it is always important to close connections so that we can avoid unused connections taking up resources.\n"
      ]
    },
    {
      "cell_type": "code",
      "metadata": {
        "id": "RVtoNU1soXYQ"
      },
      "source": [
        "ibm_db.close(conn)"
      ],
      "execution_count": null,
      "outputs": []
    },
    {
      "cell_type": "markdown",
      "metadata": {
        "id": "49pFfuoSoXYQ"
      },
      "source": [
        "## Summary\n",
        "\n",
        "In this tutorial you established a connection to a DB2 database on Cloud database from a Python notebook using ibm_db API.\n"
      ]
    },
    {
      "cell_type": "markdown",
      "metadata": {
        "id": "9JoWu9TkoXYQ"
      },
      "source": [
        "## Author\n",
        "\n",
        "<a href=\"https://www.linkedin.com/in/wolehat/\">Oluwole Fagbohun</a>\n",
        "\n",
        "\n"
      ]
    }
  ]
}
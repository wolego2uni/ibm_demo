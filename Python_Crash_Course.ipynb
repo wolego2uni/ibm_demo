{
  "nbformat": 4,
  "nbformat_minor": 0,
  "metadata": {
    "colab": {
      "name": "Python Crash Course.ipynb",
      "provenance": [],
      "collapsed_sections": [],
      "include_colab_link": true
    },
    "kernelspec": {
      "name": "python3",
      "display_name": "Python 3"
    }
  },
  "cells": [
    {
      "cell_type": "markdown",
      "metadata": {
        "id": "view-in-github",
        "colab_type": "text"
      },
      "source": [
        "<a href=\"https://colab.research.google.com/github/wolego2uni/ibm_demo/blob/main/Python_Crash_Course.ipynb\" target=\"_parent\"><img src=\"https://colab.research.google.com/assets/colab-badge.svg\" alt=\"Open In Colab\"/></a>"
      ]
    },
    {
      "cell_type": "markdown",
      "metadata": {
        "id": "bRxmqZOhWY87"
      },
      "source": [
        "# Python Beginners Tutorial\n",
        "\n"
      ]
    },
    {
      "cell_type": "markdown",
      "metadata": {
        "id": "zimA9OEsXOLW"
      },
      "source": [
        "### Let's start with Simple Variables\n",
        "\n",
        "**Variables** can be considered a container that holds or stores a peice of **information** from numbers to text. \n"
      ]
    },
    {
      "cell_type": "code",
      "metadata": {
        "id": "pV1YfnLSXOq6",
        "colab": {
          "base_uri": "https://localhost:8080/"
        },
        "outputId": "946467ba-d308-4514-9f0a-c1b11c1b3ed5"
      },
      "source": [
        "# Storing a number\n",
        "a = 14\n",
        "print(a)"
      ],
      "execution_count": 159,
      "outputs": [
        {
          "output_type": "stream",
          "text": [
            "14\n"
          ],
          "name": "stdout"
        }
      ]
    },
    {
      "cell_type": "code",
      "metadata": {
        "id": "DkD4O1acWix8",
        "colab": {
          "base_uri": "https://localhost:8080/"
        },
        "outputId": "3e7d1674-959c-4105-cc3a-abc646cf592b"
      },
      "source": [
        "# Or text\n",
        "b = \"This is some text\"\n",
        "print(b)"
      ],
      "execution_count": 160,
      "outputs": [
        {
          "output_type": "stream",
          "text": [
            "This is some text\n"
          ],
          "name": "stdout"
        }
      ]
    },
    {
      "cell_type": "markdown",
      "metadata": {
        "id": "R0QT0wxIXggf"
      },
      "source": [
        "### What can we do with variables?"
      ]
    },
    {
      "cell_type": "code",
      "metadata": {
        "id": "eEqpciAiXjCZ",
        "colab": {
          "base_uri": "https://localhost:8080/"
        },
        "outputId": "7ceab7be-a36c-4a52-fdf5-f69faab4e96f"
      },
      "source": [
        "# Let's add them together\n",
        "a = 14\n",
        "c = 3\n",
        "d = a + c\n",
        "print(d)"
      ],
      "execution_count": 161,
      "outputs": [
        {
          "output_type": "stream",
          "text": [
            "17\n"
          ],
          "name": "stdout"
        }
      ]
    },
    {
      "cell_type": "code",
      "metadata": {
        "id": "d9w3MZg-XMqt",
        "colab": {
          "base_uri": "https://localhost:8080/"
        },
        "outputId": "9d379e9a-0602-4c8e-c9ad-c0de946c7b26"
      },
      "source": [
        "# Or\n",
        "print(a+c)"
      ],
      "execution_count": 162,
      "outputs": [
        {
          "output_type": "stream",
          "text": [
            "17\n"
          ],
          "name": "stdout"
        }
      ]
    },
    {
      "cell_type": "code",
      "metadata": {
        "id": "pPUxe1beWcDX",
        "colab": {
          "base_uri": "https://localhost:8080/"
        },
        "outputId": "582bec5e-687c-490c-fbf2-1f3214fc6ef6"
      },
      "source": [
        "# Can we change variable values?\n",
        "a = 18\n",
        "print(a)"
      ],
      "execution_count": 163,
      "outputs": [
        {
          "output_type": "stream",
          "text": [
            "18\n"
          ],
          "name": "stdout"
        }
      ]
    },
    {
      "cell_type": "code",
      "metadata": {
        "id": "ZYe3vqeQXznr",
        "colab": {
          "base_uri": "https://localhost:8080/"
        },
        "outputId": "dcb355d2-0bb9-45ea-95e3-79c385ddd438"
      },
      "source": [
        "# Equating or copying variables\n",
        "e = a\n",
        "print(e)"
      ],
      "execution_count": 164,
      "outputs": [
        {
          "output_type": "stream",
          "text": [
            "18\n"
          ],
          "name": "stdout"
        }
      ]
    },
    {
      "cell_type": "code",
      "metadata": {
        "id": "jzgNJ_MLX8a3",
        "colab": {
          "base_uri": "https://localhost:8080/"
        },
        "outputId": "41a4fbee-8fdf-42ae-c23f-1d5b2388ffcf"
      },
      "source": [
        "# Types of Varaibles\n",
        "\n",
        "# Integer variable\n",
        "a = 1\n",
        "print(a)\n",
        "print(type(a))\n",
        "\n",
        "# Float variable (Non integer digits)\n",
        "a = 5.0\n",
        "print(a)\n",
        "print(type(a))\n",
        "\n",
        "# Boolean variable (True or False)\n",
        "a = True\n",
        "print(a)\n",
        "print(type(a))\n",
        "\n",
        "# Text variable also known as string variables\n",
        "a = \"7\" \n",
        "print(a)\n",
        "print(type(a))"
      ],
      "execution_count": 165,
      "outputs": [
        {
          "output_type": "stream",
          "text": [
            "1\n",
            "<class 'int'>\n",
            "5.0\n",
            "<class 'float'>\n",
            "True\n",
            "<class 'bool'>\n",
            "7\n",
            "<class 'str'>\n"
          ],
          "name": "stdout"
        }
      ]
    },
    {
      "cell_type": "code",
      "metadata": {
        "id": "fzBecq7OYWl1",
        "colab": {
          "base_uri": "https://localhost:8080/"
        },
        "outputId": "8f9f1eba-364b-4e4c-8e48-e6ab6accb468"
      },
      "source": [
        "# Be careful with variable operations \n",
        "\n",
        "x = 15\n",
        "y = 4\n",
        "z = x + y\n",
        "print(z)\n",
        "print(type(z))\n",
        "\n",
        "# string variables\n",
        "x = \"1\"\n",
        "y = \"2\"\n",
        "z = x + y\n",
        "print(z)\n",
        "print(type(z))"
      ],
      "execution_count": 166,
      "outputs": [
        {
          "output_type": "stream",
          "text": [
            "19\n",
            "<class 'int'>\n",
            "12\n",
            "<class 'str'>\n"
          ],
          "name": "stdout"
        }
      ]
    },
    {
      "cell_type": "markdown",
      "metadata": {
        "id": "WDOkE_pGY8j_"
      },
      "source": [
        "### Array or List Variables\n",
        "**Arrays or Lists** are extremely useful in programming. Think of them as containers with different compartment, where each compartment stores another variable."
      ]
    },
    {
      "cell_type": "code",
      "metadata": {
        "id": "ePI9jV8gZP3Y",
        "colab": {
          "base_uri": "https://localhost:8080/"
        },
        "outputId": "6e122e67-e5a9-44dd-bf18-2ec7d2982a53"
      },
      "source": [
        "# A Simple array or integers\n",
        "a = [1,2,3]\n",
        "print(a)"
      ],
      "execution_count": 167,
      "outputs": [
        {
          "output_type": "stream",
          "text": [
            "[1, 2, 3]\n"
          ],
          "name": "stdout"
        }
      ]
    },
    {
      "cell_type": "code",
      "metadata": {
        "id": "2CEfuPglZDex",
        "colab": {
          "base_uri": "https://localhost:8080/"
        },
        "outputId": "73befcdb-6eb6-4c10-bfee-6b0e55c3ddff"
      },
      "source": [
        "# Storing variables of different types is possible\n",
        "b =  [\"Text\", 4, 2.5]\n",
        "print(b)"
      ],
      "execution_count": 168,
      "outputs": [
        {
          "output_type": "stream",
          "text": [
            "['Text', 4, 2.5]\n"
          ],
          "name": "stdout"
        }
      ]
    },
    {
      "cell_type": "code",
      "metadata": {
        "id": "pYkAvDCSYuXy",
        "colab": {
          "base_uri": "https://localhost:8080/"
        },
        "outputId": "ea81f657-ee9b-48e2-8836-e2b64f233712"
      },
      "source": [
        "# Indexing Lists or accessing specific variables/locations in the list\n",
        "\n",
        "# How to print the first element?\n",
        "print(a[0])\n",
        "print(a[1])\n",
        "print(a[2])\n",
        "# Note lists always start at index or position 0, so a list that holds 3 numbers can be indexed with 0,1 & 2"
      ],
      "execution_count": 169,
      "outputs": [
        {
          "output_type": "stream",
          "text": [
            "1\n",
            "2\n",
            "3\n"
          ],
          "name": "stdout"
        }
      ]
    },
    {
      "cell_type": "code",
      "metadata": {
        "id": "r2yL5VOMZ2xA",
        "colab": {
          "base_uri": "https://localhost:8080/"
        },
        "outputId": "c79dc282-b608-4340-8d79-50866edd20d2"
      },
      "source": [
        "# Storing more elements onto your list using *apend*\n",
        "\n",
        "a.append(4)\n",
        "print(a)"
      ],
      "execution_count": 170,
      "outputs": [
        {
          "output_type": "stream",
          "text": [
            "[1, 2, 3, 4]\n"
          ],
          "name": "stdout"
        }
      ]
    },
    {
      "cell_type": "code",
      "metadata": {
        "id": "PkLqatC9Z9b1",
        "colab": {
          "base_uri": "https://localhost:8080/"
        },
        "outputId": "94a31da3-24e6-4879-a828-9aea440012c3"
      },
      "source": [
        "# Getting our list length\n",
        "print(len(a))"
      ],
      "execution_count": 171,
      "outputs": [
        {
          "output_type": "stream",
          "text": [
            "4\n"
          ],
          "name": "stdout"
        }
      ]
    },
    {
      "cell_type": "code",
      "metadata": {
        "id": "8YqFs7x7aFiJ",
        "colab": {
          "base_uri": "https://localhost:8080/"
        },
        "outputId": "00a4a820-0aac-47e8-e26b-7cba352dfa70"
      },
      "source": [
        "# Changing the value of an element in a list\n",
        "\n",
        "a[3] = 5\n",
        "print(a)"
      ],
      "execution_count": 172,
      "outputs": [
        {
          "output_type": "stream",
          "text": [
            "[1, 2, 3, 5]\n"
          ],
          "name": "stdout"
        }
      ]
    },
    {
      "cell_type": "code",
      "metadata": {
        "id": "ASXqbJojaNcI",
        "colab": {
          "base_uri": "https://localhost:8080/"
        },
        "outputId": "5fed5d61-83f0-4d5a-95f9-e39637110ebb"
      },
      "source": [
        "# Slicing lists is a technique used to get elements from, before or between different indices\n",
        "\n",
        "print(\"All elelemts: \", a[:])\n",
        "print(\"All elements from the 3rd position onward: \", a[2:])\n",
        "print(\"All elements between the 2nd and 4th position: \", a[1:3])\n",
        "print(\"All elements before the last postion\", a[:-1])\n",
        "\n",
        "# Very useful guide:\n",
        "\n",
        "#a[start:stop]  # items start through stop-1\n",
        "#a[start:]      # items start through the rest of the array\n",
        "#a[:stop]       # items from the beginning through stop-1\n",
        "#a[:]           # a copy of the whole array"
      ],
      "execution_count": 173,
      "outputs": [
        {
          "output_type": "stream",
          "text": [
            "All elelemts:  [1, 2, 3, 5]\n",
            "All elements from the 3rd position onward:  [3, 5]\n",
            "All elements between the 2nd and 4th position:  [2, 3]\n",
            "All elements before the last postion [1, 2, 3]\n"
          ],
          "name": "stdout"
        }
      ]
    },
    {
      "cell_type": "markdown",
      "metadata": {
        "id": "X4TL4IY0dwpL"
      },
      "source": [
        "## Dictionaries, the other very useful data type\n",
        "**Dictionaries** are python objects that store **key:value** pairs of data."
      ]
    },
    {
      "cell_type": "code",
      "metadata": {
        "id": "QK9owVwta_vz",
        "colab": {
          "base_uri": "https://localhost:8080/"
        },
        "outputId": "8887a16e-525c-4c89-fae4-79e767b08729"
      },
      "source": [
        "# Creating a dictionary\n",
        "country_info = {\"name\": \"Japan\",\n",
        "        \"capital\": \"Tokyo\"}\n",
        "\n",
        "print(country_info)\n",
        "# print(country_info[\"name\"])\n",
        "# print(country_info[\"capital\"])"
      ],
      "execution_count": 174,
      "outputs": [
        {
          "output_type": "stream",
          "text": [
            "{'name': 'Japan', 'capital': 'Tokyo'}\n"
          ],
          "name": "stdout"
        }
      ]
    },
    {
      "cell_type": "code",
      "metadata": {
        "colab": {
          "base_uri": "https://localhost:8080/"
        },
        "id": "Yp9YIYPyi70X",
        "outputId": "679592c1-4ce2-4f1d-fa3c-4eb34dee0b30"
      },
      "source": [
        "print(country_info['capital'])"
      ],
      "execution_count": 175,
      "outputs": [
        {
          "output_type": "stream",
          "text": [
            "Tokyo\n"
          ],
          "name": "stdout"
        }
      ]
    },
    {
      "cell_type": "code",
      "metadata": {
        "colab": {
          "base_uri": "https://localhost:8080/"
        },
        "id": "xTwq_0PdjDG1",
        "outputId": "9c97ee82-4e0b-4489-c01e-8183e9744e8b"
      },
      "source": [
        "print(country_info['capital'])"
      ],
      "execution_count": 176,
      "outputs": [
        {
          "output_type": "stream",
          "text": [
            "Tokyo\n"
          ],
          "name": "stdout"
        }
      ]
    },
    {
      "cell_type": "code",
      "metadata": {
        "id": "D57XXUTFeoA2",
        "colab": {
          "base_uri": "https://localhost:8080/"
        },
        "outputId": "e01e7b98-1b19-4d9e-86c7-b4fc7c81ca81"
      },
      "source": [
        "# We can store multiple values and easily add information to our dictionary\n",
        "\n",
        "country_info['population'] = '126.8M'\n",
        "print(country_info)"
      ],
      "execution_count": 177,
      "outputs": [
        {
          "output_type": "stream",
          "text": [
            "{'name': 'Japan', 'capital': 'Tokyo', 'population': '126.8M'}\n"
          ],
          "name": "stdout"
        }
      ]
    },
    {
      "cell_type": "code",
      "metadata": {
        "id": "-YxNH48re-JW",
        "colab": {
          "base_uri": "https://localhost:8080/"
        },
        "outputId": "a5b70093-30e2-4b07-d0f1-d18ee87ea1e4"
      },
      "source": [
        "# We can also change values easily\n",
        "\n",
        "country_info['population'] = '100M'\n",
        "print(country_info)"
      ],
      "execution_count": 178,
      "outputs": [
        {
          "output_type": "stream",
          "text": [
            "{'name': 'Japan', 'capital': 'Tokyo', 'population': '100M'}\n"
          ],
          "name": "stdout"
        }
      ]
    },
    {
      "cell_type": "code",
      "metadata": {
        "colab": {
          "base_uri": "https://localhost:8080/"
        },
        "id": "LXQzr4FbjYO1",
        "outputId": "896e0176-c2b3-4699-cc0f-ac0df49d233e"
      },
      "source": [
        "print(country_info['population'] )"
      ],
      "execution_count": 179,
      "outputs": [
        {
          "output_type": "stream",
          "text": [
            "100M\n"
          ],
          "name": "stdout"
        }
      ]
    },
    {
      "cell_type": "code",
      "metadata": {
        "id": "EY0CFm0yfMhl",
        "colab": {
          "base_uri": "https://localhost:8080/"
        },
        "outputId": "97dcee50-bec0-46fd-c370-1591028a2d6d"
      },
      "source": [
        "# Values can be of any data type\n",
        "\n",
        "country_info['regions'] = ['Hokkaido', 'Tohoku', 'Kanto', 'Chubu', 'Kinki', 'Chugoku', 'Shikoku', 'Kyushu-Okinawa']\n",
        "print(country_info)"
      ],
      "execution_count": 180,
      "outputs": [
        {
          "output_type": "stream",
          "text": [
            "{'name': 'Japan', 'capital': 'Tokyo', 'population': '100M', 'regions': ['Hokkaido', 'Tohoku', 'Kanto', 'Chubu', 'Kinki', 'Chugoku', 'Shikoku', 'Kyushu-Okinawa']}\n"
          ],
          "name": "stdout"
        }
      ]
    },
    {
      "cell_type": "code",
      "metadata": {
        "colab": {
          "base_uri": "https://localhost:8080/"
        },
        "id": "nJpIMl7pjeLt",
        "outputId": "9392197d-1b92-42ee-8f19-6e18f67ea3d1"
      },
      "source": [
        "print(country_info)"
      ],
      "execution_count": 181,
      "outputs": [
        {
          "output_type": "stream",
          "text": [
            "{'name': 'Japan', 'capital': 'Tokyo', 'population': '100M', 'regions': ['Hokkaido', 'Tohoku', 'Kanto', 'Chubu', 'Kinki', 'Chugoku', 'Shikoku', 'Kyushu-Okinawa']}\n"
          ],
          "name": "stdout"
        }
      ]
    },
    {
      "cell_type": "code",
      "metadata": {
        "id": "AvpiV2SRftmu",
        "colab": {
          "base_uri": "https://localhost:8080/"
        },
        "outputId": "cac7164b-e786-4944-8223-43bea2c21464"
      },
      "source": [
        "# Values can be of any data type - Even Dictionaries, these are called nested dictionaries\n",
        "\n",
        "country_info['health'] = {\"life_expectancy\": 84.1, \"birth_rate\": 1.44}\n",
        "print(country_info)"
      ],
      "execution_count": 182,
      "outputs": [
        {
          "output_type": "stream",
          "text": [
            "{'name': 'Japan', 'capital': 'Tokyo', 'population': '100M', 'regions': ['Hokkaido', 'Tohoku', 'Kanto', 'Chubu', 'Kinki', 'Chugoku', 'Shikoku', 'Kyushu-Okinawa'], 'health': {'life_expectancy': 84.1, 'birth_rate': 1.44}}\n"
          ],
          "name": "stdout"
        }
      ]
    },
    {
      "cell_type": "code",
      "metadata": {
        "id": "TDCk7sg2dK1p",
        "colab": {
          "base_uri": "https://localhost:8080/"
        },
        "outputId": "9cca5ee0-748f-4597-9203-6473fcfc88b3"
      },
      "source": [
        "import pprint\n",
        "\n",
        "print(country_info)"
      ],
      "execution_count": 183,
      "outputs": [
        {
          "output_type": "stream",
          "text": [
            "{'name': 'Japan', 'capital': 'Tokyo', 'population': '100M', 'regions': ['Hokkaido', 'Tohoku', 'Kanto', 'Chubu', 'Kinki', 'Chugoku', 'Shikoku', 'Kyushu-Okinawa'], 'health': {'life_expectancy': 84.1, 'birth_rate': 1.44}}\n"
          ],
          "name": "stdout"
        }
      ]
    },
    {
      "cell_type": "code",
      "metadata": {
        "id": "wYaLR6ALgnIq",
        "colab": {
          "base_uri": "https://localhost:8080/"
        },
        "outputId": "8ede57de-8ab9-4862-a0d9-2ae825b24c47"
      },
      "source": [
        "# Accessing data in our nested dictionary\n",
        "\n",
        "country_info['health']['life_expectancy']"
      ],
      "execution_count": 184,
      "outputs": [
        {
          "output_type": "execute_result",
          "data": {
            "text/plain": [
              "84.1"
            ]
          },
          "metadata": {
            "tags": []
          },
          "execution_count": 184
        }
      ]
    },
    {
      "cell_type": "code",
      "metadata": {
        "colab": {
          "base_uri": "https://localhost:8080/"
        },
        "id": "meJ8bKfwkjRq",
        "outputId": "9c61a94c-cb8d-4cef-9e23-f98b107b85aa"
      },
      "source": [
        "country_info.keys()"
      ],
      "execution_count": 185,
      "outputs": [
        {
          "output_type": "execute_result",
          "data": {
            "text/plain": [
              "dict_keys(['name', 'capital', 'population', 'regions', 'health'])"
            ]
          },
          "metadata": {
            "tags": []
          },
          "execution_count": 185
        }
      ]
    },
    {
      "cell_type": "code",
      "metadata": {
        "id": "J1xtocJrdsbj",
        "colab": {
          "base_uri": "https://localhost:8080/"
        },
        "outputId": "5143f359-8aaf-4c7c-aa6c-666089d8152d"
      },
      "source": [
        "country_info.values()"
      ],
      "execution_count": 186,
      "outputs": [
        {
          "output_type": "execute_result",
          "data": {
            "text/plain": [
              "dict_values(['Japan', 'Tokyo', '100M', ['Hokkaido', 'Tohoku', 'Kanto', 'Chubu', 'Kinki', 'Chugoku', 'Shikoku', 'Kyushu-Okinawa'], {'life_expectancy': 84.1, 'birth_rate': 1.44}])"
            ]
          },
          "metadata": {
            "tags": []
          },
          "execution_count": 186
        }
      ]
    },
    {
      "cell_type": "markdown",
      "metadata": {
        "id": "tBMyCaI4gzu9"
      },
      "source": [
        "# Conditional Statements - If & Else\n",
        "\n",
        "If statements will prove invaluable in programming when handling siutations where decisions need to be made"
      ]
    },
    {
      "cell_type": "code",
      "metadata": {
        "id": "p180-t79gtHU",
        "colab": {
          "base_uri": "https://localhost:8080/"
        },
        "outputId": "506aff59-7625-4ba6-bdb9-c9e95de2214e"
      },
      "source": [
        "# Using the if statement\n",
        "\n",
        "x = 19\n",
        "\n",
        "if x < 10:\n",
        "    print(\"less than 10\")\n",
        "else:\n",
        "  print(\"over 10\")"
      ],
      "execution_count": 187,
      "outputs": [
        {
          "output_type": "stream",
          "text": [
            "over 10\n"
          ],
          "name": "stdout"
        }
      ]
    },
    {
      "cell_type": "code",
      "metadata": {
        "colab": {
          "base_uri": "https://localhost:8080/"
        },
        "id": "7YnC0OmvmNhj",
        "outputId": "2d370a2f-6453-4d69-ecc5-8e0c8cd252f7"
      },
      "source": [
        "x = 15 \n",
        "if x<10:\n",
        "  print('a')\n",
        "elif x>10 and x<=19:\n",
        "  print('b')\n",
        "    "
      ],
      "execution_count": 188,
      "outputs": [
        {
          "output_type": "stream",
          "text": [
            "b\n"
          ],
          "name": "stdout"
        }
      ]
    },
    {
      "cell_type": "code",
      "metadata": {
        "id": "dFFVcDaAhuhn",
        "colab": {
          "base_uri": "https://localhost:8080/"
        },
        "outputId": "e3fcac1c-7d50-4297-d22c-511fc962ed2c"
      },
      "source": [
        "x = 29\n",
        "\n",
        "if x < 10:\n",
        "    print(\"less than 10\")\n",
        "elif x > 10 and x <= 19:\n",
        "    print(\"greater than zero but less than 10\")\n",
        "else:\n",
        "    print(\"over 20\")"
      ],
      "execution_count": 189,
      "outputs": [
        {
          "output_type": "stream",
          "text": [
            "over 20\n"
          ],
          "name": "stdout"
        }
      ]
    },
    {
      "cell_type": "code",
      "metadata": {
        "id": "NQv4SZENhgLV",
        "colab": {
          "base_uri": "https://localhost:8080/"
        },
        "outputId": "4f833d15-8daa-4b0f-d0eb-e31b94ccb191"
      },
      "source": [
        "# Using booleans of conditional statements\n",
        "\n",
        "a = True\n",
        "if a:\n",
        "  print(\"statement was true\")"
      ],
      "execution_count": 190,
      "outputs": [
        {
          "output_type": "stream",
          "text": [
            "statement was true\n"
          ],
          "name": "stdout"
        }
      ]
    },
    {
      "cell_type": "markdown",
      "metadata": {
        "id": "kLg-FVSMiall"
      },
      "source": [
        "# Loops\n",
        "\n",
        "Loops are another invaluable tool in programming, let's look at a few ways we can implement loops in Python"
      ]
    },
    {
      "cell_type": "code",
      "metadata": {
        "colab": {
          "base_uri": "https://localhost:8080/"
        },
        "id": "Ia0_B5Nzn0fM",
        "outputId": "cf2192fc-3e58-455c-ea14-21504c38d4de"
      },
      "source": [
        "list(range(1,5))"
      ],
      "execution_count": 191,
      "outputs": [
        {
          "output_type": "execute_result",
          "data": {
            "text/plain": [
              "[1, 2, 3, 4]"
            ]
          },
          "metadata": {
            "tags": []
          },
          "execution_count": 191
        }
      ]
    },
    {
      "cell_type": "code",
      "metadata": {
        "colab": {
          "base_uri": "https://localhost:8080/"
        },
        "id": "eDEnw-2HoErL",
        "outputId": "7564f66c-bc7a-4f63-ae73-362c5211bdf1"
      },
      "source": [
        "for i in range(1,5):\n",
        "  print(i+1)"
      ],
      "execution_count": 192,
      "outputs": [
        {
          "output_type": "stream",
          "text": [
            "2\n",
            "3\n",
            "4\n",
            "5\n"
          ],
          "name": "stdout"
        }
      ]
    },
    {
      "cell_type": "code",
      "metadata": {
        "colab": {
          "base_uri": "https://localhost:8080/"
        },
        "id": "d7j3Yu9yn26v",
        "outputId": "7a52d154-a019-4e69-c0c4-ae0a0db7501e"
      },
      "source": [
        "list"
      ],
      "execution_count": 193,
      "outputs": [
        {
          "output_type": "execute_result",
          "data": {
            "text/plain": [
              "list"
            ]
          },
          "metadata": {
            "tags": []
          },
          "execution_count": 193
        }
      ]
    },
    {
      "cell_type": "code",
      "metadata": {
        "id": "ZZ5ogCPfiYI6",
        "colab": {
          "base_uri": "https://localhost:8080/"
        },
        "outputId": "e1b4df90-e455-4052-a8e3-904241069569"
      },
      "source": [
        "# Using the range function\n",
        "\n",
        "print(list(range(5)))\n",
        "\n",
        "# Or\n",
        "\n",
        "print(list(range(1,5)))"
      ],
      "execution_count": 194,
      "outputs": [
        {
          "output_type": "stream",
          "text": [
            "[0, 1, 2, 3, 4]\n",
            "[1, 2, 3, 4]\n"
          ],
          "name": "stdout"
        }
      ]
    },
    {
      "cell_type": "code",
      "metadata": {
        "id": "JBU80c3oipiM",
        "colab": {
          "base_uri": "https://localhost:8080/"
        },
        "outputId": "90902e0e-73e7-4f32-fd56-86abb758b7e6"
      },
      "source": [
        "for i in range(0,5):\n",
        "  print(i)"
      ],
      "execution_count": 195,
      "outputs": [
        {
          "output_type": "stream",
          "text": [
            "0\n",
            "1\n",
            "2\n",
            "3\n",
            "4\n"
          ],
          "name": "stdout"
        }
      ]
    },
    {
      "cell_type": "code",
      "metadata": {
        "id": "5M3Hw2J_i9Rr",
        "colab": {
          "base_uri": "https://localhost:8080/"
        },
        "outputId": "2987dc34-cedc-4369-f98f-d68dfb9e33ee"
      },
      "source": [
        "# Python allows us to directly loop through items in a list\n",
        "\n",
        "items = ['a','b', 'c', 'd']\n",
        "for item in items:\n",
        "  print(item)"
      ],
      "execution_count": 196,
      "outputs": [
        {
          "output_type": "stream",
          "text": [
            "a\n",
            "b\n",
            "c\n",
            "d\n"
          ],
          "name": "stdout"
        }
      ]
    },
    {
      "cell_type": "code",
      "metadata": {
        "id": "RLmP9dWPjpho",
        "colab": {
          "base_uri": "https://localhost:8080/"
        },
        "outputId": "a5e65917-57ae-409d-c579-597b76c66165"
      },
      "source": [
        "# Incrementing variables in loops and storing them in a list\n",
        "\n",
        "x = 0\n",
        "collecting_values_of_x = []\n",
        "\n",
        "items = ['a','b', 'c', 'd']\n",
        "for item in items:\n",
        "  x += 1\n",
        "  print(x, item)\n",
        "  collecting_values_of_x.append(x)\n",
        "\n",
        "print(collecting_values_of_x)"
      ],
      "execution_count": 197,
      "outputs": [
        {
          "output_type": "stream",
          "text": [
            "1 a\n",
            "2 b\n",
            "3 c\n",
            "4 d\n",
            "[1, 2, 3, 4]\n"
          ],
          "name": "stdout"
        }
      ]
    },
    {
      "cell_type": "code",
      "metadata": {
        "id": "m7PHFl_9jZOY",
        "colab": {
          "base_uri": "https://localhost:8080/"
        },
        "outputId": "bc951e4a-fcf6-4e89-b441-5063ca724204"
      },
      "source": [
        "# While loops\n",
        "\n",
        "x = 0\n",
        "while x < 5:\n",
        "    x += 1\n",
        "    print(x)"
      ],
      "execution_count": 198,
      "outputs": [
        {
          "output_type": "stream",
          "text": [
            "1\n",
            "2\n",
            "3\n",
            "4\n",
            "5\n"
          ],
          "name": "stdout"
        }
      ]
    },
    {
      "cell_type": "code",
      "metadata": {
        "id": "QV9S4x-xkEWW",
        "colab": {
          "base_uri": "https://localhost:8080/"
        },
        "outputId": "377c9ad1-b202-45e1-93a5-6a956f185338"
      },
      "source": [
        "# While loops\n",
        "\n",
        "x = 0\n",
        "while True:\n",
        "    if x == 5:\n",
        "      break\n",
        "    x += 1\n",
        "    print(x)"
      ],
      "execution_count": 199,
      "outputs": [
        {
          "output_type": "stream",
          "text": [
            "1\n",
            "2\n",
            "3\n",
            "4\n",
            "5\n"
          ],
          "name": "stdout"
        }
      ]
    },
    {
      "cell_type": "markdown",
      "metadata": {
        "id": "x7i46vgQkvJs"
      },
      "source": [
        "# Functions\n",
        "\n",
        "Functions are extremely useful in creating peices of code you want to call or use several times in our program."
      ]
    },
    {
      "cell_type": "code",
      "metadata": {
        "id": "Jt_UfXekkVBG"
      },
      "source": [
        "# Simple function to return area of a circle\n",
        "\n",
        "def areaCircle(radius):\n",
        "  area = 3.14 * (radius**2)\n",
        "  return area\n"
      ],
      "execution_count": 200,
      "outputs": []
    },
    {
      "cell_type": "code",
      "metadata": {
        "id": "jtVUoMFvqPgE"
      },
      "source": [
        "def area_of_circle(radius):\n",
        "   return 3.142*(radius**2)"
      ],
      "execution_count": 201,
      "outputs": []
    },
    {
      "cell_type": "code",
      "metadata": {
        "colab": {
          "base_uri": "https://localhost:8080/"
        },
        "id": "WgGtnzvfqYxC",
        "outputId": "2dabbfef-ba7f-4cc4-bf53-1098ff0e78ae"
      },
      "source": [
        "area_of_circle(5)"
      ],
      "execution_count": 202,
      "outputs": [
        {
          "output_type": "execute_result",
          "data": {
            "text/plain": [
              "78.55"
            ]
          },
          "metadata": {
            "tags": []
          },
          "execution_count": 202
        }
      ]
    },
    {
      "cell_type": "code",
      "metadata": {
        "id": "L04pV0YMrMBN"
      },
      "source": [
        "def v(r,h):\n",
        "  v=r**2*h\n",
        "  return v"
      ],
      "execution_count": 203,
      "outputs": []
    },
    {
      "cell_type": "code",
      "metadata": {
        "colab": {
          "base_uri": "https://localhost:8080/"
        },
        "id": "UZjLuV2xrebW",
        "outputId": "8620e33c-06a9-45bc-e2c0-952eb95e9b2f"
      },
      "source": [
        "print(v)"
      ],
      "execution_count": 204,
      "outputs": [
        {
          "output_type": "stream",
          "text": [
            "<function v at 0x7f3ffb755050>\n"
          ],
          "name": "stdout"
        }
      ]
    },
    {
      "cell_type": "code",
      "metadata": {
        "id": "GLyvb1VplEDr",
        "colab": {
          "base_uri": "https://localhost:8080/"
        },
        "outputId": "d33d3e17-b69c-4cd0-95c2-1fbb672a1cad"
      },
      "source": [
        "v(r=3,h=5)"
      ],
      "execution_count": 205,
      "outputs": [
        {
          "output_type": "execute_result",
          "data": {
            "text/plain": [
              "45"
            ]
          },
          "metadata": {
            "tags": []
          },
          "execution_count": 205
        }
      ]
    },
    {
      "cell_type": "code",
      "metadata": {
        "id": "QtzNLj7FlFz4"
      },
      "source": [
        "# More complicated functions\n",
        "\n",
        "def volumeCylinder(radius, height):\n",
        "  volume = 3.14 * radius**2 * height\n",
        "  return volume"
      ],
      "execution_count": 206,
      "outputs": []
    },
    {
      "cell_type": "code",
      "metadata": {
        "id": "OGYfKiqdv-Ma",
        "colab": {
          "base_uri": "https://localhost:8080/"
        },
        "outputId": "c49de0bd-dedf-46ae-84af-7155031a169a"
      },
      "source": [
        "volumeCylinder(radius = 5, height = 6)"
      ],
      "execution_count": 207,
      "outputs": [
        {
          "output_type": "execute_result",
          "data": {
            "text/plain": [
              "471.0"
            ]
          },
          "metadata": {
            "tags": []
          },
          "execution_count": 207
        }
      ]
    },
    {
      "cell_type": "code",
      "metadata": {
        "id": "swh6MO3plI0b"
      },
      "source": [
        "# Default arguements\n",
        "\n",
        "def areaCircle(radius):\n",
        "  area = 3.14 * (radius**2)\n",
        "  return area"
      ],
      "execution_count": 208,
      "outputs": []
    },
    {
      "cell_type": "code",
      "metadata": {
        "id": "mcvf8QWQog50"
      },
      "source": [
        "# Creating a class\n",
        "class Book(object):\n",
        "    \"\"\"Class object for a book\"\"\"\n",
        "  \n",
        "    def __init__(self, title, author):\n",
        "        \"\"\"Initialize a new Book\"\"\"\n",
        "        self.title = title\n",
        "        self.author = author\n",
        "    def change_name(self,title):\n",
        "      self.title=title    "
      ],
      "execution_count": 209,
      "outputs": []
    },
    {
      "cell_type": "code",
      "metadata": {
        "id": "LefHygpMtv9A"
      },
      "source": [
        "my_book =Book(title='the best', author='Wole')"
      ],
      "execution_count": 210,
      "outputs": []
    },
    {
      "cell_type": "code",
      "metadata": {
        "id": "bQGLZq8Vt4Du"
      },
      "source": [
        "my_book.change_name(title='ds')"
      ],
      "execution_count": 211,
      "outputs": []
    },
    {
      "cell_type": "code",
      "metadata": {
        "colab": {
          "base_uri": "https://localhost:8080/",
          "height": 35
        },
        "id": "4YwrJtcZvwcJ",
        "outputId": "0742295a-6144-462f-9947-2ac0db59a399"
      },
      "source": [
        "my_book.title"
      ],
      "execution_count": 212,
      "outputs": [
        {
          "output_type": "execute_result",
          "data": {
            "application/vnd.google.colaboratory.intrinsic+json": {
              "type": "string"
            },
            "text/plain": [
              "'ds'"
            ]
          },
          "metadata": {
            "tags": []
          },
          "execution_count": 212
        }
      ]
    }
  ]
}
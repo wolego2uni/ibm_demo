{
  "nbformat": 4,
  "nbformat_minor": 0,
  "metadata": {
    "colab": {
      "name": "4.6 Pandas 7 - Basic Time Series Analysis.ipynb",
      "provenance": [],
      "collapsed_sections": [],
      "include_colab_link": true
    },
    "kernelspec": {
      "name": "python3",
      "display_name": "Python 3"
    }
  },
  "cells": [
    {
      "cell_type": "markdown",
      "metadata": {
        "id": "view-in-github",
        "colab_type": "text"
      },
      "source": [
        "<a href=\"https://colab.research.google.com/github/wolego2uni/ibm_demo/blob/main/4_6_Pandas_7_Basic_Time_Series_Analysis.ipynb\" target=\"_parent\"><img src=\"https://colab.research.google.com/assets/colab-badge.svg\" alt=\"Open In Colab\"/></a>"
      ]
    },
    {
      "cell_type": "markdown",
      "metadata": {
        "id": "i4uCoOb5qfPd"
      },
      "source": [
        "# Pandas - Working with Time Series Date Data"
      ]
    },
    {
      "cell_type": "code",
      "metadata": {
        "id": "mNjp4wKCqkYI",
        "colab": {
          "base_uri": "https://localhost:8080/"
        },
        "outputId": "3c167733-894b-4b5e-a690-ae4d21a1cd03"
      },
      "source": [
        "import pandas as pd\n",
        "from datetime import datetime\n",
        "import numpy as np\n",
        "\n",
        "# Let's create a pandas series that logs time every hour from 1st Nov'19 to 7th Nov'19\n",
        "df = pd.date_range(start='11/01/2019', end='11/07/2019', freq='H')\n",
        "df"
      ],
      "execution_count": 30,
      "outputs": [
        {
          "output_type": "execute_result",
          "data": {
            "text/plain": [
              "DatetimeIndex(['2019-11-01 00:00:00', '2019-11-01 01:00:00',\n",
              "               '2019-11-01 02:00:00', '2019-11-01 03:00:00',\n",
              "               '2019-11-01 04:00:00', '2019-11-01 05:00:00',\n",
              "               '2019-11-01 06:00:00', '2019-11-01 07:00:00',\n",
              "               '2019-11-01 08:00:00', '2019-11-01 09:00:00',\n",
              "               ...\n",
              "               '2019-11-06 15:00:00', '2019-11-06 16:00:00',\n",
              "               '2019-11-06 17:00:00', '2019-11-06 18:00:00',\n",
              "               '2019-11-06 19:00:00', '2019-11-06 20:00:00',\n",
              "               '2019-11-06 21:00:00', '2019-11-06 22:00:00',\n",
              "               '2019-11-06 23:00:00', '2019-11-07 00:00:00'],\n",
              "              dtype='datetime64[ns]', length=145, freq='H')"
            ]
          },
          "metadata": {},
          "execution_count": 30
        }
      ]
    },
    {
      "cell_type": "markdown",
      "metadata": {
        "id": "AMJ-TIAwsFYd"
      },
      "source": [
        "**NOTE ISO 8601 format**\n",
        "-  yyyy-mm-dd hh:mm:ss"
      ]
    },
    {
      "cell_type": "code",
      "metadata": {
        "id": "5pzxoAlcqonO",
        "colab": {
          "base_uri": "https://localhost:8080/"
        },
        "outputId": "612067f0-872a-4be0-a9a6-badfde18b46c"
      },
      "source": [
        "len(df)"
      ],
      "execution_count": 31,
      "outputs": [
        {
          "output_type": "execute_result",
          "data": {
            "text/plain": [
              "145"
            ]
          },
          "metadata": {},
          "execution_count": 31
        }
      ]
    },
    {
      "cell_type": "code",
      "metadata": {
        "id": "4vhmLjVNqs3g",
        "colab": {
          "base_uri": "https://localhost:8080/",
          "height": 203
        },
        "outputId": "21516dba-f45e-4f92-d0ec-9dac31553bd6"
      },
      "source": [
        "#Now let's turn our series into a dataframe\n",
        "df = pd.DataFrame(df, columns=['date'])\n",
        "\n",
        "# And add a 'made up' column for sales data\n",
        "df['sales'] = np.random.randint(0,1000,size=(len(df)))\n",
        "df.head()"
      ],
      "execution_count": 32,
      "outputs": [
        {
          "output_type": "execute_result",
          "data": {
            "text/html": [
              "<div>\n",
              "<style scoped>\n",
              "    .dataframe tbody tr th:only-of-type {\n",
              "        vertical-align: middle;\n",
              "    }\n",
              "\n",
              "    .dataframe tbody tr th {\n",
              "        vertical-align: top;\n",
              "    }\n",
              "\n",
              "    .dataframe thead th {\n",
              "        text-align: right;\n",
              "    }\n",
              "</style>\n",
              "<table border=\"1\" class=\"dataframe\">\n",
              "  <thead>\n",
              "    <tr style=\"text-align: right;\">\n",
              "      <th></th>\n",
              "      <th>date</th>\n",
              "      <th>sales</th>\n",
              "    </tr>\n",
              "  </thead>\n",
              "  <tbody>\n",
              "    <tr>\n",
              "      <th>0</th>\n",
              "      <td>2019-11-01 00:00:00</td>\n",
              "      <td>286</td>\n",
              "    </tr>\n",
              "    <tr>\n",
              "      <th>1</th>\n",
              "      <td>2019-11-01 01:00:00</td>\n",
              "      <td>283</td>\n",
              "    </tr>\n",
              "    <tr>\n",
              "      <th>2</th>\n",
              "      <td>2019-11-01 02:00:00</td>\n",
              "      <td>794</td>\n",
              "    </tr>\n",
              "    <tr>\n",
              "      <th>3</th>\n",
              "      <td>2019-11-01 03:00:00</td>\n",
              "      <td>266</td>\n",
              "    </tr>\n",
              "    <tr>\n",
              "      <th>4</th>\n",
              "      <td>2019-11-01 04:00:00</td>\n",
              "      <td>159</td>\n",
              "    </tr>\n",
              "  </tbody>\n",
              "</table>\n",
              "</div>"
            ],
            "text/plain": [
              "                 date  sales\n",
              "0 2019-11-01 00:00:00    286\n",
              "1 2019-11-01 01:00:00    283\n",
              "2 2019-11-01 02:00:00    794\n",
              "3 2019-11-01 03:00:00    266\n",
              "4 2019-11-01 04:00:00    159"
            ]
          },
          "metadata": {},
          "execution_count": 32
        }
      ]
    },
    {
      "cell_type": "code",
      "metadata": {
        "colab": {
          "base_uri": "https://localhost:8080/",
          "height": 203
        },
        "id": "w_9pbOi3fxEP",
        "outputId": "3a715903-8039-4462-84b5-0f614c2ddf87"
      },
      "source": [
        "df.head()"
      ],
      "execution_count": 33,
      "outputs": [
        {
          "output_type": "execute_result",
          "data": {
            "text/html": [
              "<div>\n",
              "<style scoped>\n",
              "    .dataframe tbody tr th:only-of-type {\n",
              "        vertical-align: middle;\n",
              "    }\n",
              "\n",
              "    .dataframe tbody tr th {\n",
              "        vertical-align: top;\n",
              "    }\n",
              "\n",
              "    .dataframe thead th {\n",
              "        text-align: right;\n",
              "    }\n",
              "</style>\n",
              "<table border=\"1\" class=\"dataframe\">\n",
              "  <thead>\n",
              "    <tr style=\"text-align: right;\">\n",
              "      <th></th>\n",
              "      <th>date</th>\n",
              "      <th>sales</th>\n",
              "    </tr>\n",
              "  </thead>\n",
              "  <tbody>\n",
              "    <tr>\n",
              "      <th>0</th>\n",
              "      <td>2019-11-01 00:00:00</td>\n",
              "      <td>286</td>\n",
              "    </tr>\n",
              "    <tr>\n",
              "      <th>1</th>\n",
              "      <td>2019-11-01 01:00:00</td>\n",
              "      <td>283</td>\n",
              "    </tr>\n",
              "    <tr>\n",
              "      <th>2</th>\n",
              "      <td>2019-11-01 02:00:00</td>\n",
              "      <td>794</td>\n",
              "    </tr>\n",
              "    <tr>\n",
              "      <th>3</th>\n",
              "      <td>2019-11-01 03:00:00</td>\n",
              "      <td>266</td>\n",
              "    </tr>\n",
              "    <tr>\n",
              "      <th>4</th>\n",
              "      <td>2019-11-01 04:00:00</td>\n",
              "      <td>159</td>\n",
              "    </tr>\n",
              "  </tbody>\n",
              "</table>\n",
              "</div>"
            ],
            "text/plain": [
              "                 date  sales\n",
              "0 2019-11-01 00:00:00    286\n",
              "1 2019-11-01 01:00:00    283\n",
              "2 2019-11-01 02:00:00    794\n",
              "3 2019-11-01 03:00:00    266\n",
              "4 2019-11-01 04:00:00    159"
            ]
          },
          "metadata": {},
          "execution_count": 33
        }
      ]
    },
    {
      "cell_type": "markdown",
      "metadata": {
        "id": "Wy2IO_0M7jXs"
      },
      "source": [
        "# Selecting using dates"
      ]
    },
    {
      "cell_type": "code",
      "metadata": {
        "id": "-q-w9jFErM3Z",
        "colab": {
          "base_uri": "https://localhost:8080/",
          "height": 234
        },
        "outputId": "fd704571-933b-447f-a90d-af0935840548"
      },
      "source": [
        "# Set your date as the index \n",
        "df = df.set_index('date')\n",
        "df.head()"
      ],
      "execution_count": 34,
      "outputs": [
        {
          "output_type": "execute_result",
          "data": {
            "text/html": [
              "<div>\n",
              "<style scoped>\n",
              "    .dataframe tbody tr th:only-of-type {\n",
              "        vertical-align: middle;\n",
              "    }\n",
              "\n",
              "    .dataframe tbody tr th {\n",
              "        vertical-align: top;\n",
              "    }\n",
              "\n",
              "    .dataframe thead th {\n",
              "        text-align: right;\n",
              "    }\n",
              "</style>\n",
              "<table border=\"1\" class=\"dataframe\">\n",
              "  <thead>\n",
              "    <tr style=\"text-align: right;\">\n",
              "      <th></th>\n",
              "      <th>sales</th>\n",
              "    </tr>\n",
              "    <tr>\n",
              "      <th>date</th>\n",
              "      <th></th>\n",
              "    </tr>\n",
              "  </thead>\n",
              "  <tbody>\n",
              "    <tr>\n",
              "      <th>2019-11-01 00:00:00</th>\n",
              "      <td>286</td>\n",
              "    </tr>\n",
              "    <tr>\n",
              "      <th>2019-11-01 01:00:00</th>\n",
              "      <td>283</td>\n",
              "    </tr>\n",
              "    <tr>\n",
              "      <th>2019-11-01 02:00:00</th>\n",
              "      <td>794</td>\n",
              "    </tr>\n",
              "    <tr>\n",
              "      <th>2019-11-01 03:00:00</th>\n",
              "      <td>266</td>\n",
              "    </tr>\n",
              "    <tr>\n",
              "      <th>2019-11-01 04:00:00</th>\n",
              "      <td>159</td>\n",
              "    </tr>\n",
              "  </tbody>\n",
              "</table>\n",
              "</div>"
            ],
            "text/plain": [
              "                     sales\n",
              "date                      \n",
              "2019-11-01 00:00:00    286\n",
              "2019-11-01 01:00:00    283\n",
              "2019-11-01 02:00:00    794\n",
              "2019-11-01 03:00:00    266\n",
              "2019-11-01 04:00:00    159"
            ]
          },
          "metadata": {},
          "execution_count": 34
        }
      ]
    },
    {
      "cell_type": "markdown",
      "metadata": {
        "id": "i42kAHlS7nX2"
      },
      "source": [
        "## Using .loc[] to index specific dates"
      ]
    },
    {
      "cell_type": "code",
      "metadata": {
        "id": "O7Yw5AxNsfdo",
        "colab": {
          "base_uri": "https://localhost:8080/"
        },
        "outputId": "6aedb961-5c56-4f49-f697-5bfb95b370d5"
      },
      "source": [
        "# Selecting using date - getting exact value for cell \n",
        "df.loc['2019-11-01 03:00:00', 'sales']"
      ],
      "execution_count": 35,
      "outputs": [
        {
          "output_type": "execute_result",
          "data": {
            "text/plain": [
              "266"
            ]
          },
          "metadata": {},
          "execution_count": 35
        }
      ]
    },
    {
      "cell_type": "code",
      "metadata": {
        "id": "eRrOTr_Fsssa",
        "colab": {
          "base_uri": "https://localhost:8080/"
        },
        "outputId": "5dd80a69-1f91-4b0f-8852-241c9f7b995e"
      },
      "source": [
        "# Selecting using date to return the row corresponding to that date\n",
        "df.loc['2019-11-01 03:00:00']"
      ],
      "execution_count": 36,
      "outputs": [
        {
          "output_type": "execute_result",
          "data": {
            "text/plain": [
              "sales    266\n",
              "Name: 2019-11-01 03:00:00, dtype: int64"
            ]
          },
          "metadata": {},
          "execution_count": 36
        }
      ]
    },
    {
      "cell_type": "code",
      "metadata": {
        "id": "209zLX6ls430",
        "colab": {
          "base_uri": "https://localhost:8080/",
          "height": 447
        },
        "outputId": "b41928ac-e28b-48e0-84aa-9f8294c5224a"
      },
      "source": [
        "# Selecting an entire day\n",
        "df.loc['2019-11-01']\n",
        "\n",
        "# Similary you an use df.loc['2019-11'] to select and entire month"
      ],
      "execution_count": 40,
      "outputs": [
        {
          "output_type": "execute_result",
          "data": {
            "text/html": [
              "<div>\n",
              "<style scoped>\n",
              "    .dataframe tbody tr th:only-of-type {\n",
              "        vertical-align: middle;\n",
              "    }\n",
              "\n",
              "    .dataframe tbody tr th {\n",
              "        vertical-align: top;\n",
              "    }\n",
              "\n",
              "    .dataframe thead th {\n",
              "        text-align: right;\n",
              "    }\n",
              "</style>\n",
              "<table border=\"1\" class=\"dataframe\">\n",
              "  <thead>\n",
              "    <tr style=\"text-align: right;\">\n",
              "      <th></th>\n",
              "      <th>sales</th>\n",
              "    </tr>\n",
              "    <tr>\n",
              "      <th>date</th>\n",
              "      <th></th>\n",
              "    </tr>\n",
              "  </thead>\n",
              "  <tbody>\n",
              "    <tr>\n",
              "      <th>2019-11-01 00:00:00</th>\n",
              "      <td>286</td>\n",
              "    </tr>\n",
              "    <tr>\n",
              "      <th>2019-11-01 01:00:00</th>\n",
              "      <td>283</td>\n",
              "    </tr>\n",
              "    <tr>\n",
              "      <th>2019-11-01 02:00:00</th>\n",
              "      <td>794</td>\n",
              "    </tr>\n",
              "    <tr>\n",
              "      <th>2019-11-01 03:00:00</th>\n",
              "      <td>266</td>\n",
              "    </tr>\n",
              "    <tr>\n",
              "      <th>2019-11-01 04:00:00</th>\n",
              "      <td>159</td>\n",
              "    </tr>\n",
              "    <tr>\n",
              "      <th>...</th>\n",
              "      <td>...</td>\n",
              "    </tr>\n",
              "    <tr>\n",
              "      <th>2019-11-06 20:00:00</th>\n",
              "      <td>411</td>\n",
              "    </tr>\n",
              "    <tr>\n",
              "      <th>2019-11-06 21:00:00</th>\n",
              "      <td>204</td>\n",
              "    </tr>\n",
              "    <tr>\n",
              "      <th>2019-11-06 22:00:00</th>\n",
              "      <td>829</td>\n",
              "    </tr>\n",
              "    <tr>\n",
              "      <th>2019-11-06 23:00:00</th>\n",
              "      <td>694</td>\n",
              "    </tr>\n",
              "    <tr>\n",
              "      <th>2019-11-07 00:00:00</th>\n",
              "      <td>565</td>\n",
              "    </tr>\n",
              "  </tbody>\n",
              "</table>\n",
              "<p>145 rows × 1 columns</p>\n",
              "</div>"
            ],
            "text/plain": [
              "                     sales\n",
              "date                      \n",
              "2019-11-01 00:00:00    286\n",
              "2019-11-01 01:00:00    283\n",
              "2019-11-01 02:00:00    794\n",
              "2019-11-01 03:00:00    266\n",
              "2019-11-01 04:00:00    159\n",
              "...                    ...\n",
              "2019-11-06 20:00:00    411\n",
              "2019-11-06 21:00:00    204\n",
              "2019-11-06 22:00:00    829\n",
              "2019-11-06 23:00:00    694\n",
              "2019-11-07 00:00:00    565\n",
              "\n",
              "[145 rows x 1 columns]"
            ]
          },
          "metadata": {},
          "execution_count": 40
        }
      ]
    },
    {
      "cell_type": "code",
      "metadata": {
        "colab": {
          "base_uri": "https://localhost:8080/",
          "height": 1000
        },
        "id": "68uuVeycXseR",
        "outputId": "71cf6d23-f610-4d5f-b5e9-b0c0f9ed0817"
      },
      "source": [
        "df.loc['2019-11-01':'2019-11-02']"
      ],
      "execution_count": 41,
      "outputs": [
        {
          "output_type": "execute_result",
          "data": {
            "text/html": [
              "<div>\n",
              "<style scoped>\n",
              "    .dataframe tbody tr th:only-of-type {\n",
              "        vertical-align: middle;\n",
              "    }\n",
              "\n",
              "    .dataframe tbody tr th {\n",
              "        vertical-align: top;\n",
              "    }\n",
              "\n",
              "    .dataframe thead th {\n",
              "        text-align: right;\n",
              "    }\n",
              "</style>\n",
              "<table border=\"1\" class=\"dataframe\">\n",
              "  <thead>\n",
              "    <tr style=\"text-align: right;\">\n",
              "      <th></th>\n",
              "      <th>sales</th>\n",
              "    </tr>\n",
              "    <tr>\n",
              "      <th>date</th>\n",
              "      <th></th>\n",
              "    </tr>\n",
              "  </thead>\n",
              "  <tbody>\n",
              "    <tr>\n",
              "      <th>2019-11-01 00:00:00</th>\n",
              "      <td>286</td>\n",
              "    </tr>\n",
              "    <tr>\n",
              "      <th>2019-11-01 01:00:00</th>\n",
              "      <td>283</td>\n",
              "    </tr>\n",
              "    <tr>\n",
              "      <th>2019-11-01 02:00:00</th>\n",
              "      <td>794</td>\n",
              "    </tr>\n",
              "    <tr>\n",
              "      <th>2019-11-01 03:00:00</th>\n",
              "      <td>266</td>\n",
              "    </tr>\n",
              "    <tr>\n",
              "      <th>2019-11-01 04:00:00</th>\n",
              "      <td>159</td>\n",
              "    </tr>\n",
              "    <tr>\n",
              "      <th>2019-11-01 05:00:00</th>\n",
              "      <td>958</td>\n",
              "    </tr>\n",
              "    <tr>\n",
              "      <th>2019-11-01 06:00:00</th>\n",
              "      <td>314</td>\n",
              "    </tr>\n",
              "    <tr>\n",
              "      <th>2019-11-01 07:00:00</th>\n",
              "      <td>509</td>\n",
              "    </tr>\n",
              "    <tr>\n",
              "      <th>2019-11-01 08:00:00</th>\n",
              "      <td>623</td>\n",
              "    </tr>\n",
              "    <tr>\n",
              "      <th>2019-11-01 09:00:00</th>\n",
              "      <td>959</td>\n",
              "    </tr>\n",
              "    <tr>\n",
              "      <th>2019-11-01 10:00:00</th>\n",
              "      <td>112</td>\n",
              "    </tr>\n",
              "    <tr>\n",
              "      <th>2019-11-01 11:00:00</th>\n",
              "      <td>150</td>\n",
              "    </tr>\n",
              "    <tr>\n",
              "      <th>2019-11-01 12:00:00</th>\n",
              "      <td>945</td>\n",
              "    </tr>\n",
              "    <tr>\n",
              "      <th>2019-11-01 13:00:00</th>\n",
              "      <td>814</td>\n",
              "    </tr>\n",
              "    <tr>\n",
              "      <th>2019-11-01 14:00:00</th>\n",
              "      <td>888</td>\n",
              "    </tr>\n",
              "    <tr>\n",
              "      <th>2019-11-01 15:00:00</th>\n",
              "      <td>376</td>\n",
              "    </tr>\n",
              "    <tr>\n",
              "      <th>2019-11-01 16:00:00</th>\n",
              "      <td>992</td>\n",
              "    </tr>\n",
              "    <tr>\n",
              "      <th>2019-11-01 17:00:00</th>\n",
              "      <td>482</td>\n",
              "    </tr>\n",
              "    <tr>\n",
              "      <th>2019-11-01 18:00:00</th>\n",
              "      <td>857</td>\n",
              "    </tr>\n",
              "    <tr>\n",
              "      <th>2019-11-01 19:00:00</th>\n",
              "      <td>224</td>\n",
              "    </tr>\n",
              "    <tr>\n",
              "      <th>2019-11-01 20:00:00</th>\n",
              "      <td>183</td>\n",
              "    </tr>\n",
              "    <tr>\n",
              "      <th>2019-11-01 21:00:00</th>\n",
              "      <td>663</td>\n",
              "    </tr>\n",
              "    <tr>\n",
              "      <th>2019-11-01 22:00:00</th>\n",
              "      <td>539</td>\n",
              "    </tr>\n",
              "    <tr>\n",
              "      <th>2019-11-01 23:00:00</th>\n",
              "      <td>557</td>\n",
              "    </tr>\n",
              "    <tr>\n",
              "      <th>2019-11-02 00:00:00</th>\n",
              "      <td>232</td>\n",
              "    </tr>\n",
              "    <tr>\n",
              "      <th>2019-11-02 01:00:00</th>\n",
              "      <td>695</td>\n",
              "    </tr>\n",
              "    <tr>\n",
              "      <th>2019-11-02 02:00:00</th>\n",
              "      <td>974</td>\n",
              "    </tr>\n",
              "    <tr>\n",
              "      <th>2019-11-02 03:00:00</th>\n",
              "      <td>312</td>\n",
              "    </tr>\n",
              "    <tr>\n",
              "      <th>2019-11-02 04:00:00</th>\n",
              "      <td>437</td>\n",
              "    </tr>\n",
              "    <tr>\n",
              "      <th>2019-11-02 05:00:00</th>\n",
              "      <td>19</td>\n",
              "    </tr>\n",
              "    <tr>\n",
              "      <th>2019-11-02 06:00:00</th>\n",
              "      <td>139</td>\n",
              "    </tr>\n",
              "    <tr>\n",
              "      <th>2019-11-02 07:00:00</th>\n",
              "      <td>456</td>\n",
              "    </tr>\n",
              "    <tr>\n",
              "      <th>2019-11-02 08:00:00</th>\n",
              "      <td>60</td>\n",
              "    </tr>\n",
              "    <tr>\n",
              "      <th>2019-11-02 09:00:00</th>\n",
              "      <td>769</td>\n",
              "    </tr>\n",
              "    <tr>\n",
              "      <th>2019-11-02 10:00:00</th>\n",
              "      <td>46</td>\n",
              "    </tr>\n",
              "    <tr>\n",
              "      <th>2019-11-02 11:00:00</th>\n",
              "      <td>941</td>\n",
              "    </tr>\n",
              "    <tr>\n",
              "      <th>2019-11-02 12:00:00</th>\n",
              "      <td>139</td>\n",
              "    </tr>\n",
              "    <tr>\n",
              "      <th>2019-11-02 13:00:00</th>\n",
              "      <td>780</td>\n",
              "    </tr>\n",
              "    <tr>\n",
              "      <th>2019-11-02 14:00:00</th>\n",
              "      <td>462</td>\n",
              "    </tr>\n",
              "    <tr>\n",
              "      <th>2019-11-02 15:00:00</th>\n",
              "      <td>904</td>\n",
              "    </tr>\n",
              "    <tr>\n",
              "      <th>2019-11-02 16:00:00</th>\n",
              "      <td>136</td>\n",
              "    </tr>\n",
              "    <tr>\n",
              "      <th>2019-11-02 17:00:00</th>\n",
              "      <td>306</td>\n",
              "    </tr>\n",
              "    <tr>\n",
              "      <th>2019-11-02 18:00:00</th>\n",
              "      <td>444</td>\n",
              "    </tr>\n",
              "    <tr>\n",
              "      <th>2019-11-02 19:00:00</th>\n",
              "      <td>58</td>\n",
              "    </tr>\n",
              "    <tr>\n",
              "      <th>2019-11-02 20:00:00</th>\n",
              "      <td>729</td>\n",
              "    </tr>\n",
              "    <tr>\n",
              "      <th>2019-11-02 21:00:00</th>\n",
              "      <td>224</td>\n",
              "    </tr>\n",
              "    <tr>\n",
              "      <th>2019-11-02 22:00:00</th>\n",
              "      <td>546</td>\n",
              "    </tr>\n",
              "    <tr>\n",
              "      <th>2019-11-02 23:00:00</th>\n",
              "      <td>937</td>\n",
              "    </tr>\n",
              "  </tbody>\n",
              "</table>\n",
              "</div>"
            ],
            "text/plain": [
              "                     sales\n",
              "date                      \n",
              "2019-11-01 00:00:00    286\n",
              "2019-11-01 01:00:00    283\n",
              "2019-11-01 02:00:00    794\n",
              "2019-11-01 03:00:00    266\n",
              "2019-11-01 04:00:00    159\n",
              "2019-11-01 05:00:00    958\n",
              "2019-11-01 06:00:00    314\n",
              "2019-11-01 07:00:00    509\n",
              "2019-11-01 08:00:00    623\n",
              "2019-11-01 09:00:00    959\n",
              "2019-11-01 10:00:00    112\n",
              "2019-11-01 11:00:00    150\n",
              "2019-11-01 12:00:00    945\n",
              "2019-11-01 13:00:00    814\n",
              "2019-11-01 14:00:00    888\n",
              "2019-11-01 15:00:00    376\n",
              "2019-11-01 16:00:00    992\n",
              "2019-11-01 17:00:00    482\n",
              "2019-11-01 18:00:00    857\n",
              "2019-11-01 19:00:00    224\n",
              "2019-11-01 20:00:00    183\n",
              "2019-11-01 21:00:00    663\n",
              "2019-11-01 22:00:00    539\n",
              "2019-11-01 23:00:00    557\n",
              "2019-11-02 00:00:00    232\n",
              "2019-11-02 01:00:00    695\n",
              "2019-11-02 02:00:00    974\n",
              "2019-11-02 03:00:00    312\n",
              "2019-11-02 04:00:00    437\n",
              "2019-11-02 05:00:00     19\n",
              "2019-11-02 06:00:00    139\n",
              "2019-11-02 07:00:00    456\n",
              "2019-11-02 08:00:00     60\n",
              "2019-11-02 09:00:00    769\n",
              "2019-11-02 10:00:00     46\n",
              "2019-11-02 11:00:00    941\n",
              "2019-11-02 12:00:00    139\n",
              "2019-11-02 13:00:00    780\n",
              "2019-11-02 14:00:00    462\n",
              "2019-11-02 15:00:00    904\n",
              "2019-11-02 16:00:00    136\n",
              "2019-11-02 17:00:00    306\n",
              "2019-11-02 18:00:00    444\n",
              "2019-11-02 19:00:00     58\n",
              "2019-11-02 20:00:00    729\n",
              "2019-11-02 21:00:00    224\n",
              "2019-11-02 22:00:00    546\n",
              "2019-11-02 23:00:00    937"
            ]
          },
          "metadata": {},
          "execution_count": 41
        }
      ]
    },
    {
      "cell_type": "code",
      "metadata": {
        "id": "Uky49B3BtMEy",
        "colab": {
          "base_uri": "https://localhost:8080/",
          "height": 1000
        },
        "outputId": "6d47f4cd-2dbe-4a87-c302-d591e6652dc2"
      },
      "source": [
        "# Selecting a range of dates\n",
        "df.loc['2019-11-01':'2019-11-02']"
      ],
      "execution_count": null,
      "outputs": [
        {
          "output_type": "execute_result",
          "data": {
            "text/html": [
              "<div>\n",
              "<style scoped>\n",
              "    .dataframe tbody tr th:only-of-type {\n",
              "        vertical-align: middle;\n",
              "    }\n",
              "\n",
              "    .dataframe tbody tr th {\n",
              "        vertical-align: top;\n",
              "    }\n",
              "\n",
              "    .dataframe thead th {\n",
              "        text-align: right;\n",
              "    }\n",
              "</style>\n",
              "<table border=\"1\" class=\"dataframe\">\n",
              "  <thead>\n",
              "    <tr style=\"text-align: right;\">\n",
              "      <th></th>\n",
              "      <th>sales</th>\n",
              "    </tr>\n",
              "    <tr>\n",
              "      <th>date</th>\n",
              "      <th></th>\n",
              "    </tr>\n",
              "  </thead>\n",
              "  <tbody>\n",
              "    <tr>\n",
              "      <th>2019-11-01 00:00:00</th>\n",
              "      <td>679</td>\n",
              "    </tr>\n",
              "    <tr>\n",
              "      <th>2019-11-01 01:00:00</th>\n",
              "      <td>465</td>\n",
              "    </tr>\n",
              "    <tr>\n",
              "      <th>2019-11-01 02:00:00</th>\n",
              "      <td>49</td>\n",
              "    </tr>\n",
              "    <tr>\n",
              "      <th>2019-11-01 03:00:00</th>\n",
              "      <td>378</td>\n",
              "    </tr>\n",
              "    <tr>\n",
              "      <th>2019-11-01 04:00:00</th>\n",
              "      <td>156</td>\n",
              "    </tr>\n",
              "    <tr>\n",
              "      <th>2019-11-01 05:00:00</th>\n",
              "      <td>389</td>\n",
              "    </tr>\n",
              "    <tr>\n",
              "      <th>2019-11-01 06:00:00</th>\n",
              "      <td>426</td>\n",
              "    </tr>\n",
              "    <tr>\n",
              "      <th>2019-11-01 07:00:00</th>\n",
              "      <td>293</td>\n",
              "    </tr>\n",
              "    <tr>\n",
              "      <th>2019-11-01 08:00:00</th>\n",
              "      <td>783</td>\n",
              "    </tr>\n",
              "    <tr>\n",
              "      <th>2019-11-01 09:00:00</th>\n",
              "      <td>174</td>\n",
              "    </tr>\n",
              "    <tr>\n",
              "      <th>2019-11-01 10:00:00</th>\n",
              "      <td>211</td>\n",
              "    </tr>\n",
              "    <tr>\n",
              "      <th>2019-11-01 11:00:00</th>\n",
              "      <td>451</td>\n",
              "    </tr>\n",
              "    <tr>\n",
              "      <th>2019-11-01 12:00:00</th>\n",
              "      <td>438</td>\n",
              "    </tr>\n",
              "    <tr>\n",
              "      <th>2019-11-01 13:00:00</th>\n",
              "      <td>567</td>\n",
              "    </tr>\n",
              "    <tr>\n",
              "      <th>2019-11-01 14:00:00</th>\n",
              "      <td>196</td>\n",
              "    </tr>\n",
              "    <tr>\n",
              "      <th>2019-11-01 15:00:00</th>\n",
              "      <td>794</td>\n",
              "    </tr>\n",
              "    <tr>\n",
              "      <th>2019-11-01 16:00:00</th>\n",
              "      <td>349</td>\n",
              "    </tr>\n",
              "    <tr>\n",
              "      <th>2019-11-01 17:00:00</th>\n",
              "      <td>618</td>\n",
              "    </tr>\n",
              "    <tr>\n",
              "      <th>2019-11-01 18:00:00</th>\n",
              "      <td>685</td>\n",
              "    </tr>\n",
              "    <tr>\n",
              "      <th>2019-11-01 19:00:00</th>\n",
              "      <td>141</td>\n",
              "    </tr>\n",
              "    <tr>\n",
              "      <th>2019-11-01 20:00:00</th>\n",
              "      <td>504</td>\n",
              "    </tr>\n",
              "    <tr>\n",
              "      <th>2019-11-01 21:00:00</th>\n",
              "      <td>842</td>\n",
              "    </tr>\n",
              "    <tr>\n",
              "      <th>2019-11-01 22:00:00</th>\n",
              "      <td>927</td>\n",
              "    </tr>\n",
              "    <tr>\n",
              "      <th>2019-11-01 23:00:00</th>\n",
              "      <td>592</td>\n",
              "    </tr>\n",
              "    <tr>\n",
              "      <th>2019-11-02 00:00:00</th>\n",
              "      <td>138</td>\n",
              "    </tr>\n",
              "    <tr>\n",
              "      <th>2019-11-02 01:00:00</th>\n",
              "      <td>114</td>\n",
              "    </tr>\n",
              "    <tr>\n",
              "      <th>2019-11-02 02:00:00</th>\n",
              "      <td>540</td>\n",
              "    </tr>\n",
              "    <tr>\n",
              "      <th>2019-11-02 03:00:00</th>\n",
              "      <td>45</td>\n",
              "    </tr>\n",
              "    <tr>\n",
              "      <th>2019-11-02 04:00:00</th>\n",
              "      <td>524</td>\n",
              "    </tr>\n",
              "    <tr>\n",
              "      <th>2019-11-02 05:00:00</th>\n",
              "      <td>365</td>\n",
              "    </tr>\n",
              "    <tr>\n",
              "      <th>2019-11-02 06:00:00</th>\n",
              "      <td>142</td>\n",
              "    </tr>\n",
              "    <tr>\n",
              "      <th>2019-11-02 07:00:00</th>\n",
              "      <td>112</td>\n",
              "    </tr>\n",
              "    <tr>\n",
              "      <th>2019-11-02 08:00:00</th>\n",
              "      <td>35</td>\n",
              "    </tr>\n",
              "    <tr>\n",
              "      <th>2019-11-02 09:00:00</th>\n",
              "      <td>483</td>\n",
              "    </tr>\n",
              "    <tr>\n",
              "      <th>2019-11-02 10:00:00</th>\n",
              "      <td>580</td>\n",
              "    </tr>\n",
              "    <tr>\n",
              "      <th>2019-11-02 11:00:00</th>\n",
              "      <td>342</td>\n",
              "    </tr>\n",
              "    <tr>\n",
              "      <th>2019-11-02 12:00:00</th>\n",
              "      <td>655</td>\n",
              "    </tr>\n",
              "    <tr>\n",
              "      <th>2019-11-02 13:00:00</th>\n",
              "      <td>208</td>\n",
              "    </tr>\n",
              "    <tr>\n",
              "      <th>2019-11-02 14:00:00</th>\n",
              "      <td>956</td>\n",
              "    </tr>\n",
              "    <tr>\n",
              "      <th>2019-11-02 15:00:00</th>\n",
              "      <td>539</td>\n",
              "    </tr>\n",
              "    <tr>\n",
              "      <th>2019-11-02 16:00:00</th>\n",
              "      <td>343</td>\n",
              "    </tr>\n",
              "    <tr>\n",
              "      <th>2019-11-02 17:00:00</th>\n",
              "      <td>576</td>\n",
              "    </tr>\n",
              "    <tr>\n",
              "      <th>2019-11-02 18:00:00</th>\n",
              "      <td>62</td>\n",
              "    </tr>\n",
              "    <tr>\n",
              "      <th>2019-11-02 19:00:00</th>\n",
              "      <td>41</td>\n",
              "    </tr>\n",
              "    <tr>\n",
              "      <th>2019-11-02 20:00:00</th>\n",
              "      <td>455</td>\n",
              "    </tr>\n",
              "    <tr>\n",
              "      <th>2019-11-02 21:00:00</th>\n",
              "      <td>660</td>\n",
              "    </tr>\n",
              "    <tr>\n",
              "      <th>2019-11-02 22:00:00</th>\n",
              "      <td>42</td>\n",
              "    </tr>\n",
              "    <tr>\n",
              "      <th>2019-11-02 23:00:00</th>\n",
              "      <td>279</td>\n",
              "    </tr>\n",
              "  </tbody>\n",
              "</table>\n",
              "</div>"
            ],
            "text/plain": [
              "                     sales\n",
              "date                      \n",
              "2019-11-01 00:00:00    679\n",
              "2019-11-01 01:00:00    465\n",
              "2019-11-01 02:00:00     49\n",
              "2019-11-01 03:00:00    378\n",
              "2019-11-01 04:00:00    156\n",
              "2019-11-01 05:00:00    389\n",
              "2019-11-01 06:00:00    426\n",
              "2019-11-01 07:00:00    293\n",
              "2019-11-01 08:00:00    783\n",
              "2019-11-01 09:00:00    174\n",
              "2019-11-01 10:00:00    211\n",
              "2019-11-01 11:00:00    451\n",
              "2019-11-01 12:00:00    438\n",
              "2019-11-01 13:00:00    567\n",
              "2019-11-01 14:00:00    196\n",
              "2019-11-01 15:00:00    794\n",
              "2019-11-01 16:00:00    349\n",
              "2019-11-01 17:00:00    618\n",
              "2019-11-01 18:00:00    685\n",
              "2019-11-01 19:00:00    141\n",
              "2019-11-01 20:00:00    504\n",
              "2019-11-01 21:00:00    842\n",
              "2019-11-01 22:00:00    927\n",
              "2019-11-01 23:00:00    592\n",
              "2019-11-02 00:00:00    138\n",
              "2019-11-02 01:00:00    114\n",
              "2019-11-02 02:00:00    540\n",
              "2019-11-02 03:00:00     45\n",
              "2019-11-02 04:00:00    524\n",
              "2019-11-02 05:00:00    365\n",
              "2019-11-02 06:00:00    142\n",
              "2019-11-02 07:00:00    112\n",
              "2019-11-02 08:00:00     35\n",
              "2019-11-02 09:00:00    483\n",
              "2019-11-02 10:00:00    580\n",
              "2019-11-02 11:00:00    342\n",
              "2019-11-02 12:00:00    655\n",
              "2019-11-02 13:00:00    208\n",
              "2019-11-02 14:00:00    956\n",
              "2019-11-02 15:00:00    539\n",
              "2019-11-02 16:00:00    343\n",
              "2019-11-02 17:00:00    576\n",
              "2019-11-02 18:00:00     62\n",
              "2019-11-02 19:00:00     41\n",
              "2019-11-02 20:00:00    455\n",
              "2019-11-02 21:00:00    660\n",
              "2019-11-02 22:00:00     42\n",
              "2019-11-02 23:00:00    279"
            ]
          },
          "metadata": {},
          "execution_count": 18
        }
      ]
    },
    {
      "cell_type": "markdown",
      "metadata": {
        "id": "Sxcbyk76tYcP"
      },
      "source": [
        "# Resampling\n",
        "\n",
        "**Summary States** - we can use Statistical methods over different time intervals\n",
        "- mean(), sum(), count(), min(), max()\n",
        "\n",
        "**Down-sampling**\n",
        "- reduce datetime rows to longer frequency\n",
        "\n",
        "**Up-sampling**\n",
        "- increase datetime rows to shorter frequency"
      ]
    },
    {
      "cell_type": "code",
      "metadata": {
        "colab": {
          "base_uri": "https://localhost:8080/",
          "height": 234
        },
        "id": "nNZZvaIEYL1_",
        "outputId": "a29bef84-2d73-4bda-8fa0-a69f8acbfd43"
      },
      "source": [
        "df.head()"
      ],
      "execution_count": 42,
      "outputs": [
        {
          "output_type": "execute_result",
          "data": {
            "text/html": [
              "<div>\n",
              "<style scoped>\n",
              "    .dataframe tbody tr th:only-of-type {\n",
              "        vertical-align: middle;\n",
              "    }\n",
              "\n",
              "    .dataframe tbody tr th {\n",
              "        vertical-align: top;\n",
              "    }\n",
              "\n",
              "    .dataframe thead th {\n",
              "        text-align: right;\n",
              "    }\n",
              "</style>\n",
              "<table border=\"1\" class=\"dataframe\">\n",
              "  <thead>\n",
              "    <tr style=\"text-align: right;\">\n",
              "      <th></th>\n",
              "      <th>sales</th>\n",
              "    </tr>\n",
              "    <tr>\n",
              "      <th>date</th>\n",
              "      <th></th>\n",
              "    </tr>\n",
              "  </thead>\n",
              "  <tbody>\n",
              "    <tr>\n",
              "      <th>2019-11-01 00:00:00</th>\n",
              "      <td>286</td>\n",
              "    </tr>\n",
              "    <tr>\n",
              "      <th>2019-11-01 01:00:00</th>\n",
              "      <td>283</td>\n",
              "    </tr>\n",
              "    <tr>\n",
              "      <th>2019-11-01 02:00:00</th>\n",
              "      <td>794</td>\n",
              "    </tr>\n",
              "    <tr>\n",
              "      <th>2019-11-01 03:00:00</th>\n",
              "      <td>266</td>\n",
              "    </tr>\n",
              "    <tr>\n",
              "      <th>2019-11-01 04:00:00</th>\n",
              "      <td>159</td>\n",
              "    </tr>\n",
              "  </tbody>\n",
              "</table>\n",
              "</div>"
            ],
            "text/plain": [
              "                     sales\n",
              "date                      \n",
              "2019-11-01 00:00:00    286\n",
              "2019-11-01 01:00:00    283\n",
              "2019-11-01 02:00:00    794\n",
              "2019-11-01 03:00:00    266\n",
              "2019-11-01 04:00:00    159"
            ]
          },
          "metadata": {},
          "execution_count": 42
        }
      ]
    },
    {
      "cell_type": "code",
      "metadata": {
        "id": "0y70P1_BtZcH",
        "colab": {
          "base_uri": "https://localhost:8080/",
          "height": 295
        },
        "outputId": "5c960424-b0b2-41b3-fe55-2f7ee0ff666f"
      },
      "source": [
        "# Using resample to get the average for each day per hour\n",
        "\n",
        "# df.resample('D').mean()\n",
        "df.resample('D').sum()"
      ],
      "execution_count": 44,
      "outputs": [
        {
          "output_type": "execute_result",
          "data": {
            "text/html": [
              "<div>\n",
              "<style scoped>\n",
              "    .dataframe tbody tr th:only-of-type {\n",
              "        vertical-align: middle;\n",
              "    }\n",
              "\n",
              "    .dataframe tbody tr th {\n",
              "        vertical-align: top;\n",
              "    }\n",
              "\n",
              "    .dataframe thead th {\n",
              "        text-align: right;\n",
              "    }\n",
              "</style>\n",
              "<table border=\"1\" class=\"dataframe\">\n",
              "  <thead>\n",
              "    <tr style=\"text-align: right;\">\n",
              "      <th></th>\n",
              "      <th>sales</th>\n",
              "    </tr>\n",
              "    <tr>\n",
              "      <th>date</th>\n",
              "      <th></th>\n",
              "    </tr>\n",
              "  </thead>\n",
              "  <tbody>\n",
              "    <tr>\n",
              "      <th>2019-11-01</th>\n",
              "      <td>12933</td>\n",
              "    </tr>\n",
              "    <tr>\n",
              "      <th>2019-11-02</th>\n",
              "      <td>10745</td>\n",
              "    </tr>\n",
              "    <tr>\n",
              "      <th>2019-11-03</th>\n",
              "      <td>9578</td>\n",
              "    </tr>\n",
              "    <tr>\n",
              "      <th>2019-11-04</th>\n",
              "      <td>12023</td>\n",
              "    </tr>\n",
              "    <tr>\n",
              "      <th>2019-11-05</th>\n",
              "      <td>10677</td>\n",
              "    </tr>\n",
              "    <tr>\n",
              "      <th>2019-11-06</th>\n",
              "      <td>13482</td>\n",
              "    </tr>\n",
              "    <tr>\n",
              "      <th>2019-11-07</th>\n",
              "      <td>565</td>\n",
              "    </tr>\n",
              "  </tbody>\n",
              "</table>\n",
              "</div>"
            ],
            "text/plain": [
              "            sales\n",
              "date             \n",
              "2019-11-01  12933\n",
              "2019-11-02  10745\n",
              "2019-11-03   9578\n",
              "2019-11-04  12023\n",
              "2019-11-05  10677\n",
              "2019-11-06  13482\n",
              "2019-11-07    565"
            ]
          },
          "metadata": {},
          "execution_count": 44
        }
      ]
    },
    {
      "cell_type": "code",
      "metadata": {
        "id": "yZDBtHpD925n",
        "colab": {
          "base_uri": "https://localhost:8080/",
          "height": 447
        },
        "outputId": "63f0a745-0484-4ec4-edff-02a85c4c9ae5"
      },
      "source": [
        "# Using resample to get the average for each minute (downsampling)\n",
        "\n",
        "df.resample('T').mean()"
      ],
      "execution_count": 47,
      "outputs": [
        {
          "output_type": "execute_result",
          "data": {
            "text/html": [
              "<div>\n",
              "<style scoped>\n",
              "    .dataframe tbody tr th:only-of-type {\n",
              "        vertical-align: middle;\n",
              "    }\n",
              "\n",
              "    .dataframe tbody tr th {\n",
              "        vertical-align: top;\n",
              "    }\n",
              "\n",
              "    .dataframe thead th {\n",
              "        text-align: right;\n",
              "    }\n",
              "</style>\n",
              "<table border=\"1\" class=\"dataframe\">\n",
              "  <thead>\n",
              "    <tr style=\"text-align: right;\">\n",
              "      <th></th>\n",
              "      <th>sales</th>\n",
              "    </tr>\n",
              "    <tr>\n",
              "      <th>date</th>\n",
              "      <th></th>\n",
              "    </tr>\n",
              "  </thead>\n",
              "  <tbody>\n",
              "    <tr>\n",
              "      <th>2019-11-01 00:00:00</th>\n",
              "      <td>286.0</td>\n",
              "    </tr>\n",
              "    <tr>\n",
              "      <th>2019-11-01 00:01:00</th>\n",
              "      <td>NaN</td>\n",
              "    </tr>\n",
              "    <tr>\n",
              "      <th>2019-11-01 00:02:00</th>\n",
              "      <td>NaN</td>\n",
              "    </tr>\n",
              "    <tr>\n",
              "      <th>2019-11-01 00:03:00</th>\n",
              "      <td>NaN</td>\n",
              "    </tr>\n",
              "    <tr>\n",
              "      <th>2019-11-01 00:04:00</th>\n",
              "      <td>NaN</td>\n",
              "    </tr>\n",
              "    <tr>\n",
              "      <th>...</th>\n",
              "      <td>...</td>\n",
              "    </tr>\n",
              "    <tr>\n",
              "      <th>2019-11-06 23:56:00</th>\n",
              "      <td>NaN</td>\n",
              "    </tr>\n",
              "    <tr>\n",
              "      <th>2019-11-06 23:57:00</th>\n",
              "      <td>NaN</td>\n",
              "    </tr>\n",
              "    <tr>\n",
              "      <th>2019-11-06 23:58:00</th>\n",
              "      <td>NaN</td>\n",
              "    </tr>\n",
              "    <tr>\n",
              "      <th>2019-11-06 23:59:00</th>\n",
              "      <td>NaN</td>\n",
              "    </tr>\n",
              "    <tr>\n",
              "      <th>2019-11-07 00:00:00</th>\n",
              "      <td>565.0</td>\n",
              "    </tr>\n",
              "  </tbody>\n",
              "</table>\n",
              "<p>8641 rows × 1 columns</p>\n",
              "</div>"
            ],
            "text/plain": [
              "                     sales\n",
              "date                      \n",
              "2019-11-01 00:00:00  286.0\n",
              "2019-11-01 00:01:00    NaN\n",
              "2019-11-01 00:02:00    NaN\n",
              "2019-11-01 00:03:00    NaN\n",
              "2019-11-01 00:04:00    NaN\n",
              "...                    ...\n",
              "2019-11-06 23:56:00    NaN\n",
              "2019-11-06 23:57:00    NaN\n",
              "2019-11-06 23:58:00    NaN\n",
              "2019-11-06 23:59:00    NaN\n",
              "2019-11-07 00:00:00  565.0\n",
              "\n",
              "[8641 rows x 1 columns]"
            ]
          },
          "metadata": {},
          "execution_count": 47
        }
      ]
    },
    {
      "cell_type": "markdown",
      "metadata": {
        "id": "l_ARhY82uLHi"
      },
      "source": [
        "## Resampling frequencies\n",
        "\n",
        "- 'min', 'T' - minute\n",
        "- ‘H’ - hour\n",
        "- ‘D’ - day\n",
        "- ‘B’ - business day\n",
        "- ‘W’ - week\n",
        "- ‘M’ - month\n",
        "- ‘Q’ - quarter\n",
        "- ‘A’ - year"
      ]
    },
    {
      "cell_type": "markdown",
      "metadata": {
        "id": "_WaKvJiAu2WP"
      },
      "source": [
        "# Parsing dates"
      ]
    },
    {
      "cell_type": "code",
      "metadata": {
        "id": "J2b8NSFEu34k",
        "colab": {
          "base_uri": "https://localhost:8080/",
          "height": 110
        },
        "outputId": "8a3c878c-050a-40cb-821e-186dbbc531de"
      },
      "source": [
        "df = pd.DataFrame({'year': [2015, 2016],\n",
        "                   'month': [2, 3],\n",
        "                   'day': [4, 5]})\n",
        "df"
      ],
      "execution_count": 48,
      "outputs": [
        {
          "output_type": "execute_result",
          "data": {
            "text/html": [
              "<div>\n",
              "<style scoped>\n",
              "    .dataframe tbody tr th:only-of-type {\n",
              "        vertical-align: middle;\n",
              "    }\n",
              "\n",
              "    .dataframe tbody tr th {\n",
              "        vertical-align: top;\n",
              "    }\n",
              "\n",
              "    .dataframe thead th {\n",
              "        text-align: right;\n",
              "    }\n",
              "</style>\n",
              "<table border=\"1\" class=\"dataframe\">\n",
              "  <thead>\n",
              "    <tr style=\"text-align: right;\">\n",
              "      <th></th>\n",
              "      <th>year</th>\n",
              "      <th>month</th>\n",
              "      <th>day</th>\n",
              "    </tr>\n",
              "  </thead>\n",
              "  <tbody>\n",
              "    <tr>\n",
              "      <th>0</th>\n",
              "      <td>2015</td>\n",
              "      <td>2</td>\n",
              "      <td>4</td>\n",
              "    </tr>\n",
              "    <tr>\n",
              "      <th>1</th>\n",
              "      <td>2016</td>\n",
              "      <td>3</td>\n",
              "      <td>5</td>\n",
              "    </tr>\n",
              "  </tbody>\n",
              "</table>\n",
              "</div>"
            ],
            "text/plain": [
              "   year  month  day\n",
              "0  2015      2    4\n",
              "1  2016      3    5"
            ]
          },
          "metadata": {},
          "execution_count": 48
        }
      ]
    },
    {
      "cell_type": "code",
      "metadata": {
        "id": "WQD62u_ku5v-",
        "colab": {
          "base_uri": "https://localhost:8080/"
        },
        "outputId": "e9902447-a1e9-4e97-bc22-6f2806e72c85"
      },
      "source": [
        "df.info()"
      ],
      "execution_count": 49,
      "outputs": [
        {
          "output_type": "stream",
          "text": [
            "<class 'pandas.core.frame.DataFrame'>\n",
            "RangeIndex: 2 entries, 0 to 1\n",
            "Data columns (total 3 columns):\n",
            " #   Column  Non-Null Count  Dtype\n",
            "---  ------  --------------  -----\n",
            " 0   year    2 non-null      int64\n",
            " 1   month   2 non-null      int64\n",
            " 2   day     2 non-null      int64\n",
            "dtypes: int64(3)\n",
            "memory usage: 176.0 bytes\n"
          ],
          "name": "stdout"
        }
      ]
    },
    {
      "cell_type": "code",
      "metadata": {
        "id": "kdaB6LEwru9Y",
        "colab": {
          "base_uri": "https://localhost:8080/"
        },
        "outputId": "f3ec4ae7-b58c-40df-c001-9aa8f0efa551"
      },
      "source": [
        "pd.to_datetime(df)"
      ],
      "execution_count": 50,
      "outputs": [
        {
          "output_type": "execute_result",
          "data": {
            "text/plain": [
              "0   2015-02-04\n",
              "1   2016-03-05\n",
              "dtype: datetime64[ns]"
            ]
          },
          "metadata": {},
          "execution_count": 50
        }
      ]
    },
    {
      "cell_type": "code",
      "metadata": {
        "colab": {
          "base_uri": "https://localhost:8080/"
        },
        "id": "Bfxt2WNokb5h",
        "outputId": "3ee43459-2f6c-4e39-eaa6-b71effc9687c"
      },
      "source": [
        "pd.to_datetime('20190101', format='%Y%m%d', errors='ignore')"
      ],
      "execution_count": 53,
      "outputs": [
        {
          "output_type": "execute_result",
          "data": {
            "text/plain": [
              "Timestamp('2019-01-01 00:00:00')"
            ]
          },
          "metadata": {},
          "execution_count": 53
        }
      ]
    },
    {
      "cell_type": "code",
      "metadata": {
        "id": "XgaaStJhvAs9",
        "colab": {
          "base_uri": "https://localhost:8080/"
        },
        "outputId": "45b7981e-8f6b-47b0-e740-96e57794b971"
      },
      "source": [
        "pd.to_datetime('2019-01-01', format='%Y-%m-%d', errors='ignore')"
      ],
      "execution_count": 51,
      "outputs": [
        {
          "output_type": "execute_result",
          "data": {
            "text/plain": [
              "Timestamp('2019-01-01 00:00:00')"
            ]
          },
          "metadata": {},
          "execution_count": 51
        }
      ]
    },
    {
      "cell_type": "markdown",
      "metadata": {
        "id": "C7ycG3LoWHEM"
      },
      "source": [
        "##Course ##\n",
        "\n",
        "Data Science, Analytics & AI for Business & the Real World by Rajeev D. Ratan"
      ]
    }
  ]
}
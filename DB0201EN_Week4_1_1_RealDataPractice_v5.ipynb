{
  "nbformat": 4,
  "nbformat_minor": 0,
  "metadata": {
    "celltoolbar": "Raw Cell Format",
    "kernelspec": {
      "display_name": "Python",
      "language": "python",
      "name": "conda-env-python-py"
    },
    "language_info": {
      "codemirror_mode": {
        "name": "ipython",
        "version": 3
      },
      "file_extension": ".py",
      "mimetype": "text/x-python",
      "name": "python",
      "nbconvert_exporter": "python",
      "pygments_lexer": "ipython3",
      "version": "3.6.13"
    },
    "colab": {
      "name": "DB0201EN-Week4-1-1-RealDataPractice-v5.ipynb",
      "provenance": [],
      "include_colab_link": true
    }
  },
  "cells": [
    {
      "cell_type": "markdown",
      "metadata": {
        "id": "view-in-github",
        "colab_type": "text"
      },
      "source": [
        "<a href=\"https://colab.research.google.com/github/wolego2uni/ibm_demo/blob/main/DB0201EN_Week4_1_1_RealDataPractice_v5.ipynb\" target=\"_parent\"><img src=\"https://colab.research.google.com/assets/colab-badge.svg\" alt=\"Open In Colab\"/></a>"
      ]
    },
    {
      "cell_type": "markdown",
      "metadata": {
        "id": "AZM1blGn9Y1z"
      },
      "source": [
        "<center>\n",
        "    <img src=\"https://s3-api.us-geo.objectstorage.softlayer.net/cf-courses-data/CognitiveClass/Logos/organization_logo/organization_logo.png\" width=\"300\" alt=\"cognitiveclass.ai logo\"  />\n",
        "</center>\n",
        "\n",
        "# Working with a real world data-set using SQL and Python\n",
        "\n",
        "Estaimted time needed: **30** minutes\n",
        "\n",
        "## Objectives\n",
        "\n",
        "After complting this lab you will be able to:\n",
        "\n",
        "*   Understand the dataset for Chicago Public School level performance\n",
        "*   Store the dataset in an Db2 database on IBM Cloud instance\n",
        "*   Retrieve metadata about tables and columns and query data from mixed case columns\n",
        "*   Solve example problems to practice your SQL skills including using built-in database functions\n"
      ]
    },
    {
      "cell_type": "markdown",
      "metadata": {
        "id": "oOGB6meX9Y10"
      },
      "source": [
        "## Chicago Public Schools - Progress Report Cards (2011-2012)\n",
        "\n",
        "The city of Chicago released a dataset showing all school level performance data used to create School Report Cards for the 2011-2012 school year. The dataset is available from the Chicago Data Portal: [https://data.cityofchicago.org/Education/Chicago-Public-Schools-Progress-Report-Cards-2011-/9xs2-f89t](https://data.cityofchicago.org/Education/Chicago-Public-Schools-Progress-Report-Cards-2011-/9xs2-f89t?utm_medium=Exinfluencer&utm_source=Exinfluencer&utm_content=000026UJ&utm_term=10006555&utm_id=NA-SkillsNetwork-Channel-SkillsNetworkCoursesIBMDeveloperSkillsNetworkDB0201ENSkillsNetwork20127838-2021-01-01&cm_mmc=Email_Newsletter-\\_-Developer_Ed%2BTech-\\_-WW_WW-\\_-SkillsNetwork-Courses-IBMDeveloperSkillsNetwork-DB0201EN-SkillsNetwork-20127838&cm_mmca1=000026UJ&cm_mmca2=10006555&cm_mmca3=M12345678&cvosrc=email.Newsletter.M12345678&cvo_campaign=000026UJ)\n",
        "\n",
        "This dataset includes a large number of metrics. Start by familiarizing yourself with the types of metrics in the database: [https://data.cityofchicago.org/api/assets/AAD41A13-BE8A-4E67-B1F5-86E711E09D5F?download=true](https://data.cityofchicago.org/api/assets/AAD41A13-BE8A-4E67-B1F5-86E711E09D5F?utm_medium=Exinfluencer&utm_source=Exinfluencer&utm_content=000026UJ&utm_term=10006555&utm_id=NA-SkillsNetwork-Channel-SkillsNetworkCoursesIBMDeveloperSkillsNetworkDB0201ENSkillsNetwork20127838-2021-01-01&download=true&cm_mmc=Email_Newsletter-\\_-Developer_Ed%2BTech-\\_-WW_WW-\\_-SkillsNetwork-Courses-IBMDeveloperSkillsNetwork-DB0201EN-SkillsNetwork-20127838&cm_mmca1=000026UJ&cm_mmca2=10006555&cm_mmca3=M12345678&cvosrc=email.Newsletter.M12345678&cvo_campaign=000026UJ)\n",
        "\n",
        "**NOTE**:\n",
        "\n",
        "Do not download the dataset directly from City of Chicago portal. Instead download a static copy which is a more database friendly version from this <a href=\"https://cf-courses-data.s3.us.cloud-object-storage.appdomain.cloud/IBMDeveloperSkillsNetwork-DB0201EN-SkillsNetwork/labs/FinalModule_Coursera_V5/data/ChicagoPublicSchools.csv?utm_medium=Exinfluencer&utm_source=Exinfluencer&utm_content=000026UJ&utm_term=10006555&utm_id=NA-SkillsNetwork-Channel-SkillsNetworkCoursesIBMDeveloperSkillsNetworkDB0201ENSkillsNetwork20127838-2021-01-01\">link</a>.\n",
        "\n",
        "Now review some of its contents.\n"
      ]
    },
    {
      "cell_type": "markdown",
      "metadata": {
        "id": "BpB_lQH39Y10"
      },
      "source": [
        "### Store the dataset in a Table\n",
        "\n",
        "In many cases the dataset to be analyzed is available as a .CSV (comma separated values) file, perhaps on the internet. To analyze the data using SQL, it first needs to be stored in the database.\n",
        "\n",
        "While it is easier to read the dataset into a Pandas dataframe and then PERSIST it into the database as we saw in the previous lab, it results in mapping to default datatypes which may not be optimal for SQL querying. For example a long textual field may map to a CLOB instead of a VARCHAR.\n",
        "\n",
        "Therefore, **it is highly recommended to manually load the table using the database console LOAD tool, as indicated in Week 2 Lab 1 Part II**. The only difference with that lab is that in Step 5 of the instructions you will need to click on create \"(+) New Table\" and specify the name of the table you want to create and then click \"Next\".\n",
        "\n",
        "##### Now open the Db2 console, open the LOAD tool, Select / Drag the .CSV file for the CHICAGO PUBLIC SCHOOLS dataset and load the dataset into a new table called **SCHOOLS**.\n",
        "\n",
        "<a href=\"https://cognitiveclass.ai/?utm_medium=Exinfluencer&utm_source=Exinfluencer&utm_content=000026UJ&utm_term=10006555&utm_id=NA-SkillsNetwork-Channel-SkillsNetworkCoursesIBMDeveloperSkillsNetworkDB0201ENSkillsNetwork20127838-2021-01-01\"><img src = \"https://ibm.box.com/shared/static/uc4xjh1uxcc78ks1i18v668simioz4es.jpg\"></a>\n"
      ]
    },
    {
      "cell_type": "markdown",
      "metadata": {
        "id": "IJv2hhMs9Y11"
      },
      "source": [
        "### Connect to the database\n",
        "\n",
        "Let us now load the ipython-sql  extension and establish a connection with the database\n"
      ]
    },
    {
      "cell_type": "code",
      "metadata": {
        "id": "c98wQMWg9Y11",
        "outputId": "5db473ca-550a-4a96-b019-274526c944e7"
      },
      "source": [
        "!pip install sqlalchemy==1.3.9\n",
        "!pip install ibm_db_sa"
      ],
      "execution_count": null,
      "outputs": [
        {
          "output_type": "stream",
          "text": [
            "Requirement already satisfied: sqlalchemy==1.3.9 in /home/jupyterlab/conda/envs/python/lib/python3.6/site-packages (1.3.9)\n",
            "Requirement already satisfied: ibm_db_sa in /home/jupyterlab/conda/envs/python/lib/python3.6/site-packages (0.3.3)\n",
            "Requirement already satisfied: sqlalchemy>=0.7.3 in /home/jupyterlab/conda/envs/python/lib/python3.6/site-packages (from ibm_db_sa) (1.3.9)\n"
          ],
          "name": "stdout"
        }
      ]
    },
    {
      "cell_type": "code",
      "metadata": {
        "id": "052GAHgZ9Y12",
        "outputId": "b3ed453d-7b9e-4c41-f704-28c3be81df44"
      },
      "source": [
        "%load_ext sql"
      ],
      "execution_count": null,
      "outputs": [
        {
          "output_type": "stream",
          "text": [
            "The sql extension is already loaded. To reload it, use:\n",
            "  %reload_ext sql\n"
          ],
          "name": "stdout"
        }
      ]
    },
    {
      "cell_type": "code",
      "metadata": {
        "id": "sqdz7zhy9Y12",
        "outputId": "3406111e-dbfc-419b-c41b-73112bd49a34"
      },
      "source": [
        "# Enter the connection string for your Db2 on Cloud database instance below\n",
        "# %sql ibm_db_sa://my-username:my-password@my-hostname:my-port/my-db-name?security=SSL\n",
        "%sql ibm_db_sa://nwp26832:p9agypBYRIRHlYDJ@0c77d6f2-5da9-48a9-81f8-86b520b87518.bs2io90l08kqb1od8lcg.databases.appdomain.cloud:31198/BLUDB?security=SSL    "
      ],
      "execution_count": null,
      "outputs": [
        {
          "output_type": "execute_result",
          "data": {
            "text/plain": [
              "'Connected: nwp26832@BLUDB'"
            ]
          },
          "metadata": {
            "tags": []
          },
          "execution_count": 21
        }
      ]
    },
    {
      "cell_type": "markdown",
      "metadata": {
        "id": "x3ZSnGpA9Y13"
      },
      "source": [
        "### Query the database system catalog to retrieve table metadata\n",
        "\n",
        "##### You can verify that the table creation was successful by retrieving the list of all tables in your schema and checking whether the SCHOOLS table was created\n"
      ]
    },
    {
      "cell_type": "code",
      "metadata": {
        "id": "wFUQJfwA9Y13",
        "outputId": "d62cf61e-bb91-4006-994d-2c0936188846"
      },
      "source": [
        "# type in your query to retrieve list of all tables in the database for your db2 schema (username)\n",
        "# %sql select TABSCHEMA, TABNAME, CREATE_TIME from SYSCAT.TABLES where TABSCHEMA='nwp26832'\n",
        "%sql select TABSCHEMA, TABNAME, CREATE_TIME from SYSCAT.TABLES \\\n",
        "      where TABSCHEMA not in ('SYSIBM', 'SYSCAT', 'SYSSTAT', 'SYSIBMADM', 'SYSTOOLS', 'SYSPUBLIC')\n",
        "\n",
        "# %sql select TABSCHEMA, TABNAME, CREATE_TIME from SYSCAT.TABLES where TABSCHEMA='nwp26832'"
      ],
      "execution_count": null,
      "outputs": [
        {
          "output_type": "stream",
          "text": [
            " * ibm_db_sa://nwp26832:***@0c77d6f2-5da9-48a9-81f8-86b520b87518.bs2io90l08kqb1od8lcg.databases.appdomain.cloud:31198/BLUDB\n",
            "Done.\n"
          ],
          "name": "stdout"
        },
        {
          "output_type": "execute_result",
          "data": {
            "text/html": [
              "<table>\n",
              "    <thead>\n",
              "        <tr>\n",
              "            <th>tabschema</th>\n",
              "            <th>tabname</th>\n",
              "            <th>create_time</th>\n",
              "        </tr>\n",
              "    </thead>\n",
              "    <tbody>\n",
              "        <tr>\n",
              "            <td>NWP26832</td>\n",
              "            <td>TEST</td>\n",
              "            <td>2021-07-19 21:55:19.674467</td>\n",
              "        </tr>\n",
              "        <tr>\n",
              "            <td>NWP26832</td>\n",
              "            <td>COUNTRY</td>\n",
              "            <td>2021-07-19 22:03:48.521683</td>\n",
              "        </tr>\n",
              "        <tr>\n",
              "            <td>NWP26832</td>\n",
              "            <td>PETSALE</td>\n",
              "            <td>2021-07-19 22:09:07.393566</td>\n",
              "        </tr>\n",
              "        <tr>\n",
              "            <td>NWP26832</td>\n",
              "            <td>EMPLOYEES</td>\n",
              "            <td>2021-07-23 15:10:55.565172</td>\n",
              "        </tr>\n",
              "        <tr>\n",
              "            <td>NWP26832</td>\n",
              "            <td>JOB_HISTORY</td>\n",
              "            <td>2021-07-23 15:10:55.751803</td>\n",
              "        </tr>\n",
              "        <tr>\n",
              "            <td>NWP26832</td>\n",
              "            <td>JOBS</td>\n",
              "            <td>2021-07-23 15:10:55.938572</td>\n",
              "        </tr>\n",
              "        <tr>\n",
              "            <td>NWP26832</td>\n",
              "            <td>DEPARTMENTS</td>\n",
              "            <td>2021-07-23 15:10:56.151357</td>\n",
              "        </tr>\n",
              "        <tr>\n",
              "            <td>NWP26832</td>\n",
              "            <td>LOCATIONS</td>\n",
              "            <td>2021-07-23 15:10:56.325047</td>\n",
              "        </tr>\n",
              "        <tr>\n",
              "            <td>NWP26832</td>\n",
              "            <td>PETRESCUE</td>\n",
              "            <td>2021-07-24 14:23:58.215412</td>\n",
              "        </tr>\n",
              "        <tr>\n",
              "            <td>NWP26832</td>\n",
              "            <td>INSTRUCTOR</td>\n",
              "            <td>2021-07-24 23:38:25.059245</td>\n",
              "        </tr>\n",
              "        <tr>\n",
              "            <td>NWP26832</td>\n",
              "            <td>INSTRUCTOR2</td>\n",
              "            <td>2021-08-11 14:57:30.385245</td>\n",
              "        </tr>\n",
              "        <tr>\n",
              "            <td>NWP26832</td>\n",
              "            <td>INTERNATIONAL_STUDENT_TEST_SCORES</td>\n",
              "            <td>2021-08-11 15:25:31.072316</td>\n",
              "        </tr>\n",
              "        <tr>\n",
              "            <td>NWP26832</td>\n",
              "            <td>CHICAGO_SOCIOECONOMIC_DATA</td>\n",
              "            <td>2021-08-11 16:49:18.407663</td>\n",
              "        </tr>\n",
              "        <tr>\n",
              "            <td>NWP26832</td>\n",
              "            <td>SCHOOLS</td>\n",
              "            <td>2021-08-12 09:47:26.766866</td>\n",
              "        </tr>\n",
              "    </tbody>\n",
              "</table>"
            ],
            "text/plain": [
              "[('NWP26832', 'TEST', datetime.datetime(2021, 7, 19, 21, 55, 19, 674467)),\n",
              " ('NWP26832', 'COUNTRY', datetime.datetime(2021, 7, 19, 22, 3, 48, 521683)),\n",
              " ('NWP26832', 'PETSALE', datetime.datetime(2021, 7, 19, 22, 9, 7, 393566)),\n",
              " ('NWP26832', 'EMPLOYEES', datetime.datetime(2021, 7, 23, 15, 10, 55, 565172)),\n",
              " ('NWP26832', 'JOB_HISTORY', datetime.datetime(2021, 7, 23, 15, 10, 55, 751803)),\n",
              " ('NWP26832', 'JOBS', datetime.datetime(2021, 7, 23, 15, 10, 55, 938572)),\n",
              " ('NWP26832', 'DEPARTMENTS', datetime.datetime(2021, 7, 23, 15, 10, 56, 151357)),\n",
              " ('NWP26832', 'LOCATIONS', datetime.datetime(2021, 7, 23, 15, 10, 56, 325047)),\n",
              " ('NWP26832', 'PETRESCUE', datetime.datetime(2021, 7, 24, 14, 23, 58, 215412)),\n",
              " ('NWP26832', 'INSTRUCTOR', datetime.datetime(2021, 7, 24, 23, 38, 25, 59245)),\n",
              " ('NWP26832', 'INSTRUCTOR2', datetime.datetime(2021, 8, 11, 14, 57, 30, 385245)),\n",
              " ('NWP26832', 'INTERNATIONAL_STUDENT_TEST_SCORES', datetime.datetime(2021, 8, 11, 15, 25, 31, 72316)),\n",
              " ('NWP26832', 'CHICAGO_SOCIOECONOMIC_DATA', datetime.datetime(2021, 8, 11, 16, 49, 18, 407663)),\n",
              " ('NWP26832', 'SCHOOLS', datetime.datetime(2021, 8, 12, 9, 47, 26, 766866))]"
            ]
          },
          "metadata": {
            "tags": []
          },
          "execution_count": 22
        }
      ]
    },
    {
      "cell_type": "markdown",
      "metadata": {
        "id": "W6HvkaDZ9Y13"
      },
      "source": [
        "Double-click **here** for a hint\n",
        "\n",
        "<!--\n",
        "In Db2 the system catalog table called SYSCAT.TABLES contains the table metadata\n",
        "-->\n"
      ]
    },
    {
      "cell_type": "markdown",
      "metadata": {
        "id": "tdxU7BdO9Y13"
      },
      "source": [
        "Double-click **here** for the solution.\n",
        "\n",
        "<!-- Solution:\n",
        "\n",
        "%sql select TABSCHEMA, TABNAME, CREATE_TIME from SYSCAT.TABLES where TABSCHEMA='YOUR-DB2-USERNAME'\n",
        "\n",
        "or, you can retrieve list of all tables where the schema name is not one of the system created ones:\n",
        "\n",
        "%sql select TABSCHEMA, TABNAME, CREATE_TIME from SYSCAT.TABLES \\\n",
        "      where TABSCHEMA not in ('SYSIBM', 'SYSCAT', 'SYSSTAT', 'SYSIBMADM', 'SYSTOOLS', 'SYSPUBLIC')\n",
        "      \n",
        "or, just query for a specifc table that you want to verify exists in the database\n",
        "%sql select * from SYSCAT.TABLES where TABNAME = 'SCHOOLS'\n",
        "\n",
        "-->\n"
      ]
    },
    {
      "cell_type": "markdown",
      "metadata": {
        "id": "7ZqOqnIV9Y14"
      },
      "source": [
        "### Query the database system catalog to retrieve column metadata\n",
        "\n",
        "##### The SCHOOLS table contains a large number of columns. How many columns does this table have?\n"
      ]
    },
    {
      "cell_type": "code",
      "metadata": {
        "id": "HJcDUFte9Y14",
        "outputId": "214b3a3b-6072-48d6-8b03-018598a36b25"
      },
      "source": [
        "# type in your query to retrieve the number of columns in the SCHOOLS table\n",
        "%sql select count(*) as column_count from SYSCAT.COLUMNS where TABNAME = 'SCHOOLS'"
      ],
      "execution_count": null,
      "outputs": [
        {
          "output_type": "stream",
          "text": [
            " * ibm_db_sa://nwp26832:***@0c77d6f2-5da9-48a9-81f8-86b520b87518.bs2io90l08kqb1od8lcg.databases.appdomain.cloud:31198/BLUDB\n",
            "Done.\n"
          ],
          "name": "stdout"
        },
        {
          "output_type": "execute_result",
          "data": {
            "text/html": [
              "<table>\n",
              "    <thead>\n",
              "        <tr>\n",
              "            <th>column_count</th>\n",
              "        </tr>\n",
              "    </thead>\n",
              "    <tbody>\n",
              "        <tr>\n",
              "            <td>78</td>\n",
              "        </tr>\n",
              "    </tbody>\n",
              "</table>"
            ],
            "text/plain": [
              "[(78,)]"
            ]
          },
          "metadata": {
            "tags": []
          },
          "execution_count": 23
        }
      ]
    },
    {
      "cell_type": "markdown",
      "metadata": {
        "id": "sjGq-DZl9Y14"
      },
      "source": [
        "Double-click **here** for a hint\n",
        "\n",
        "<!--\n",
        "In Db2 the system catalog table called SYSCAT.COLUMNS contains the column metadata\n",
        "-->\n"
      ]
    },
    {
      "cell_type": "markdown",
      "metadata": {
        "id": "WiJfl3b89Y14"
      },
      "source": [
        "Double-click **here** for the solution.\n",
        "\n",
        "<!-- Solution:\n",
        "\n",
        "%sql select count(*) from SYSCAT.COLUMNS where TABNAME = 'SCHOOLS'\n",
        "\n",
        "-->\n"
      ]
    },
    {
      "cell_type": "markdown",
      "metadata": {
        "id": "0ctRg9h09Y14"
      },
      "source": [
        "Now retrieve the the list of columns in SCHOOLS table and their column type (datatype) and length.\n"
      ]
    },
    {
      "cell_type": "code",
      "metadata": {
        "id": "InNK5DPb9Y14",
        "outputId": "0b86e54b-b859-493c-d85d-ed76b242dca5"
      },
      "source": [
        "# type in your query to retrieve all column names in the SCHOOLS table along with their datatypes and length\n",
        "%sql select distinct(NAME), COLTYPE, LENGTH from SYSIBM.SYSCOLUMNS where TBNAME = 'SCHOOLS'"
      ],
      "execution_count": null,
      "outputs": [
        {
          "output_type": "stream",
          "text": [
            " * ibm_db_sa://nwp26832:***@0c77d6f2-5da9-48a9-81f8-86b520b87518.bs2io90l08kqb1od8lcg.databases.appdomain.cloud:31198/BLUDB\n",
            "Done.\n"
          ],
          "name": "stdout"
        },
        {
          "output_type": "execute_result",
          "data": {
            "text/html": [
              "<table>\n",
              "    <thead>\n",
              "        <tr>\n",
              "            <th>name</th>\n",
              "            <th>coltype</th>\n",
              "            <th>length</th>\n",
              "        </tr>\n",
              "    </thead>\n",
              "    <tbody>\n",
              "        <tr>\n",
              "            <td>10th Grade PLAN (2009)</td>\n",
              "            <td>VARCHAR </td>\n",
              "            <td>4</td>\n",
              "        </tr>\n",
              "        <tr>\n",
              "            <td>10th Grade PLAN (2010)</td>\n",
              "            <td>VARCHAR </td>\n",
              "            <td>4</td>\n",
              "        </tr>\n",
              "        <tr>\n",
              "            <td>11th Grade Average ACT (2011)</td>\n",
              "            <td>VARCHAR </td>\n",
              "            <td>4</td>\n",
              "        </tr>\n",
              "        <tr>\n",
              "            <td>9th Grade EXPLORE (2009)</td>\n",
              "            <td>VARCHAR </td>\n",
              "            <td>4</td>\n",
              "        </tr>\n",
              "        <tr>\n",
              "            <td>9th Grade EXPLORE (2010)</td>\n",
              "            <td>VARCHAR </td>\n",
              "            <td>4</td>\n",
              "        </tr>\n",
              "        <tr>\n",
              "            <td>ADEQUATE_YEARLY_PROGRESS_MADE_</td>\n",
              "            <td>VARCHAR </td>\n",
              "            <td>3</td>\n",
              "        </tr>\n",
              "        <tr>\n",
              "            <td>AVERAGE_STUDENT_ATTENDANCE</td>\n",
              "            <td>VARCHAR </td>\n",
              "            <td>6</td>\n",
              "        </tr>\n",
              "        <tr>\n",
              "            <td>AVERAGE_TEACHER_ATTENDANCE</td>\n",
              "            <td>VARCHAR </td>\n",
              "            <td>6</td>\n",
              "        </tr>\n",
              "        <tr>\n",
              "            <td>CITY</td>\n",
              "            <td>VARCHAR </td>\n",
              "            <td>7</td>\n",
              "        </tr>\n",
              "        <tr>\n",
              "            <td>COLLABORATIVE_NAME</td>\n",
              "            <td>VARCHAR </td>\n",
              "            <td>34</td>\n",
              "        </tr>\n",
              "        <tr>\n",
              "            <td>COLLEGE_ELIGIBILITY__</td>\n",
              "            <td>VARCHAR </td>\n",
              "            <td>4</td>\n",
              "        </tr>\n",
              "        <tr>\n",
              "            <td>COLLEGE_ENROLLMENT</td>\n",
              "            <td>SMALLINT</td>\n",
              "            <td>2</td>\n",
              "        </tr>\n",
              "        <tr>\n",
              "            <td>COLLEGE_ENROLLMENT_RATE__</td>\n",
              "            <td>VARCHAR </td>\n",
              "            <td>4</td>\n",
              "        </tr>\n",
              "        <tr>\n",
              "            <td>COMMUNITY_AREA_NAME</td>\n",
              "            <td>VARCHAR </td>\n",
              "            <td>22</td>\n",
              "        </tr>\n",
              "        <tr>\n",
              "            <td>COMMUNITY_AREA_NUMBER</td>\n",
              "            <td>SMALLINT</td>\n",
              "            <td>2</td>\n",
              "        </tr>\n",
              "        <tr>\n",
              "            <td>CPS_PERFORMANCE_POLICY_LEVEL</td>\n",
              "            <td>VARCHAR </td>\n",
              "            <td>15</td>\n",
              "        </tr>\n",
              "        <tr>\n",
              "            <td>CPS_PERFORMANCE_POLICY_STATUS</td>\n",
              "            <td>VARCHAR </td>\n",
              "            <td>16</td>\n",
              "        </tr>\n",
              "        <tr>\n",
              "            <td>ENVIRONMENT_ICON</td>\n",
              "            <td>VARCHAR </td>\n",
              "            <td>11</td>\n",
              "        </tr>\n",
              "        <tr>\n",
              "            <td>ENVIRONMENT_SCORE</td>\n",
              "            <td>SMALLINT</td>\n",
              "            <td>2</td>\n",
              "        </tr>\n",
              "        <tr>\n",
              "            <td>Elementary, Middle, or High School</td>\n",
              "            <td>VARCHAR </td>\n",
              "            <td>2</td>\n",
              "        </tr>\n",
              "        <tr>\n",
              "            <td>FAMILY_INVOLVEMENT_ICON</td>\n",
              "            <td>VARCHAR </td>\n",
              "            <td>11</td>\n",
              "        </tr>\n",
              "        <tr>\n",
              "            <td>FAMILY_INVOLVEMENT_SCORE</td>\n",
              "            <td>VARCHAR </td>\n",
              "            <td>3</td>\n",
              "        </tr>\n",
              "        <tr>\n",
              "            <td>FRESHMAN_ON_TRACK_RATE__</td>\n",
              "            <td>VARCHAR </td>\n",
              "            <td>4</td>\n",
              "        </tr>\n",
              "        <tr>\n",
              "            <td>GENERAL_SERVICES_ROUTE</td>\n",
              "            <td>SMALLINT</td>\n",
              "            <td>2</td>\n",
              "        </tr>\n",
              "        <tr>\n",
              "            <td>GR3_5_GRADE_LEVEL_MATH__</td>\n",
              "            <td>VARCHAR </td>\n",
              "            <td>4</td>\n",
              "        </tr>\n",
              "        <tr>\n",
              "            <td>GR3_5_GRADE_LEVEL_READ__</td>\n",
              "            <td>VARCHAR </td>\n",
              "            <td>4</td>\n",
              "        </tr>\n",
              "        <tr>\n",
              "            <td>GR3_5_KEEP_PACE_MATH__</td>\n",
              "            <td>VARCHAR </td>\n",
              "            <td>4</td>\n",
              "        </tr>\n",
              "        <tr>\n",
              "            <td>GR3_5_KEEP_PACE_READ__</td>\n",
              "            <td>VARCHAR </td>\n",
              "            <td>4</td>\n",
              "        </tr>\n",
              "        <tr>\n",
              "            <td>GR6_8_GRADE_LEVEL_MATH__</td>\n",
              "            <td>VARCHAR </td>\n",
              "            <td>4</td>\n",
              "        </tr>\n",
              "        <tr>\n",
              "            <td>GR6_8_GRADE_LEVEL_READ__</td>\n",
              "            <td>VARCHAR </td>\n",
              "            <td>4</td>\n",
              "        </tr>\n",
              "        <tr>\n",
              "            <td>GR6_8_KEEP_PACE_MATH_</td>\n",
              "            <td>VARCHAR </td>\n",
              "            <td>4</td>\n",
              "        </tr>\n",
              "        <tr>\n",
              "            <td>GR6_8_KEEP_PACE_READ__</td>\n",
              "            <td>VARCHAR </td>\n",
              "            <td>4</td>\n",
              "        </tr>\n",
              "        <tr>\n",
              "            <td>GRADUATION_RATE__</td>\n",
              "            <td>VARCHAR </td>\n",
              "            <td>4</td>\n",
              "        </tr>\n",
              "        <tr>\n",
              "            <td>GR_8_EXPLORE_MATH__</td>\n",
              "            <td>VARCHAR </td>\n",
              "            <td>4</td>\n",
              "        </tr>\n",
              "        <tr>\n",
              "            <td>GR_8_EXPLORE_READ__</td>\n",
              "            <td>VARCHAR </td>\n",
              "            <td>4</td>\n",
              "        </tr>\n",
              "        <tr>\n",
              "            <td>HEALTHY_SCHOOL_CERTIFIED</td>\n",
              "            <td>VARCHAR </td>\n",
              "            <td>3</td>\n",
              "        </tr>\n",
              "        <tr>\n",
              "            <td>INDIVIDUALIZED_EDUCATION_PROGRAM_COMPLIANCE_RATE</td>\n",
              "            <td>VARCHAR </td>\n",
              "            <td>7</td>\n",
              "        </tr>\n",
              "        <tr>\n",
              "            <td>INSTRUCTION_ICON</td>\n",
              "            <td>VARCHAR </td>\n",
              "            <td>11</td>\n",
              "        </tr>\n",
              "        <tr>\n",
              "            <td>INSTRUCTION_SCORE</td>\n",
              "            <td>SMALLINT</td>\n",
              "            <td>2</td>\n",
              "        </tr>\n",
              "        <tr>\n",
              "            <td>ISAT_EXCEEDING_MATH__</td>\n",
              "            <td>DECIMAL </td>\n",
              "            <td>4</td>\n",
              "        </tr>\n",
              "        <tr>\n",
              "            <td>ISAT_EXCEEDING_READING__</td>\n",
              "            <td>DECIMAL </td>\n",
              "            <td>4</td>\n",
              "        </tr>\n",
              "        <tr>\n",
              "            <td>ISAT_VALUE_ADD_COLOR_MATH</td>\n",
              "            <td>VARCHAR </td>\n",
              "            <td>6</td>\n",
              "        </tr>\n",
              "        <tr>\n",
              "            <td>ISAT_VALUE_ADD_COLOR_READ</td>\n",
              "            <td>VARCHAR </td>\n",
              "            <td>6</td>\n",
              "        </tr>\n",
              "        <tr>\n",
              "            <td>ISAT_VALUE_ADD_MATH</td>\n",
              "            <td>DECIMAL </td>\n",
              "            <td>3</td>\n",
              "        </tr>\n",
              "        <tr>\n",
              "            <td>ISAT_VALUE_ADD_READ</td>\n",
              "            <td>DECIMAL </td>\n",
              "            <td>3</td>\n",
              "        </tr>\n",
              "        <tr>\n",
              "            <td>LATITUDE</td>\n",
              "            <td>DECIMAL </td>\n",
              "            <td>18</td>\n",
              "        </tr>\n",
              "        <tr>\n",
              "            <td>LEADERS_ICON</td>\n",
              "            <td>VARCHAR </td>\n",
              "            <td>4</td>\n",
              "        </tr>\n",
              "        <tr>\n",
              "            <td>LEADERS_SCORE</td>\n",
              "            <td>VARCHAR </td>\n",
              "            <td>3</td>\n",
              "        </tr>\n",
              "        <tr>\n",
              "            <td>LINK</td>\n",
              "            <td>VARCHAR </td>\n",
              "            <td>78</td>\n",
              "        </tr>\n",
              "        <tr>\n",
              "            <td>LOCATION</td>\n",
              "            <td>VARCHAR </td>\n",
              "            <td>27</td>\n",
              "        </tr>\n",
              "        <tr>\n",
              "            <td>LONGITUDE</td>\n",
              "            <td>DECIMAL </td>\n",
              "            <td>18</td>\n",
              "        </tr>\n",
              "        <tr>\n",
              "            <td>NAME_OF_SCHOOL</td>\n",
              "            <td>VARCHAR </td>\n",
              "            <td>64</td>\n",
              "        </tr>\n",
              "        <tr>\n",
              "            <td>NETWORK_MANAGER</td>\n",
              "            <td>VARCHAR </td>\n",
              "            <td>40</td>\n",
              "        </tr>\n",
              "        <tr>\n",
              "            <td>NET_CHANGE_EXPLORE_AND_PLAN</td>\n",
              "            <td>VARCHAR </td>\n",
              "            <td>3</td>\n",
              "        </tr>\n",
              "        <tr>\n",
              "            <td>NET_CHANGE_PLAN_AND_ACT</td>\n",
              "            <td>VARCHAR </td>\n",
              "            <td>3</td>\n",
              "        </tr>\n",
              "        <tr>\n",
              "            <td>PARENT_ENGAGEMENT_ICON</td>\n",
              "            <td>VARCHAR </td>\n",
              "            <td>7</td>\n",
              "        </tr>\n",
              "        <tr>\n",
              "            <td>PARENT_ENGAGEMENT_SCORE</td>\n",
              "            <td>VARCHAR </td>\n",
              "            <td>3</td>\n",
              "        </tr>\n",
              "        <tr>\n",
              "            <td>PARENT_ENVIRONMENT_ICON</td>\n",
              "            <td>VARCHAR </td>\n",
              "            <td>7</td>\n",
              "        </tr>\n",
              "        <tr>\n",
              "            <td>PARENT_ENVIRONMENT_SCORE</td>\n",
              "            <td>VARCHAR </td>\n",
              "            <td>3</td>\n",
              "        </tr>\n",
              "        <tr>\n",
              "            <td>PHONE_NUMBER</td>\n",
              "            <td>VARCHAR </td>\n",
              "            <td>14</td>\n",
              "        </tr>\n",
              "        <tr>\n",
              "            <td>PK_2_LITERACY__</td>\n",
              "            <td>VARCHAR </td>\n",
              "            <td>4</td>\n",
              "        </tr>\n",
              "        <tr>\n",
              "            <td>PK_2_MATH__</td>\n",
              "            <td>VARCHAR </td>\n",
              "            <td>4</td>\n",
              "        </tr>\n",
              "        <tr>\n",
              "            <td>POLICE_DISTRICT</td>\n",
              "            <td>SMALLINT</td>\n",
              "            <td>2</td>\n",
              "        </tr>\n",
              "        <tr>\n",
              "            <td>RATE_OF_MISCONDUCTS__PER_100_STUDENTS_</td>\n",
              "            <td>DECIMAL </td>\n",
              "            <td>5</td>\n",
              "        </tr>\n",
              "        <tr>\n",
              "            <td>SAFETY_ICON</td>\n",
              "            <td>VARCHAR </td>\n",
              "            <td>11</td>\n",
              "        </tr>\n",
              "        <tr>\n",
              "            <td>SAFETY_SCORE</td>\n",
              "            <td>SMALLINT</td>\n",
              "            <td>2</td>\n",
              "        </tr>\n",
              "        <tr>\n",
              "            <td>SCHOOL_ID</td>\n",
              "            <td>INTEGER </td>\n",
              "            <td>4</td>\n",
              "        </tr>\n",
              "        <tr>\n",
              "            <td>STATE</td>\n",
              "            <td>VARCHAR </td>\n",
              "            <td>2</td>\n",
              "        </tr>\n",
              "        <tr>\n",
              "            <td>STREET_ADDRESS</td>\n",
              "            <td>VARCHAR </td>\n",
              "            <td>29</td>\n",
              "        </tr>\n",
              "        <tr>\n",
              "            <td>STUDENTS_PASSING__ALGEBRA__</td>\n",
              "            <td>VARCHAR </td>\n",
              "            <td>4</td>\n",
              "        </tr>\n",
              "        <tr>\n",
              "            <td>STUDENTS_TAKING__ALGEBRA__</td>\n",
              "            <td>VARCHAR </td>\n",
              "            <td>4</td>\n",
              "        </tr>\n",
              "        <tr>\n",
              "            <td>TEACHERS_ICON</td>\n",
              "            <td>VARCHAR </td>\n",
              "            <td>11</td>\n",
              "        </tr>\n",
              "        <tr>\n",
              "            <td>TEACHERS_SCORE</td>\n",
              "            <td>VARCHAR </td>\n",
              "            <td>3</td>\n",
              "        </tr>\n",
              "        <tr>\n",
              "            <td>TRACK_SCHEDULE</td>\n",
              "            <td>VARCHAR </td>\n",
              "            <td>12</td>\n",
              "        </tr>\n",
              "        <tr>\n",
              "            <td>WARD</td>\n",
              "            <td>SMALLINT</td>\n",
              "            <td>2</td>\n",
              "        </tr>\n",
              "        <tr>\n",
              "            <td>X_COORDINATE</td>\n",
              "            <td>DECIMAL </td>\n",
              "            <td>13</td>\n",
              "        </tr>\n",
              "        <tr>\n",
              "            <td>Y_COORDINATE</td>\n",
              "            <td>DECIMAL </td>\n",
              "            <td>13</td>\n",
              "        </tr>\n",
              "        <tr>\n",
              "            <td>ZIP_CODE</td>\n",
              "            <td>INTEGER </td>\n",
              "            <td>4</td>\n",
              "        </tr>\n",
              "    </tbody>\n",
              "</table>"
            ],
            "text/plain": [
              "[('10th Grade PLAN (2009)', 'VARCHAR ', 4),\n",
              " ('10th Grade PLAN (2010)', 'VARCHAR ', 4),\n",
              " ('11th Grade Average ACT (2011)', 'VARCHAR ', 4),\n",
              " ('9th Grade EXPLORE (2009)', 'VARCHAR ', 4),\n",
              " ('9th Grade EXPLORE (2010)', 'VARCHAR ', 4),\n",
              " ('ADEQUATE_YEARLY_PROGRESS_MADE_', 'VARCHAR ', 3),\n",
              " ('AVERAGE_STUDENT_ATTENDANCE', 'VARCHAR ', 6),\n",
              " ('AVERAGE_TEACHER_ATTENDANCE', 'VARCHAR ', 6),\n",
              " ('CITY', 'VARCHAR ', 7),\n",
              " ('COLLABORATIVE_NAME', 'VARCHAR ', 34),\n",
              " ('COLLEGE_ELIGIBILITY__', 'VARCHAR ', 4),\n",
              " ('COLLEGE_ENROLLMENT', 'SMALLINT', 2),\n",
              " ('COLLEGE_ENROLLMENT_RATE__', 'VARCHAR ', 4),\n",
              " ('COMMUNITY_AREA_NAME', 'VARCHAR ', 22),\n",
              " ('COMMUNITY_AREA_NUMBER', 'SMALLINT', 2),\n",
              " ('CPS_PERFORMANCE_POLICY_LEVEL', 'VARCHAR ', 15),\n",
              " ('CPS_PERFORMANCE_POLICY_STATUS', 'VARCHAR ', 16),\n",
              " ('ENVIRONMENT_ICON', 'VARCHAR ', 11),\n",
              " ('ENVIRONMENT_SCORE', 'SMALLINT', 2),\n",
              " ('Elementary, Middle, or High School', 'VARCHAR ', 2),\n",
              " ('FAMILY_INVOLVEMENT_ICON', 'VARCHAR ', 11),\n",
              " ('FAMILY_INVOLVEMENT_SCORE', 'VARCHAR ', 3),\n",
              " ('FRESHMAN_ON_TRACK_RATE__', 'VARCHAR ', 4),\n",
              " ('GENERAL_SERVICES_ROUTE', 'SMALLINT', 2),\n",
              " ('GR3_5_GRADE_LEVEL_MATH__', 'VARCHAR ', 4),\n",
              " ('GR3_5_GRADE_LEVEL_READ__', 'VARCHAR ', 4),\n",
              " ('GR3_5_KEEP_PACE_MATH__', 'VARCHAR ', 4),\n",
              " ('GR3_5_KEEP_PACE_READ__', 'VARCHAR ', 4),\n",
              " ('GR6_8_GRADE_LEVEL_MATH__', 'VARCHAR ', 4),\n",
              " ('GR6_8_GRADE_LEVEL_READ__', 'VARCHAR ', 4),\n",
              " ('GR6_8_KEEP_PACE_MATH_', 'VARCHAR ', 4),\n",
              " ('GR6_8_KEEP_PACE_READ__', 'VARCHAR ', 4),\n",
              " ('GRADUATION_RATE__', 'VARCHAR ', 4),\n",
              " ('GR_8_EXPLORE_MATH__', 'VARCHAR ', 4),\n",
              " ('GR_8_EXPLORE_READ__', 'VARCHAR ', 4),\n",
              " ('HEALTHY_SCHOOL_CERTIFIED', 'VARCHAR ', 3),\n",
              " ('INDIVIDUALIZED_EDUCATION_PROGRAM_COMPLIANCE_RATE', 'VARCHAR ', 7),\n",
              " ('INSTRUCTION_ICON', 'VARCHAR ', 11),\n",
              " ('INSTRUCTION_SCORE', 'SMALLINT', 2),\n",
              " ('ISAT_EXCEEDING_MATH__', 'DECIMAL ', 4),\n",
              " ('ISAT_EXCEEDING_READING__', 'DECIMAL ', 4),\n",
              " ('ISAT_VALUE_ADD_COLOR_MATH', 'VARCHAR ', 6),\n",
              " ('ISAT_VALUE_ADD_COLOR_READ', 'VARCHAR ', 6),\n",
              " ('ISAT_VALUE_ADD_MATH', 'DECIMAL ', 3),\n",
              " ('ISAT_VALUE_ADD_READ', 'DECIMAL ', 3),\n",
              " ('LATITUDE', 'DECIMAL ', 18),\n",
              " ('LEADERS_ICON', 'VARCHAR ', 4),\n",
              " ('LEADERS_SCORE', 'VARCHAR ', 3),\n",
              " ('LINK', 'VARCHAR ', 78),\n",
              " ('LOCATION', 'VARCHAR ', 27),\n",
              " ('LONGITUDE', 'DECIMAL ', 18),\n",
              " ('NAME_OF_SCHOOL', 'VARCHAR ', 64),\n",
              " ('NETWORK_MANAGER', 'VARCHAR ', 40),\n",
              " ('NET_CHANGE_EXPLORE_AND_PLAN', 'VARCHAR ', 3),\n",
              " ('NET_CHANGE_PLAN_AND_ACT', 'VARCHAR ', 3),\n",
              " ('PARENT_ENGAGEMENT_ICON', 'VARCHAR ', 7),\n",
              " ('PARENT_ENGAGEMENT_SCORE', 'VARCHAR ', 3),\n",
              " ('PARENT_ENVIRONMENT_ICON', 'VARCHAR ', 7),\n",
              " ('PARENT_ENVIRONMENT_SCORE', 'VARCHAR ', 3),\n",
              " ('PHONE_NUMBER', 'VARCHAR ', 14),\n",
              " ('PK_2_LITERACY__', 'VARCHAR ', 4),\n",
              " ('PK_2_MATH__', 'VARCHAR ', 4),\n",
              " ('POLICE_DISTRICT', 'SMALLINT', 2),\n",
              " ('RATE_OF_MISCONDUCTS__PER_100_STUDENTS_', 'DECIMAL ', 5),\n",
              " ('SAFETY_ICON', 'VARCHAR ', 11),\n",
              " ('SAFETY_SCORE', 'SMALLINT', 2),\n",
              " ('SCHOOL_ID', 'INTEGER ', 4),\n",
              " ('STATE', 'VARCHAR ', 2),\n",
              " ('STREET_ADDRESS', 'VARCHAR ', 29),\n",
              " ('STUDENTS_PASSING__ALGEBRA__', 'VARCHAR ', 4),\n",
              " ('STUDENTS_TAKING__ALGEBRA__', 'VARCHAR ', 4),\n",
              " ('TEACHERS_ICON', 'VARCHAR ', 11),\n",
              " ('TEACHERS_SCORE', 'VARCHAR ', 3),\n",
              " ('TRACK_SCHEDULE', 'VARCHAR ', 12),\n",
              " ('WARD', 'SMALLINT', 2),\n",
              " ('X_COORDINATE', 'DECIMAL ', 13),\n",
              " ('Y_COORDINATE', 'DECIMAL ', 13),\n",
              " ('ZIP_CODE', 'INTEGER ', 4)]"
            ]
          },
          "metadata": {
            "tags": []
          },
          "execution_count": 24
        }
      ]
    },
    {
      "cell_type": "markdown",
      "metadata": {
        "id": "7sTONZbX9Y15"
      },
      "source": [
        "Double-click **here** for the solution.\n",
        "\n",
        "<!-- Solution:\n",
        "\n",
        "%sql select COLNAME, TYPENAME, LENGTH from SYSCAT.COLUMNS where TABNAME = 'SCHOOLS'\n",
        "\n",
        "or\n",
        "\n",
        "%sql select distinct(NAME), COLTYPE, LENGTH from SYSIBM.SYSCOLUMNS where TBNAME = 'SCHOOLS'\n",
        "\n",
        "-->\n"
      ]
    },
    {
      "cell_type": "markdown",
      "metadata": {
        "id": "_6sqr5_M9Y15"
      },
      "source": [
        "### Questions\n",
        "\n",
        "1.  Is the column name for the \"SCHOOL ID\" attribute in upper or mixed case?\n",
        "2.  What is the name of \"Community Area Name\" column in your table? Does it have spaces?\n",
        "3.  Are there any columns in whose names the spaces and paranthesis (round brackets) have been replaced by the underscore character \"\\_\"?\n"
      ]
    },
    {
      "cell_type": "markdown",
      "metadata": {
        "id": "049CJFDX9Y15"
      },
      "source": [
        "## Problems\n",
        "\n",
        "### Problem 1\n",
        "\n",
        "##### How many Elementary Schools are in the dataset?\n"
      ]
    },
    {
      "cell_type": "code",
      "metadata": {
        "id": "DMasmIEs9Y15",
        "outputId": "b0c61643-9ba7-45f3-a176-49f4b5dd11f4"
      },
      "source": [
        "%sql select count(*) from SCHOOLS where school_type = 'ES'"
      ],
      "execution_count": null,
      "outputs": [
        {
          "output_type": "stream",
          "text": [
            " * ibm_db_sa://nwp26832:***@0c77d6f2-5da9-48a9-81f8-86b520b87518.bs2io90l08kqb1od8lcg.databases.appdomain.cloud:31198/BLUDB\n",
            "(ibm_db_dbi.ProgrammingError) ibm_db_dbi::ProgrammingError: SQLNumResultCols failed: [IBM][CLI Driver][DB2/LINUXX8664] SQL0206N  \"SCHOOL_TYPE\" is not valid in the context where it is used.  SQLSTATE=42703 SQLCODE=-206\n",
            "[SQL: select count(*) from SCHOOLS where school_type = 'ES']\n",
            "(Background on this error at: http://sqlalche.me/e/f405)\n"
          ],
          "name": "stdout"
        }
      ]
    },
    {
      "cell_type": "markdown",
      "metadata": {
        "id": "qkf8wPct9Y16"
      },
      "source": [
        "Double-click **here** for a hint\n",
        "\n",
        "<!--\n",
        "Which column specifies the school type e.g. 'ES', 'MS', 'HS'? (\"Elementary School, Middle School, High School\")\n",
        "-->\n"
      ]
    },
    {
      "cell_type": "markdown",
      "metadata": {
        "id": "d8AoMkyM9Y17"
      },
      "source": [
        "Double-click **here** for another hint\n",
        "\n",
        "<!--\n",
        "Does the column name have mixed case, spaces or other special characters?\n",
        "If so, ensure you use double quotes around the \"Name of the Column\"\n",
        "-->\n"
      ]
    },
    {
      "cell_type": "markdown",
      "metadata": {
        "id": "f3FEAVYY9Y17"
      },
      "source": [
        "Double-click **here** for the solution.\n",
        "\n",
        "<!-- Solution:\n",
        "\n",
        "%sql select count(*) from SCHOOLS where school_type = 'ES'\n",
        "\n",
        "Correct answer: 462\n",
        "\n",
        "-->\n"
      ]
    },
    {
      "cell_type": "markdown",
      "metadata": {
        "id": "N86UCbsE9Y17"
      },
      "source": [
        "### Problem 2\n",
        "\n",
        "##### What is the highest Safety Score?\n"
      ]
    },
    {
      "cell_type": "code",
      "metadata": {
        "id": "Nf5v4x6M9Y17",
        "outputId": "b045afb0-4aeb-434b-9aa7-059ba90eca29"
      },
      "source": [
        "%sql select MAX(Safety_Score) AS MAX_SAFETY_SCORE from SCHOOLS"
      ],
      "execution_count": null,
      "outputs": [
        {
          "output_type": "stream",
          "text": [
            " * ibm_db_sa://nwp26832:***@0c77d6f2-5da9-48a9-81f8-86b520b87518.bs2io90l08kqb1od8lcg.databases.appdomain.cloud:31198/BLUDB\n",
            "Done.\n"
          ],
          "name": "stdout"
        },
        {
          "output_type": "execute_result",
          "data": {
            "text/html": [
              "<table>\n",
              "    <thead>\n",
              "        <tr>\n",
              "            <th>max_safety_score</th>\n",
              "        </tr>\n",
              "    </thead>\n",
              "    <tbody>\n",
              "        <tr>\n",
              "            <td>99</td>\n",
              "        </tr>\n",
              "    </tbody>\n",
              "</table>"
            ],
            "text/plain": [
              "[(99,)]"
            ]
          },
          "metadata": {
            "tags": []
          },
          "execution_count": 31
        }
      ]
    },
    {
      "cell_type": "markdown",
      "metadata": {
        "id": "N1ADxtrb9Y17"
      },
      "source": [
        "Double-click **here** for a hint\n",
        "\n",
        "<!--\n",
        "Use the MAX() function\n",
        "-->\n"
      ]
    },
    {
      "cell_type": "markdown",
      "metadata": {
        "id": "KN2rKrDX9Y17"
      },
      "source": [
        "Double-click **here** for the solution.\n",
        "\n",
        "<!-- Hint:\n",
        "\n",
        "%sql select MAX(Safety_Score) AS MAX_SAFETY_SCORE from SCHOOLS\n",
        "\n",
        "Correct answer: 99\n",
        "-->\n"
      ]
    },
    {
      "cell_type": "markdown",
      "metadata": {
        "id": "hzm77roL9Y17"
      },
      "source": [
        "### Problem 3\n",
        "\n",
        "##### Which schools have highest Safety Score?\n"
      ]
    },
    {
      "cell_type": "code",
      "metadata": {
        "id": "98k0hihd9Y18",
        "outputId": "686da502-3f83-44b9-d0d0-ff63a7a1e2e9"
      },
      "source": [
        "%%sql select Name_of_School, Safety_Score from SCHOOLS where \n",
        "  Safety_Score= (select MAX(Safety_Score) from SCHOOLS)\n"
      ],
      "execution_count": null,
      "outputs": [
        {
          "output_type": "stream",
          "text": [
            " * ibm_db_sa://nwp26832:***@0c77d6f2-5da9-48a9-81f8-86b520b87518.bs2io90l08kqb1od8lcg.databases.appdomain.cloud:31198/BLUDB\n",
            "Done.\n"
          ],
          "name": "stdout"
        },
        {
          "output_type": "execute_result",
          "data": {
            "text/html": [
              "<table>\n",
              "    <thead>\n",
              "        <tr>\n",
              "            <th>name_of_school</th>\n",
              "            <th>safety_score</th>\n",
              "        </tr>\n",
              "    </thead>\n",
              "    <tbody>\n",
              "        <tr>\n",
              "            <td>Abraham Lincoln Elementary School</td>\n",
              "            <td>99</td>\n",
              "        </tr>\n",
              "        <tr>\n",
              "            <td>Alexander Graham Bell Elementary School</td>\n",
              "            <td>99</td>\n",
              "        </tr>\n",
              "        <tr>\n",
              "            <td>Annie Keller Elementary Gifted Magnet School</td>\n",
              "            <td>99</td>\n",
              "        </tr>\n",
              "        <tr>\n",
              "            <td>Augustus H Burley Elementary School</td>\n",
              "            <td>99</td>\n",
              "        </tr>\n",
              "        <tr>\n",
              "            <td>Edgar Allan Poe Elementary Classical School</td>\n",
              "            <td>99</td>\n",
              "        </tr>\n",
              "        <tr>\n",
              "            <td>Edgebrook Elementary School</td>\n",
              "            <td>99</td>\n",
              "        </tr>\n",
              "        <tr>\n",
              "            <td>Ellen Mitchell Elementary School</td>\n",
              "            <td>99</td>\n",
              "        </tr>\n",
              "        <tr>\n",
              "            <td>James E McDade Elementary Classical School</td>\n",
              "            <td>99</td>\n",
              "        </tr>\n",
              "        <tr>\n",
              "            <td>James G Blaine Elementary School</td>\n",
              "            <td>99</td>\n",
              "        </tr>\n",
              "        <tr>\n",
              "            <td>LaSalle Elementary Language Academy</td>\n",
              "            <td>99</td>\n",
              "        </tr>\n",
              "        <tr>\n",
              "            <td>Mary E Courtenay Elementary Language Arts Center</td>\n",
              "            <td>99</td>\n",
              "        </tr>\n",
              "        <tr>\n",
              "            <td>Northside College Preparatory High School</td>\n",
              "            <td>99</td>\n",
              "        </tr>\n",
              "        <tr>\n",
              "            <td>Northside Learning Center High School</td>\n",
              "            <td>99</td>\n",
              "        </tr>\n",
              "        <tr>\n",
              "            <td>Norwood Park Elementary School</td>\n",
              "            <td>99</td>\n",
              "        </tr>\n",
              "        <tr>\n",
              "            <td>Oriole Park Elementary School</td>\n",
              "            <td>99</td>\n",
              "        </tr>\n",
              "        <tr>\n",
              "            <td>Sauganash Elementary School</td>\n",
              "            <td>99</td>\n",
              "        </tr>\n",
              "        <tr>\n",
              "            <td>Stephen Decatur Classical Elementary School</td>\n",
              "            <td>99</td>\n",
              "        </tr>\n",
              "        <tr>\n",
              "            <td>Talman Elementary School</td>\n",
              "            <td>99</td>\n",
              "        </tr>\n",
              "        <tr>\n",
              "            <td>Wildwood Elementary School</td>\n",
              "            <td>99</td>\n",
              "        </tr>\n",
              "    </tbody>\n",
              "</table>"
            ],
            "text/plain": [
              "[('Abraham Lincoln Elementary School', 99),\n",
              " ('Alexander Graham Bell Elementary School', 99),\n",
              " ('Annie Keller Elementary Gifted Magnet School', 99),\n",
              " ('Augustus H Burley Elementary School', 99),\n",
              " ('Edgar Allan Poe Elementary Classical School', 99),\n",
              " ('Edgebrook Elementary School', 99),\n",
              " ('Ellen Mitchell Elementary School', 99),\n",
              " ('James E McDade Elementary Classical School', 99),\n",
              " ('James G Blaine Elementary School', 99),\n",
              " ('LaSalle Elementary Language Academy', 99),\n",
              " ('Mary E Courtenay Elementary Language Arts Center', 99),\n",
              " ('Northside College Preparatory High School', 99),\n",
              " ('Northside Learning Center High School', 99),\n",
              " ('Norwood Park Elementary School', 99),\n",
              " ('Oriole Park Elementary School', 99),\n",
              " ('Sauganash Elementary School', 99),\n",
              " ('Stephen Decatur Classical Elementary School', 99),\n",
              " ('Talman Elementary School', 99),\n",
              " ('Wildwood Elementary School', 99)]"
            ]
          },
          "metadata": {
            "tags": []
          },
          "execution_count": 34
        }
      ]
    },
    {
      "cell_type": "markdown",
      "metadata": {
        "id": "emnteRgp9Y18"
      },
      "source": [
        "Double-click **here** for the solution.\n",
        "\n",
        "<!-- Solution:\n",
        "In the previous problem we found out that the highest Safety Score is 99, so we can use that as an input in the where clause:\n",
        "\n",
        "%sql select Name_of_School, Safety_Score from SCHOOLS where Safety_Score = 99\n",
        "\n",
        "or, a better way:\n",
        "\n",
        "%sql select Name_of_School, Safety_Score from SCHOOLS where \\\n",
        "  Safety_Score= (select MAX(Safety_Score) from SCHOOLS)\n",
        "\n",
        "\n",
        "Correct answer: several schools with with Safety Score of 99.\n",
        "-->\n"
      ]
    },
    {
      "cell_type": "markdown",
      "metadata": {
        "id": "RZ0QIVXS9Y18"
      },
      "source": [
        "### Problem 4\n",
        "\n",
        "##### What are the top 10 schools with the highest \"Average Student Attendance\"?\n"
      ]
    },
    {
      "cell_type": "code",
      "metadata": {
        "id": "MIgEjZlQ9Y18",
        "outputId": "8681ace8-3272-4876-9306-9158fdd6960a"
      },
      "source": [
        "%%sql \n",
        "SELECT NAME_OF_SCHOOL,AVERAGE_STUDENT_ATTENDANCE\n",
        "FROM SCHOOLS\n",
        "where AVERAGE_STUDENT_ATTENDANCE is not null\n",
        "order by AVERAGE_STUDENT_ATTENDANCE desc\n",
        "limit 10;"
      ],
      "execution_count": null,
      "outputs": [
        {
          "output_type": "stream",
          "text": [
            " * ibm_db_sa://nwp26832:***@0c77d6f2-5da9-48a9-81f8-86b520b87518.bs2io90l08kqb1od8lcg.databases.appdomain.cloud:31198/BLUDB\n",
            "Done.\n"
          ],
          "name": "stdout"
        },
        {
          "output_type": "execute_result",
          "data": {
            "text/html": [
              "<table>\n",
              "    <thead>\n",
              "        <tr>\n",
              "            <th>name_of_school</th>\n",
              "            <th>average_student_attendance</th>\n",
              "        </tr>\n",
              "    </thead>\n",
              "    <tbody>\n",
              "        <tr>\n",
              "            <td>John Charles Haines Elementary School</td>\n",
              "            <td>98.40%</td>\n",
              "        </tr>\n",
              "        <tr>\n",
              "            <td>James Ward Elementary School</td>\n",
              "            <td>97.80%</td>\n",
              "        </tr>\n",
              "        <tr>\n",
              "            <td>Edgar Allan Poe Elementary Classical School</td>\n",
              "            <td>97.60%</td>\n",
              "        </tr>\n",
              "        <tr>\n",
              "            <td>Rachel Carson Elementary School</td>\n",
              "            <td>97.60%</td>\n",
              "        </tr>\n",
              "        <tr>\n",
              "            <td>Orozco Fine Arts &amp; Sciences Elementary School</td>\n",
              "            <td>97.60%</td>\n",
              "        </tr>\n",
              "        <tr>\n",
              "            <td>Annie Keller Elementary Gifted Magnet School</td>\n",
              "            <td>97.50%</td>\n",
              "        </tr>\n",
              "        <tr>\n",
              "            <td>Andrew Jackson Elementary Language Academy</td>\n",
              "            <td>97.40%</td>\n",
              "        </tr>\n",
              "        <tr>\n",
              "            <td>Lenart Elementary Regional Gifted Center</td>\n",
              "            <td>97.40%</td>\n",
              "        </tr>\n",
              "        <tr>\n",
              "            <td>Disney II Magnet School</td>\n",
              "            <td>97.30%</td>\n",
              "        </tr>\n",
              "        <tr>\n",
              "            <td>John H Vanderpoel Elementary Magnet School</td>\n",
              "            <td>97.20%</td>\n",
              "        </tr>\n",
              "    </tbody>\n",
              "</table>"
            ],
            "text/plain": [
              "[('John Charles Haines Elementary School', '98.40%'),\n",
              " ('James Ward Elementary School', '97.80%'),\n",
              " ('Edgar Allan Poe Elementary Classical School', '97.60%'),\n",
              " ('Rachel Carson Elementary School', '97.60%'),\n",
              " ('Orozco Fine Arts & Sciences Elementary School', '97.60%'),\n",
              " ('Annie Keller Elementary Gifted Magnet School', '97.50%'),\n",
              " ('Andrew Jackson Elementary Language Academy', '97.40%'),\n",
              " ('Lenart Elementary Regional Gifted Center', '97.40%'),\n",
              " ('Disney II Magnet School', '97.30%'),\n",
              " ('John H Vanderpoel Elementary Magnet School', '97.20%')]"
            ]
          },
          "metadata": {
            "tags": []
          },
          "execution_count": 37
        }
      ]
    },
    {
      "cell_type": "markdown",
      "metadata": {
        "id": "wW3lSs9w9Y19"
      },
      "source": [
        "Double-click **here** for the solution.\n",
        "\n",
        "<!-- Solution:\n",
        "\n",
        "%sql select Name_of_School, Average_Student_Attendance from SCHOOLS \\\n",
        "    order by Average_Student_Attendance desc nulls last limit 10 \n",
        "\n",
        "-->\n"
      ]
    },
    {
      "cell_type": "markdown",
      "metadata": {
        "id": "y5Jx4KVy9Y19"
      },
      "source": [
        "### Problem 5\n",
        "\n",
        "##### Retrieve the list of 5 Schools with the lowest Average Student Attendance sorted in ascending order based on attendance\n"
      ]
    },
    {
      "cell_type": "code",
      "metadata": {
        "id": "fPEUV67f9Y19",
        "outputId": "697c794b-b9dd-453e-81ee-36043fbb7d7c"
      },
      "source": [
        "%%sql \n",
        "SELECT NAME_OF_SCHOOL,AVERAGE_STUDENT_ATTENDANCE\n",
        "FROM SCHOOLS\n",
        "where AVERAGE_STUDENT_ATTENDANCE is not null\n",
        "order by AVERAGE_STUDENT_ATTENDANCE\n",
        "limit 5;"
      ],
      "execution_count": null,
      "outputs": [
        {
          "output_type": "stream",
          "text": [
            " * ibm_db_sa://nwp26832:***@0c77d6f2-5da9-48a9-81f8-86b520b87518.bs2io90l08kqb1od8lcg.databases.appdomain.cloud:31198/BLUDB\n",
            "Done.\n"
          ],
          "name": "stdout"
        },
        {
          "output_type": "execute_result",
          "data": {
            "text/html": [
              "<table>\n",
              "    <thead>\n",
              "        <tr>\n",
              "            <th>name_of_school</th>\n",
              "            <th>average_student_attendance</th>\n",
              "        </tr>\n",
              "    </thead>\n",
              "    <tbody>\n",
              "        <tr>\n",
              "            <td>Richard T Crane Technical Preparatory High School</td>\n",
              "            <td>57.90%</td>\n",
              "        </tr>\n",
              "        <tr>\n",
              "            <td>Barbara Vick Early Childhood &amp; Family Center</td>\n",
              "            <td>60.90%</td>\n",
              "        </tr>\n",
              "        <tr>\n",
              "            <td>Dyett High School</td>\n",
              "            <td>62.50%</td>\n",
              "        </tr>\n",
              "        <tr>\n",
              "            <td>Wendell Phillips Academy High School</td>\n",
              "            <td>63.00%</td>\n",
              "        </tr>\n",
              "        <tr>\n",
              "            <td>Orr Academy High School</td>\n",
              "            <td>66.30%</td>\n",
              "        </tr>\n",
              "    </tbody>\n",
              "</table>"
            ],
            "text/plain": [
              "[('Richard T Crane Technical Preparatory High School', '57.90%'),\n",
              " ('Barbara Vick Early Childhood & Family Center', '60.90%'),\n",
              " ('Dyett High School', '62.50%'),\n",
              " ('Wendell Phillips Academy High School', '63.00%'),\n",
              " ('Orr Academy High School', '66.30%')]"
            ]
          },
          "metadata": {
            "tags": []
          },
          "execution_count": 42
        }
      ]
    },
    {
      "cell_type": "markdown",
      "metadata": {
        "id": "4hJXiBeY9Y19"
      },
      "source": [
        "Double-click **here** for the solution.\n",
        "\n",
        "<!-- Solution:\n",
        "\n",
        "%sql SELECT Name_of_School, Average_Student_Attendance  \\\n",
        "     from SCHOOLS \\\n",
        "     order by Average_Student_Attendance \\\n",
        "     fetch first 5 rows only\n",
        "\n",
        "-->\n"
      ]
    },
    {
      "cell_type": "markdown",
      "metadata": {
        "id": "pHy0kUlX9Y19"
      },
      "source": [
        "### Problem 6\n",
        "\n",
        "##### Now remove the '%' sign from the above result set for Average Student Attendance column\n"
      ]
    },
    {
      "cell_type": "code",
      "metadata": {
        "id": "NlYx3PA19Y19",
        "outputId": "306ddd93-2365-4745-abb3-cfc813338cd6"
      },
      "source": [
        "%%sql select Name_of_School, REPLACE(Average_student_Attendance, '%', '')\n",
        "from SCHOOLS \n",
        "order by Average_student_Attendance\n",
        "limit 5"
      ],
      "execution_count": null,
      "outputs": [
        {
          "output_type": "stream",
          "text": [
            " * ibm_db_sa://nwp26832:***@0c77d6f2-5da9-48a9-81f8-86b520b87518.bs2io90l08kqb1od8lcg.databases.appdomain.cloud:31198/BLUDB\n",
            "Done.\n"
          ],
          "name": "stdout"
        },
        {
          "output_type": "execute_result",
          "data": {
            "text/html": [
              "<table>\n",
              "    <thead>\n",
              "        <tr>\n",
              "            <th>name_of_school</th>\n",
              "            <th>2</th>\n",
              "        </tr>\n",
              "    </thead>\n",
              "    <tbody>\n",
              "        <tr>\n",
              "            <td>Richard T Crane Technical Preparatory High School</td>\n",
              "            <td>57.90</td>\n",
              "        </tr>\n",
              "        <tr>\n",
              "            <td>Barbara Vick Early Childhood &amp; Family Center</td>\n",
              "            <td>60.90</td>\n",
              "        </tr>\n",
              "        <tr>\n",
              "            <td>Dyett High School</td>\n",
              "            <td>62.50</td>\n",
              "        </tr>\n",
              "        <tr>\n",
              "            <td>Wendell Phillips Academy High School</td>\n",
              "            <td>63.00</td>\n",
              "        </tr>\n",
              "        <tr>\n",
              "            <td>Orr Academy High School</td>\n",
              "            <td>66.30</td>\n",
              "        </tr>\n",
              "    </tbody>\n",
              "</table>"
            ],
            "text/plain": [
              "[('Richard T Crane Technical Preparatory High School', '57.90'),\n",
              " ('Barbara Vick Early Childhood & Family Center', '60.90'),\n",
              " ('Dyett High School', '62.50'),\n",
              " ('Wendell Phillips Academy High School', '63.00'),\n",
              " ('Orr Academy High School', '66.30')]"
            ]
          },
          "metadata": {
            "tags": []
          },
          "execution_count": 43
        }
      ]
    },
    {
      "cell_type": "markdown",
      "metadata": {
        "id": "PgASxTNV9Y19"
      },
      "source": [
        "Double-click **here** for a hint\n",
        "\n",
        "<!--\n",
        "Use the REPLACE() function to replace '%' with ''\n",
        "See documentation for this function at:\n",
        "https://www.ibm.com/support/knowledgecenter/en/SSEPGG_10.5.0/com.ibm.db2.luw.sql.ref.doc/doc/r0000843.html\n",
        "-->\n"
      ]
    },
    {
      "cell_type": "markdown",
      "metadata": {
        "id": "T7Ae4BTk9Y1-"
      },
      "source": [
        "Double-click **here** for the solution.\n",
        "\n",
        "<!-- Hint:\n",
        "\n",
        "%sql SELECT Name_of_School, REPLACE(Average_Student_Attendance, '%', '') \\\n",
        "     from SCHOOLS \\\n",
        "     order by Average_Student_Attendance \\\n",
        "     fetch first 5 rows only\n",
        "\n",
        "-->\n"
      ]
    },
    {
      "cell_type": "markdown",
      "metadata": {
        "id": "cRokFkVu9Y1-"
      },
      "source": [
        "### Problem 7\n",
        "\n",
        "##### Which Schools have Average Student Attendance lower than 70%?\n"
      ]
    },
    {
      "cell_type": "code",
      "metadata": {
        "id": "4HYaR9us9Y1-",
        "outputId": "d8b358ba-fe2a-43f1-a37e-c9dbb6edacd3"
      },
      "source": [
        "\n",
        "%sql SELECT Name_of_School, Average_Student_Attendance  \\\n",
        "     from SCHOOLS \\\n",
        "     where DECIMAL ( REPLACE(Average_Student_Attendance, '%', '') ) < 70 \\\n",
        "     order by Average_Student_Attendance"
      ],
      "execution_count": null,
      "outputs": [
        {
          "output_type": "stream",
          "text": [
            " * ibm_db_sa://nwp26832:***@0c77d6f2-5da9-48a9-81f8-86b520b87518.bs2io90l08kqb1od8lcg.databases.appdomain.cloud:31198/BLUDB\n",
            "Done.\n"
          ],
          "name": "stdout"
        },
        {
          "output_type": "execute_result",
          "data": {
            "text/html": [
              "<table>\n",
              "    <thead>\n",
              "        <tr>\n",
              "            <th>name_of_school</th>\n",
              "            <th>average_student_attendance</th>\n",
              "        </tr>\n",
              "    </thead>\n",
              "    <tbody>\n",
              "        <tr>\n",
              "            <td>Richard T Crane Technical Preparatory High School</td>\n",
              "            <td>57.90%</td>\n",
              "        </tr>\n",
              "        <tr>\n",
              "            <td>Barbara Vick Early Childhood &amp; Family Center</td>\n",
              "            <td>60.90%</td>\n",
              "        </tr>\n",
              "        <tr>\n",
              "            <td>Dyett High School</td>\n",
              "            <td>62.50%</td>\n",
              "        </tr>\n",
              "        <tr>\n",
              "            <td>Wendell Phillips Academy High School</td>\n",
              "            <td>63.00%</td>\n",
              "        </tr>\n",
              "        <tr>\n",
              "            <td>Orr Academy High School</td>\n",
              "            <td>66.30%</td>\n",
              "        </tr>\n",
              "        <tr>\n",
              "            <td>Manley Career Academy High School</td>\n",
              "            <td>66.80%</td>\n",
              "        </tr>\n",
              "        <tr>\n",
              "            <td>Chicago Vocational Career Academy High School</td>\n",
              "            <td>68.80%</td>\n",
              "        </tr>\n",
              "        <tr>\n",
              "            <td>Roberto Clemente Community Academy High School</td>\n",
              "            <td>69.60%</td>\n",
              "        </tr>\n",
              "    </tbody>\n",
              "</table>"
            ],
            "text/plain": [
              "[('Richard T Crane Technical Preparatory High School', '57.90%'),\n",
              " ('Barbara Vick Early Childhood & Family Center', '60.90%'),\n",
              " ('Dyett High School', '62.50%'),\n",
              " ('Wendell Phillips Academy High School', '63.00%'),\n",
              " ('Orr Academy High School', '66.30%'),\n",
              " ('Manley Career Academy High School', '66.80%'),\n",
              " ('Chicago Vocational Career Academy High School', '68.80%'),\n",
              " ('Roberto Clemente Community Academy High School', '69.60%')]"
            ]
          },
          "metadata": {
            "tags": []
          },
          "execution_count": 46
        }
      ]
    },
    {
      "cell_type": "markdown",
      "metadata": {
        "id": "d9gmmlbQ9Y1-"
      },
      "source": [
        "Double-click **here** for a hint\n",
        "\n",
        "<!--\n",
        "The datatype of the \"Average_Student_Attendance\" column is varchar.\n",
        "So you cannot use it as is in the where clause for a numeric comparison.\n",
        "First use the CAST() function to cast it as a DECIMAL or DOUBLE\n",
        "e.g. CAST(\"Column_Name\" as DOUBLE)\n",
        "or simply: DECIMAL(\"Column_Name\")\n",
        "-->\n"
      ]
    },
    {
      "cell_type": "markdown",
      "metadata": {
        "id": "2uozPgxk9Y1-"
      },
      "source": [
        "Double-click **here** for another hint\n",
        "\n",
        "<!--\n",
        "Don't forget the '%' age sign needs to be removed before casting\n",
        "-->\n"
      ]
    },
    {
      "cell_type": "markdown",
      "metadata": {
        "id": "EpMf1UTq9Y1-"
      },
      "source": [
        "Double-click **here** for the solution.\n",
        "\n",
        "<!-- Solution:\n",
        "\n",
        "%sql SELECT Name_of_School, Average_Student_Attendance  \\\n",
        "     from SCHOOLS \\\n",
        "     where CAST ( REPLACE(Average_Student_Attendance, '%', '') AS DOUBLE ) < 70 \\\n",
        "     order by Average_Student_Attendance\n",
        "     \n",
        "or,\n",
        "\n",
        "%sql SELECT Name_of_School, Average_Student_Attendance  \\\n",
        "     from SCHOOLS \\\n",
        "     where DECIMAL ( REPLACE(Average_Student_Attendance, '%', '') ) < 70 \\\n",
        "     order by Average_Student_Attendance\n",
        "\n",
        "-->\n"
      ]
    },
    {
      "cell_type": "markdown",
      "metadata": {
        "id": "YltxwcuH9Y1_"
      },
      "source": [
        "### Problem 8\n",
        "\n",
        "##### Get the total College Enrollment for each Community Area\n"
      ]
    },
    {
      "cell_type": "code",
      "metadata": {
        "id": "WeC-AEhj9Y1_",
        "outputId": "1e9e0952-ea74-4598-feb3-cd2f0a89226a"
      },
      "source": [
        "%%sql \n",
        "select COMMUNITY_AREA_NAME, sum(COLLEGE_ENROLLMENT) as com_enrol_count\n",
        "from SCHOOLS \n",
        "group by COMMUNITY_AREA_NAME"
      ],
      "execution_count": null,
      "outputs": [
        {
          "output_type": "stream",
          "text": [
            " * ibm_db_sa://nwp26832:***@0c77d6f2-5da9-48a9-81f8-86b520b87518.bs2io90l08kqb1od8lcg.databases.appdomain.cloud:31198/BLUDB\n",
            "Done.\n"
          ],
          "name": "stdout"
        },
        {
          "output_type": "execute_result",
          "data": {
            "text/html": [
              "<table>\n",
              "    <thead>\n",
              "        <tr>\n",
              "            <th>community_area_name</th>\n",
              "            <th>com_enrol_count</th>\n",
              "        </tr>\n",
              "    </thead>\n",
              "    <tbody>\n",
              "        <tr>\n",
              "            <td>ALBANY PARK</td>\n",
              "            <td>6864</td>\n",
              "        </tr>\n",
              "        <tr>\n",
              "            <td>ARCHER HEIGHTS</td>\n",
              "            <td>4823</td>\n",
              "        </tr>\n",
              "        <tr>\n",
              "            <td>ARMOUR SQUARE</td>\n",
              "            <td>1458</td>\n",
              "        </tr>\n",
              "        <tr>\n",
              "            <td>ASHBURN</td>\n",
              "            <td>6483</td>\n",
              "        </tr>\n",
              "        <tr>\n",
              "            <td>AUBURN GRESHAM</td>\n",
              "            <td>4175</td>\n",
              "        </tr>\n",
              "        <tr>\n",
              "            <td>AUSTIN</td>\n",
              "            <td>10933</td>\n",
              "        </tr>\n",
              "        <tr>\n",
              "            <td>AVALON PARK</td>\n",
              "            <td>1522</td>\n",
              "        </tr>\n",
              "        <tr>\n",
              "            <td>AVONDALE</td>\n",
              "            <td>3640</td>\n",
              "        </tr>\n",
              "        <tr>\n",
              "            <td>BELMONT CRAGIN</td>\n",
              "            <td>14386</td>\n",
              "        </tr>\n",
              "        <tr>\n",
              "            <td>BEVERLY</td>\n",
              "            <td>1636</td>\n",
              "        </tr>\n",
              "        <tr>\n",
              "            <td>BRIDGEPORT</td>\n",
              "            <td>3167</td>\n",
              "        </tr>\n",
              "        <tr>\n",
              "            <td>BRIGHTON PARK</td>\n",
              "            <td>9647</td>\n",
              "        </tr>\n",
              "        <tr>\n",
              "            <td>BURNSIDE</td>\n",
              "            <td>549</td>\n",
              "        </tr>\n",
              "        <tr>\n",
              "            <td>CALUMET HEIGHTS</td>\n",
              "            <td>1568</td>\n",
              "        </tr>\n",
              "        <tr>\n",
              "            <td>CHATHAM</td>\n",
              "            <td>5042</td>\n",
              "        </tr>\n",
              "        <tr>\n",
              "            <td>CHICAGO LAWN</td>\n",
              "            <td>7086</td>\n",
              "        </tr>\n",
              "        <tr>\n",
              "            <td>CLEARING</td>\n",
              "            <td>2085</td>\n",
              "        </tr>\n",
              "        <tr>\n",
              "            <td>DOUGLAS</td>\n",
              "            <td>4670</td>\n",
              "        </tr>\n",
              "        <tr>\n",
              "            <td>DUNNING</td>\n",
              "            <td>4568</td>\n",
              "        </tr>\n",
              "        <tr>\n",
              "            <td>EAST GARFIELD PARK</td>\n",
              "            <td>5337</td>\n",
              "        </tr>\n",
              "        <tr>\n",
              "            <td>EAST SIDE</td>\n",
              "            <td>5305</td>\n",
              "        </tr>\n",
              "        <tr>\n",
              "            <td>EDGEWATER</td>\n",
              "            <td>4600</td>\n",
              "        </tr>\n",
              "        <tr>\n",
              "            <td>EDISON PARK</td>\n",
              "            <td>910</td>\n",
              "        </tr>\n",
              "        <tr>\n",
              "            <td>ENGLEWOOD</td>\n",
              "            <td>6832</td>\n",
              "        </tr>\n",
              "        <tr>\n",
              "            <td>FOREST GLEN</td>\n",
              "            <td>1431</td>\n",
              "        </tr>\n",
              "        <tr>\n",
              "            <td>FULLER PARK</td>\n",
              "            <td>531</td>\n",
              "        </tr>\n",
              "        <tr>\n",
              "            <td>GAGE PARK</td>\n",
              "            <td>9915</td>\n",
              "        </tr>\n",
              "        <tr>\n",
              "            <td>GARFIELD RIDGE</td>\n",
              "            <td>4552</td>\n",
              "        </tr>\n",
              "        <tr>\n",
              "            <td>GRAND BOULEVARD</td>\n",
              "            <td>2809</td>\n",
              "        </tr>\n",
              "        <tr>\n",
              "            <td>GREATER GRAND CROSSING</td>\n",
              "            <td>4051</td>\n",
              "        </tr>\n",
              "        <tr>\n",
              "            <td>HEGEWISCH</td>\n",
              "            <td>963</td>\n",
              "        </tr>\n",
              "        <tr>\n",
              "            <td>HERMOSA</td>\n",
              "            <td>3975</td>\n",
              "        </tr>\n",
              "        <tr>\n",
              "            <td>HUMBOLDT PARK</td>\n",
              "            <td>8620</td>\n",
              "        </tr>\n",
              "        <tr>\n",
              "            <td>HYDE PARK</td>\n",
              "            <td>1930</td>\n",
              "        </tr>\n",
              "        <tr>\n",
              "            <td>IRVING PARK</td>\n",
              "            <td>7764</td>\n",
              "        </tr>\n",
              "        <tr>\n",
              "            <td>JEFFERSON PARK</td>\n",
              "            <td>1755</td>\n",
              "        </tr>\n",
              "        <tr>\n",
              "            <td>KENWOOD</td>\n",
              "            <td>4287</td>\n",
              "        </tr>\n",
              "        <tr>\n",
              "            <td>LAKE VIEW</td>\n",
              "            <td>7055</td>\n",
              "        </tr>\n",
              "        <tr>\n",
              "            <td>LINCOLN PARK</td>\n",
              "            <td>5615</td>\n",
              "        </tr>\n",
              "        <tr>\n",
              "            <td>LINCOLN SQUARE</td>\n",
              "            <td>4132</td>\n",
              "        </tr>\n",
              "        <tr>\n",
              "            <td>LOGAN SQUARE</td>\n",
              "            <td>7351</td>\n",
              "        </tr>\n",
              "        <tr>\n",
              "            <td>LOOP</td>\n",
              "            <td>871</td>\n",
              "        </tr>\n",
              "        <tr>\n",
              "            <td>LOWER WEST SIDE</td>\n",
              "            <td>7257</td>\n",
              "        </tr>\n",
              "        <tr>\n",
              "            <td>MCKINLEY PARK</td>\n",
              "            <td>1552</td>\n",
              "        </tr>\n",
              "        <tr>\n",
              "            <td>MONTCLARE</td>\n",
              "            <td>1317</td>\n",
              "        </tr>\n",
              "        <tr>\n",
              "            <td>MORGAN PARK</td>\n",
              "            <td>3271</td>\n",
              "        </tr>\n",
              "        <tr>\n",
              "            <td>MOUNT GREENWOOD</td>\n",
              "            <td>2091</td>\n",
              "        </tr>\n",
              "        <tr>\n",
              "            <td>NEAR NORTH SIDE</td>\n",
              "            <td>3362</td>\n",
              "        </tr>\n",
              "        <tr>\n",
              "            <td>NEAR SOUTH SIDE</td>\n",
              "            <td>1378</td>\n",
              "        </tr>\n",
              "        <tr>\n",
              "            <td>NEAR WEST SIDE</td>\n",
              "            <td>7975</td>\n",
              "        </tr>\n",
              "        <tr>\n",
              "            <td>NEW CITY</td>\n",
              "            <td>7922</td>\n",
              "        </tr>\n",
              "        <tr>\n",
              "            <td>NORTH CENTER</td>\n",
              "            <td>7541</td>\n",
              "        </tr>\n",
              "        <tr>\n",
              "            <td>NORTH LAWNDALE</td>\n",
              "            <td>5146</td>\n",
              "        </tr>\n",
              "        <tr>\n",
              "            <td>NORTH PARK</td>\n",
              "            <td>4210</td>\n",
              "        </tr>\n",
              "        <tr>\n",
              "            <td>NORWOOD PARK</td>\n",
              "            <td>6469</td>\n",
              "        </tr>\n",
              "        <tr>\n",
              "            <td>OAKLAND</td>\n",
              "            <td>140</td>\n",
              "        </tr>\n",
              "        <tr>\n",
              "            <td>OHARE</td>\n",
              "            <td>786</td>\n",
              "        </tr>\n",
              "        <tr>\n",
              "            <td>PORTAGE PARK</td>\n",
              "            <td>6954</td>\n",
              "        </tr>\n",
              "        <tr>\n",
              "            <td>PULLMAN</td>\n",
              "            <td>1620</td>\n",
              "        </tr>\n",
              "        <tr>\n",
              "            <td>RIVERDALE</td>\n",
              "            <td>1547</td>\n",
              "        </tr>\n",
              "        <tr>\n",
              "            <td>ROGERS PARK</td>\n",
              "            <td>4068</td>\n",
              "        </tr>\n",
              "        <tr>\n",
              "            <td>ROSELAND</td>\n",
              "            <td>7020</td>\n",
              "        </tr>\n",
              "        <tr>\n",
              "            <td>SOUTH CHICAGO</td>\n",
              "            <td>4043</td>\n",
              "        </tr>\n",
              "        <tr>\n",
              "            <td>SOUTH DEERING</td>\n",
              "            <td>1859</td>\n",
              "        </tr>\n",
              "        <tr>\n",
              "            <td>SOUTH LAWNDALE</td>\n",
              "            <td>14793</td>\n",
              "        </tr>\n",
              "        <tr>\n",
              "            <td>SOUTH SHORE</td>\n",
              "            <td>4543</td>\n",
              "        </tr>\n",
              "        <tr>\n",
              "            <td>UPTOWN</td>\n",
              "            <td>4388</td>\n",
              "        </tr>\n",
              "        <tr>\n",
              "            <td>WASHINGTON HEIGHTS</td>\n",
              "            <td>4006</td>\n",
              "        </tr>\n",
              "        <tr>\n",
              "            <td>WASHINGTON PARK</td>\n",
              "            <td>2648</td>\n",
              "        </tr>\n",
              "        <tr>\n",
              "            <td>WEST ELSDON</td>\n",
              "            <td>3700</td>\n",
              "        </tr>\n",
              "        <tr>\n",
              "            <td>WEST ENGLEWOOD</td>\n",
              "            <td>5946</td>\n",
              "        </tr>\n",
              "        <tr>\n",
              "            <td>WEST GARFIELD PARK</td>\n",
              "            <td>2622</td>\n",
              "        </tr>\n",
              "        <tr>\n",
              "            <td>WEST LAWN</td>\n",
              "            <td>4207</td>\n",
              "        </tr>\n",
              "        <tr>\n",
              "            <td>WEST PULLMAN</td>\n",
              "            <td>3240</td>\n",
              "        </tr>\n",
              "        <tr>\n",
              "            <td>WEST RIDGE</td>\n",
              "            <td>8197</td>\n",
              "        </tr>\n",
              "        <tr>\n",
              "            <td>WEST TOWN</td>\n",
              "            <td>9429</td>\n",
              "        </tr>\n",
              "        <tr>\n",
              "            <td>WOODLAWN</td>\n",
              "            <td>4206</td>\n",
              "        </tr>\n",
              "    </tbody>\n",
              "</table>"
            ],
            "text/plain": [
              "[('ALBANY PARK', 6864),\n",
              " ('ARCHER HEIGHTS', 4823),\n",
              " ('ARMOUR SQUARE', 1458),\n",
              " ('ASHBURN', 6483),\n",
              " ('AUBURN GRESHAM', 4175),\n",
              " ('AUSTIN', 10933),\n",
              " ('AVALON PARK', 1522),\n",
              " ('AVONDALE', 3640),\n",
              " ('BELMONT CRAGIN', 14386),\n",
              " ('BEVERLY', 1636),\n",
              " ('BRIDGEPORT', 3167),\n",
              " ('BRIGHTON PARK', 9647),\n",
              " ('BURNSIDE', 549),\n",
              " ('CALUMET HEIGHTS', 1568),\n",
              " ('CHATHAM', 5042),\n",
              " ('CHICAGO LAWN', 7086),\n",
              " ('CLEARING', 2085),\n",
              " ('DOUGLAS', 4670),\n",
              " ('DUNNING', 4568),\n",
              " ('EAST GARFIELD PARK', 5337),\n",
              " ('EAST SIDE', 5305),\n",
              " ('EDGEWATER', 4600),\n",
              " ('EDISON PARK', 910),\n",
              " ('ENGLEWOOD', 6832),\n",
              " ('FOREST GLEN', 1431),\n",
              " ('FULLER PARK', 531),\n",
              " ('GAGE PARK', 9915),\n",
              " ('GARFIELD RIDGE', 4552),\n",
              " ('GRAND BOULEVARD', 2809),\n",
              " ('GREATER GRAND CROSSING', 4051),\n",
              " ('HEGEWISCH', 963),\n",
              " ('HERMOSA', 3975),\n",
              " ('HUMBOLDT PARK', 8620),\n",
              " ('HYDE PARK', 1930),\n",
              " ('IRVING PARK', 7764),\n",
              " ('JEFFERSON PARK', 1755),\n",
              " ('KENWOOD', 4287),\n",
              " ('LAKE VIEW', 7055),\n",
              " ('LINCOLN PARK', 5615),\n",
              " ('LINCOLN SQUARE', 4132),\n",
              " ('LOGAN SQUARE', 7351),\n",
              " ('LOOP', 871),\n",
              " ('LOWER WEST SIDE', 7257),\n",
              " ('MCKINLEY PARK', 1552),\n",
              " ('MONTCLARE', 1317),\n",
              " ('MORGAN PARK', 3271),\n",
              " ('MOUNT GREENWOOD', 2091),\n",
              " ('NEAR NORTH SIDE', 3362),\n",
              " ('NEAR SOUTH SIDE', 1378),\n",
              " ('NEAR WEST SIDE', 7975),\n",
              " ('NEW CITY', 7922),\n",
              " ('NORTH CENTER', 7541),\n",
              " ('NORTH LAWNDALE', 5146),\n",
              " ('NORTH PARK', 4210),\n",
              " ('NORWOOD PARK', 6469),\n",
              " ('OAKLAND', 140),\n",
              " ('OHARE', 786),\n",
              " ('PORTAGE PARK', 6954),\n",
              " ('PULLMAN', 1620),\n",
              " ('RIVERDALE', 1547),\n",
              " ('ROGERS PARK', 4068),\n",
              " ('ROSELAND', 7020),\n",
              " ('SOUTH CHICAGO', 4043),\n",
              " ('SOUTH DEERING', 1859),\n",
              " ('SOUTH LAWNDALE', 14793),\n",
              " ('SOUTH SHORE', 4543),\n",
              " ('UPTOWN', 4388),\n",
              " ('WASHINGTON HEIGHTS', 4006),\n",
              " ('WASHINGTON PARK', 2648),\n",
              " ('WEST ELSDON', 3700),\n",
              " ('WEST ENGLEWOOD', 5946),\n",
              " ('WEST GARFIELD PARK', 2622),\n",
              " ('WEST LAWN', 4207),\n",
              " ('WEST PULLMAN', 3240),\n",
              " ('WEST RIDGE', 8197),\n",
              " ('WEST TOWN', 9429),\n",
              " ('WOODLAWN', 4206)]"
            ]
          },
          "metadata": {
            "tags": []
          },
          "execution_count": 53
        }
      ]
    },
    {
      "cell_type": "markdown",
      "metadata": {
        "id": "UUinSHjx9Y1_"
      },
      "source": [
        "Double-click **here** for a hint\n",
        "\n",
        "<!--\n",
        "Verify the exact name of the Enrollment column in the database\n",
        "Use the SUM() function to add up the Enrollments for each Community Area\n",
        "-->\n"
      ]
    },
    {
      "cell_type": "markdown",
      "metadata": {
        "id": "5p4zkq9q9Y1_"
      },
      "source": [
        "Double-click **here** for another hint\n",
        "\n",
        "<!--\n",
        "Don't forget to group by the Community Area\n",
        "-->\n"
      ]
    },
    {
      "cell_type": "markdown",
      "metadata": {
        "id": "gjg-wlqT9Y1_"
      },
      "source": [
        "Double-click **here** for the solution.\n",
        "\n",
        "<!-- Solution:\n",
        "\n",
        "%sql select Community_Area_Name, sum(College_Enrollment) AS TOTAL_ENROLLMENT \\\n",
        "   from SCHOOLS \\\n",
        "   group by Community_Area_Name \n",
        "\n",
        "-->\n"
      ]
    },
    {
      "cell_type": "markdown",
      "metadata": {
        "id": "u6aBjxpY9Y1_"
      },
      "source": [
        "### Problem 9\n",
        "\n",
        "##### Get the 5 Community Areas with the least total College Enrollment  sorted in ascending order\n"
      ]
    },
    {
      "cell_type": "code",
      "metadata": {
        "id": "cO2lU3Q59Y1_",
        "outputId": "6a19e03a-a5d9-4651-d0b3-b22441b073c7"
      },
      "source": [
        "%%sql \n",
        "select COMMUNITY_AREA_NAME, sum(COLLEGE_ENROLLMENT) as com_enrol_count\n",
        "from SCHOOLS \n",
        "group by COMMUNITY_AREA_NAME\n",
        "order by sum(COLLEGE_ENROLLMENT)\n",
        "fetch first 5 rows only"
      ],
      "execution_count": null,
      "outputs": [
        {
          "output_type": "stream",
          "text": [
            " * ibm_db_sa://nwp26832:***@0c77d6f2-5da9-48a9-81f8-86b520b87518.bs2io90l08kqb1od8lcg.databases.appdomain.cloud:31198/BLUDB\n",
            "Done.\n"
          ],
          "name": "stdout"
        },
        {
          "output_type": "execute_result",
          "data": {
            "text/html": [
              "<table>\n",
              "    <thead>\n",
              "        <tr>\n",
              "            <th>community_area_name</th>\n",
              "            <th>com_enrol_count</th>\n",
              "        </tr>\n",
              "    </thead>\n",
              "    <tbody>\n",
              "        <tr>\n",
              "            <td>OAKLAND</td>\n",
              "            <td>140</td>\n",
              "        </tr>\n",
              "        <tr>\n",
              "            <td>FULLER PARK</td>\n",
              "            <td>531</td>\n",
              "        </tr>\n",
              "        <tr>\n",
              "            <td>BURNSIDE</td>\n",
              "            <td>549</td>\n",
              "        </tr>\n",
              "        <tr>\n",
              "            <td>OHARE</td>\n",
              "            <td>786</td>\n",
              "        </tr>\n",
              "        <tr>\n",
              "            <td>LOOP</td>\n",
              "            <td>871</td>\n",
              "        </tr>\n",
              "    </tbody>\n",
              "</table>"
            ],
            "text/plain": [
              "[('OAKLAND', 140),\n",
              " ('FULLER PARK', 531),\n",
              " ('BURNSIDE', 549),\n",
              " ('OHARE', 786),\n",
              " ('LOOP', 871)]"
            ]
          },
          "metadata": {
            "tags": []
          },
          "execution_count": 54
        }
      ]
    },
    {
      "cell_type": "markdown",
      "metadata": {
        "id": "bLYG7Rlo9Y2A"
      },
      "source": [
        "Double-click **here** for a hint\n",
        "\n",
        "<!--\n",
        "Order the previous query and limit the number of rows you fetch\n",
        "-->\n"
      ]
    },
    {
      "cell_type": "markdown",
      "metadata": {
        "id": "rrzlRL7i9Y2A"
      },
      "source": [
        "Double-click **here** for the solution.\n",
        "\n",
        "<!-- Solution:\n",
        "\n",
        "%sql select Community_Area_Name, sum(College_Enrollment) AS TOTAL_ENROLLMENT \\\n",
        "   from SCHOOLS \\\n",
        "   group by Community_Area_Name \\\n",
        "   order by TOTAL_ENROLLMENT asc \\\n",
        "   fetch first 5 rows only\n",
        "\n",
        "-->\n"
      ]
    },
    {
      "cell_type": "markdown",
      "metadata": {
        "id": "_GekP-_R9Y2A"
      },
      "source": [
        "### Problem 10\n",
        "\n",
        "##### List 5 schools with lowest safety score.\n"
      ]
    },
    {
      "cell_type": "code",
      "metadata": {
        "id": "TPsBOuJW9Y2A",
        "outputId": "6f46cf8c-1488-446c-84d5-2f7214a79c48"
      },
      "source": [
        "%%sql \n",
        "select NAME_OF_SCHOOL,SAFETY_SCORE\n",
        "from SCHOOLS \n",
        "order by SAFETY_SCORE asc\n",
        "fetch first 5 rows only"
      ],
      "execution_count": null,
      "outputs": [
        {
          "output_type": "stream",
          "text": [
            " * ibm_db_sa://nwp26832:***@0c77d6f2-5da9-48a9-81f8-86b520b87518.bs2io90l08kqb1od8lcg.databases.appdomain.cloud:31198/BLUDB\n",
            "Done.\n"
          ],
          "name": "stdout"
        },
        {
          "output_type": "execute_result",
          "data": {
            "text/html": [
              "<table>\n",
              "    <thead>\n",
              "        <tr>\n",
              "            <th>name_of_school</th>\n",
              "            <th>safety_score</th>\n",
              "        </tr>\n",
              "    </thead>\n",
              "    <tbody>\n",
              "        <tr>\n",
              "            <td>Edmond Burke Elementary School</td>\n",
              "            <td>1</td>\n",
              "        </tr>\n",
              "        <tr>\n",
              "            <td>Luke O&#x27;Toole Elementary School</td>\n",
              "            <td>5</td>\n",
              "        </tr>\n",
              "        <tr>\n",
              "            <td>George W Tilton Elementary School</td>\n",
              "            <td>6</td>\n",
              "        </tr>\n",
              "        <tr>\n",
              "            <td>Foster Park Elementary School</td>\n",
              "            <td>11</td>\n",
              "        </tr>\n",
              "        <tr>\n",
              "            <td>Emil G Hirsch Metropolitan High School</td>\n",
              "            <td>13</td>\n",
              "        </tr>\n",
              "    </tbody>\n",
              "</table>"
            ],
            "text/plain": [
              "[('Edmond Burke Elementary School', 1),\n",
              " (\"Luke O'Toole Elementary School\", 5),\n",
              " ('George W Tilton Elementary School', 6),\n",
              " ('Foster Park Elementary School', 11),\n",
              " ('Emil G Hirsch Metropolitan High School', 13)]"
            ]
          },
          "metadata": {
            "tags": []
          },
          "execution_count": 55
        }
      ]
    },
    {
      "cell_type": "markdown",
      "metadata": {
        "id": "5fC1GKN39Y2A"
      },
      "source": [
        "Double-click **here** for the solution.\n",
        "\n",
        "<!-- Solution:\n",
        "\n",
        "%sql SELECT name_of_school, safety_score\n",
        "FROM schools\n",
        "ORDER BY safety_score\n",
        "LIMIT 5\n",
        "-->\n"
      ]
    },
    {
      "cell_type": "markdown",
      "metadata": {
        "id": "KYzxpDmA9Y2A"
      },
      "source": [
        "### Problem 11\n",
        "\n",
        "##### Get the hardship index for the community area which has College Enrollment of 4368\n"
      ]
    },
    {
      "cell_type": "code",
      "metadata": {
        "id": "aNup15Qq9Y2A",
        "outputId": "ee92dfbf-0202-4477-ee02-e796c1afb59e"
      },
      "source": [
        "%%sql \n",
        "select hardship_index \n",
        "   from chicago_socioeconomic_data CD, schools CPS \n",
        "   where CD.ca = CPS.community_area_number \n",
        "      and college_enrollment = 4368"
      ],
      "execution_count": null,
      "outputs": [
        {
          "output_type": "stream",
          "text": [
            " * ibm_db_sa://nwp26832:***@0c77d6f2-5da9-48a9-81f8-86b520b87518.bs2io90l08kqb1od8lcg.databases.appdomain.cloud:31198/BLUDB\n",
            "Done.\n"
          ],
          "name": "stdout"
        },
        {
          "output_type": "execute_result",
          "data": {
            "text/html": [
              "<table>\n",
              "    <thead>\n",
              "        <tr>\n",
              "            <th>hardship_index</th>\n",
              "        </tr>\n",
              "    </thead>\n",
              "    <tbody>\n",
              "        <tr>\n",
              "            <td>6.0</td>\n",
              "        </tr>\n",
              "    </tbody>\n",
              "</table>"
            ],
            "text/plain": [
              "[(6.0,)]"
            ]
          },
          "metadata": {
            "tags": []
          },
          "execution_count": 56
        }
      ]
    },
    {
      "cell_type": "markdown",
      "metadata": {
        "id": "lQlUrw0q9Y2B"
      },
      "source": [
        "Double-click **here** for the solution.\n",
        "\n",
        "<!-- Solution:\n",
        "NOTE: For this solution to work the CHICAGO_SOCIOECONOMIC_DATA table \n",
        "      as created in the last lab of Week 3 should already exist\n",
        "\n",
        "%%sql \n",
        "select hardship_index \n",
        "   from chicago_socioeconomic_data CD, schools CPS \n",
        "   where CD.ca = CPS.community_area_number \n",
        "      and college_enrollment = 4368\n",
        "\n",
        "-->\n"
      ]
    },
    {
      "cell_type": "markdown",
      "metadata": {
        "id": "fD-s-CWC9Y2B"
      },
      "source": [
        "### Problem 12\n",
        "\n",
        "##### Get the hardship index for the community area which has the school with the  highest enrollment.\n"
      ]
    },
    {
      "cell_type": "code",
      "metadata": {
        "id": "XYZNxJW19Y2B"
      },
      "source": [
        "%sql select ca, community_area_name, hardship_index from chicago_socioeconomic_data \\\n",
        "   where ca in \\\n",
        "   ( select community_area_number from schools order by college_enrollment desc limit 1 )"
      ],
      "execution_count": null,
      "outputs": []
    },
    {
      "cell_type": "markdown",
      "metadata": {
        "id": "jRV3fVaF9Y2B"
      },
      "source": [
        "Double-click **here** for the solution.\n",
        "\n",
        "<!-- Solution:\n",
        "NOTE: For this solution to work the CHICAGO_SOCIOECONOMIC_DATA table \n",
        "      as created in the last lab of Week 3 should already exist\n",
        "\n",
        "%sql select ca, community_area_name, hardship_index from chicago_socioeconomic_data \\\n",
        "   where ca in \\\n",
        "   ( select community_area_number from schools order by college_enrollment desc limit 1 )\n",
        "\n",
        "-->\n"
      ]
    },
    {
      "cell_type": "markdown",
      "metadata": {
        "id": "8GM7MfEd9Y2B"
      },
      "source": [
        "## Summary\n",
        "\n",
        "##### In this lab you learned how to work with a real word dataset using SQL and Python. You learned how to query columns with spaces or special characters in their names and with mixed case names. You also used built in database functions and practiced how to sort, limit, and order result sets, as well as used sub-queries and worked with multiple tables.\n"
      ]
    },
    {
      "cell_type": "markdown",
      "metadata": {
        "id": "BlfXyBe59Y2B"
      },
      "source": [
        "## Author\n",
        "\n",
        "<a href=\"https://www.linkedin.com/in/wolehat/\" target=\"_blank\">Oluwole Fagbohun</a>\n"
      ]
    }
  ]
}
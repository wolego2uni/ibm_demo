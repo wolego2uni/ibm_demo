{
  "nbformat": 4,
  "nbformat_minor": 0,
  "metadata": {
    "colab": {
      "name": "4.7 Pandas 8 - Advanced - iterows, vectorization and numpy.ipynb",
      "provenance": [],
      "collapsed_sections": [],
      "include_colab_link": true
    },
    "kernelspec": {
      "name": "python3",
      "display_name": "Python 3"
    }
  },
  "cells": [
    {
      "cell_type": "markdown",
      "metadata": {
        "id": "view-in-github",
        "colab_type": "text"
      },
      "source": [
        "<a href=\"https://colab.research.google.com/github/wolego2uni/ibm_demo/blob/main/4_7_Pandas_8_Advanced_iterows%2C_vectorization_and_numpy.ipynb\" target=\"_parent\"><img src=\"https://colab.research.google.com/assets/colab-badge.svg\" alt=\"Open In Colab\"/></a>"
      ]
    },
    {
      "cell_type": "markdown",
      "metadata": {
        "id": "ut18MGvfuRcw"
      },
      "source": [
        "# Advanced Pandas techniques to boost performance!\n",
        "\n",
        "https://engineering.upside.com/a-beginners-guide-to-optimizing-pandas-code-for-speed-c09ef2c6a4d6\n",
        "\n",
        "Pycon Presentation - https://www.youtube.com/watch?v=HN5d490_KKk"
      ]
    },
    {
      "cell_type": "markdown",
      "metadata": {
        "id": "ckbiz1XM1L6S"
      },
      "source": [
        "We'll test and compare different methods of applying functions to pandas dataframes.\n",
        "The function we'll be testing is the Haversine Distance formular which takes the cordinates of two points (lattitude and longitude) and calculates the straight line distance"
      ]
    },
    {
      "cell_type": "code",
      "metadata": {
        "id": "PSpZRzPnuS3i"
      },
      "source": [
        "import numpy as np\n",
        "\n",
        "# Define a basic Haversine distance formula\n",
        "def haversine(lat1, lon1, lat2, lon2):\n",
        "    MILES = 3959\n",
        "    lat1, lon1, lat2, lon2 = map(np.deg2rad, [lat1, lon1, lat2, lon2])\n",
        "    dlat = lat2 - lat1 \n",
        "    dlon = lon2 - lon1 \n",
        "    a = np.sin(dlat/2)**2 + np.cos(lat1) * np.cos(lat2) * np.sin(dlon/2)**2\n",
        "    c = 2 * np.arcsin(np.sqrt(a)) \n",
        "    total_miles = MILES * c\n",
        "    return total_miles"
      ],
      "execution_count": 1,
      "outputs": []
    },
    {
      "cell_type": "markdown",
      "metadata": {
        "id": "BouuHDvr1wgK"
      },
      "source": [
        "# Let's loop though a dataframe of cordinates and return a series with these distances"
      ]
    },
    {
      "cell_type": "code",
      "metadata": {
        "id": "S7I66yCk12iJ"
      },
      "source": [
        "# Define a function to manually loop over all rows and return a series of distances\n",
        "def haversine_looping(df):\n",
        "    distance_list = []\n",
        "    for i in range(0, len(df)):\n",
        "        d = haversine(40.671, -73.985, df.iloc[i]['latitude'], df.iloc[i]['longitude'])\n",
        "        distance_list.append(d)\n",
        "    return distance_list"
      ],
      "execution_count": 2,
      "outputs": []
    },
    {
      "cell_type": "code",
      "metadata": {
        "id": "Ur121tY_uY3I",
        "colab": {
          "base_uri": "https://localhost:8080/",
          "height": 203
        },
        "outputId": "a610f35d-45a8-47ee-9971-e91710c0715b"
      },
      "source": [
        "import pandas as pd\n",
        "\n",
        "file_name = \"https://raw.githubusercontent.com/rajeevratan84/datascienceforbusiness/master/new_york_hotels.csv\"\n",
        "df = pd.read_csv(file_name, encoding = \"ISO-8859-1\")\n",
        "df.head()"
      ],
      "execution_count": 3,
      "outputs": [
        {
          "output_type": "execute_result",
          "data": {
            "text/html": [
              "<div>\n",
              "<style scoped>\n",
              "    .dataframe tbody tr th:only-of-type {\n",
              "        vertical-align: middle;\n",
              "    }\n",
              "\n",
              "    .dataframe tbody tr th {\n",
              "        vertical-align: top;\n",
              "    }\n",
              "\n",
              "    .dataframe thead th {\n",
              "        text-align: right;\n",
              "    }\n",
              "</style>\n",
              "<table border=\"1\" class=\"dataframe\">\n",
              "  <thead>\n",
              "    <tr style=\"text-align: right;\">\n",
              "      <th></th>\n",
              "      <th>ean_hotel_id</th>\n",
              "      <th>name</th>\n",
              "      <th>address1</th>\n",
              "      <th>city</th>\n",
              "      <th>state_province</th>\n",
              "      <th>postal_code</th>\n",
              "      <th>latitude</th>\n",
              "      <th>longitude</th>\n",
              "      <th>star_rating</th>\n",
              "      <th>high_rate</th>\n",
              "      <th>low_rate</th>\n",
              "    </tr>\n",
              "  </thead>\n",
              "  <tbody>\n",
              "    <tr>\n",
              "      <th>0</th>\n",
              "      <td>269955</td>\n",
              "      <td>Hilton Garden Inn Albany/SUNY Area</td>\n",
              "      <td>1389 Washington Ave</td>\n",
              "      <td>Albany</td>\n",
              "      <td>NY</td>\n",
              "      <td>12206</td>\n",
              "      <td>42.68751</td>\n",
              "      <td>-73.81643</td>\n",
              "      <td>3.0</td>\n",
              "      <td>154.0272</td>\n",
              "      <td>124.0216</td>\n",
              "    </tr>\n",
              "    <tr>\n",
              "      <th>1</th>\n",
              "      <td>113431</td>\n",
              "      <td>Courtyard by Marriott Albany Thruway</td>\n",
              "      <td>1455 Washington Avenue</td>\n",
              "      <td>Albany</td>\n",
              "      <td>NY</td>\n",
              "      <td>12206</td>\n",
              "      <td>42.68971</td>\n",
              "      <td>-73.82021</td>\n",
              "      <td>3.0</td>\n",
              "      <td>179.0100</td>\n",
              "      <td>134.0000</td>\n",
              "    </tr>\n",
              "    <tr>\n",
              "      <th>2</th>\n",
              "      <td>108151</td>\n",
              "      <td>Radisson Hotel Albany</td>\n",
              "      <td>205 Wolf Rd</td>\n",
              "      <td>Albany</td>\n",
              "      <td>NY</td>\n",
              "      <td>12205</td>\n",
              "      <td>42.72410</td>\n",
              "      <td>-73.79822</td>\n",
              "      <td>3.0</td>\n",
              "      <td>134.1700</td>\n",
              "      <td>84.1600</td>\n",
              "    </tr>\n",
              "    <tr>\n",
              "      <th>3</th>\n",
              "      <td>254756</td>\n",
              "      <td>Hilton Garden Inn Albany Medical Center</td>\n",
              "      <td>62 New Scotland Ave</td>\n",
              "      <td>Albany</td>\n",
              "      <td>NY</td>\n",
              "      <td>12208</td>\n",
              "      <td>42.65157</td>\n",
              "      <td>-73.77638</td>\n",
              "      <td>3.0</td>\n",
              "      <td>308.2807</td>\n",
              "      <td>228.4597</td>\n",
              "    </tr>\n",
              "    <tr>\n",
              "      <th>4</th>\n",
              "      <td>198232</td>\n",
              "      <td>CrestHill Suites SUNY University Albany</td>\n",
              "      <td>1415 Washington Avenue</td>\n",
              "      <td>Albany</td>\n",
              "      <td>NY</td>\n",
              "      <td>12206</td>\n",
              "      <td>42.68873</td>\n",
              "      <td>-73.81854</td>\n",
              "      <td>3.0</td>\n",
              "      <td>169.3900</td>\n",
              "      <td>89.3900</td>\n",
              "    </tr>\n",
              "  </tbody>\n",
              "</table>\n",
              "</div>"
            ],
            "text/plain": [
              "   ean_hotel_id                                     name  ... high_rate  low_rate\n",
              "0        269955       Hilton Garden Inn Albany/SUNY Area  ...  154.0272  124.0216\n",
              "1        113431     Courtyard by Marriott Albany Thruway  ...  179.0100  134.0000\n",
              "2        108151                    Radisson Hotel Albany  ...  134.1700   84.1600\n",
              "3        254756  Hilton Garden Inn Albany Medical Center  ...  308.2807  228.4597\n",
              "4        198232  CrestHill Suites SUNY University Albany  ...  169.3900   89.3900\n",
              "\n",
              "[5 rows x 11 columns]"
            ]
          },
          "metadata": {},
          "execution_count": 3
        }
      ]
    },
    {
      "cell_type": "code",
      "metadata": {
        "id": "nglnU2xn4ZKO",
        "colab": {
          "base_uri": "https://localhost:8080/"
        },
        "outputId": "69fc9cfb-de1c-4b11-a629-02568c6f1604"
      },
      "source": [
        "df.shape"
      ],
      "execution_count": 4,
      "outputs": [
        {
          "output_type": "execute_result",
          "data": {
            "text/plain": [
              "(1631, 11)"
            ]
          },
          "metadata": {},
          "execution_count": 4
        }
      ]
    },
    {
      "cell_type": "code",
      "metadata": {
        "id": "krSHhhDpvOf9",
        "colab": {
          "base_uri": "https://localhost:8080/"
        },
        "outputId": "43fd324c-198f-499e-d278-9a5346a9d114"
      },
      "source": [
        "# This is a built in magic ipython command that provides timing for code executed in the cell\n",
        "%%timeit\n",
        "\n",
        "# Run the haversine looping function\n",
        "df['distance'] = haversine_looping(df)"
      ],
      "execution_count": 6,
      "outputs": [
        {
          "output_type": "stream",
          "text": [
            "1 loop, best of 5: 477 ms per loop\n"
          ],
          "name": "stdout"
        }
      ]
    },
    {
      "cell_type": "markdown",
      "metadata": {
        "id": "sOgTNwsq4gBx"
      },
      "source": [
        "## Looping with iterrows()"
      ]
    },
    {
      "cell_type": "code",
      "metadata": {
        "id": "tC1o2VAtvUiZ",
        "colab": {
          "base_uri": "https://localhost:8080/"
        },
        "outputId": "53828fe8-2d9a-46d0-d44f-e22effda13f8"
      },
      "source": [
        "%%timeit\n",
        "\n",
        "# Haversine applied on rows via iteration\n",
        "haversine_series = []\n",
        "for index, row in df.iterrows():\n",
        "    haversine_series.append(haversine(40.671, -73.985, row['latitude'], row['longitude']))\n",
        "df['distance'] = haversine_series"
      ],
      "execution_count": 7,
      "outputs": [
        {
          "output_type": "stream",
          "text": [
            "10 loops, best of 5: 173 ms per loop\n"
          ],
          "name": "stdout"
        }
      ]
    },
    {
      "cell_type": "markdown",
      "metadata": {
        "id": "Yc62xZ9g4kt6"
      },
      "source": [
        "## We got a 300% improvement! But can we get it any faster?"
      ]
    },
    {
      "cell_type": "code",
      "metadata": {
        "id": "x8POwAyM4jpo",
        "colab": {
          "base_uri": "https://localhost:8080/"
        },
        "outputId": "9340a665-4a11-4290-f4d6-b35210db67c6"
      },
      "source": [
        "%%timeit\n",
        "\n",
        "# Timing apply on the Haversine function\n",
        "df['distance'] = df.apply(lambda row: haversine(40.671, -73.985, row['latitude'], row['longitude']), axis=1)"
      ],
      "execution_count": 8,
      "outputs": [
        {
          "output_type": "stream",
          "text": [
            "10 loops, best of 5: 50.1 ms per loop\n"
          ],
          "name": "stdout"
        }
      ]
    },
    {
      "cell_type": "markdown",
      "metadata": {
        "id": "ecs7dX4r43r7"
      },
      "source": [
        "### We went from 600ms to 60ms, a ten fold increase in speed!"
      ]
    },
    {
      "cell_type": "code",
      "metadata": {
        "id": "zdwZhFR14y5r",
        "colab": {
          "base_uri": "https://localhost:8080/"
        },
        "outputId": "c2c15c80-b0b5-4ce4-c616-5487a43ff12e"
      },
      "source": [
        " !pip install line_profiler\n",
        " %load_ext line_profiler\n",
        "\n",
        "# Haversine applied on rows with line profiler\n",
        "%lprun -f haversine df.apply(lambda row: haversine(40.671, -73.985, row['latitude'], row['longitude']), axis=1)\n"
      ],
      "execution_count": 9,
      "outputs": [
        {
          "output_type": "stream",
          "text": [
            "Collecting line_profiler\n",
            "  Downloading line_profiler-3.3.0-cp37-cp37m-manylinux2010_x86_64.whl (63 kB)\n",
            "\u001b[?25l\r\u001b[K     |█████▏                          | 10 kB 24.3 MB/s eta 0:00:01\r\u001b[K     |██████████▎                     | 20 kB 32.4 MB/s eta 0:00:01\r\u001b[K     |███████████████▍                | 30 kB 38.6 MB/s eta 0:00:01\r\u001b[K     |████████████████████▌           | 40 kB 29.2 MB/s eta 0:00:01\r\u001b[K     |█████████████████████████▋      | 51 kB 17.7 MB/s eta 0:00:01\r\u001b[K     |██████████████████████████████▉ | 61 kB 14.8 MB/s eta 0:00:01\r\u001b[K     |████████████████████████████████| 63 kB 1.9 MB/s \n",
            "\u001b[?25hRequirement already satisfied: IPython>=0.13 in /usr/local/lib/python3.7/dist-packages (from line_profiler) (5.5.0)\n",
            "Requirement already satisfied: setuptools>=18.5 in /usr/local/lib/python3.7/dist-packages (from IPython>=0.13->line_profiler) (57.4.0)\n",
            "Requirement already satisfied: pexpect in /usr/local/lib/python3.7/dist-packages (from IPython>=0.13->line_profiler) (4.8.0)\n",
            "Requirement already satisfied: decorator in /usr/local/lib/python3.7/dist-packages (from IPython>=0.13->line_profiler) (4.4.2)\n",
            "Requirement already satisfied: traitlets>=4.2 in /usr/local/lib/python3.7/dist-packages (from IPython>=0.13->line_profiler) (5.0.5)\n",
            "Requirement already satisfied: simplegeneric>0.8 in /usr/local/lib/python3.7/dist-packages (from IPython>=0.13->line_profiler) (0.8.1)\n",
            "Requirement already satisfied: pygments in /usr/local/lib/python3.7/dist-packages (from IPython>=0.13->line_profiler) (2.6.1)\n",
            "Requirement already satisfied: prompt-toolkit<2.0.0,>=1.0.4 in /usr/local/lib/python3.7/dist-packages (from IPython>=0.13->line_profiler) (1.0.18)\n",
            "Requirement already satisfied: pickleshare in /usr/local/lib/python3.7/dist-packages (from IPython>=0.13->line_profiler) (0.7.5)\n",
            "Requirement already satisfied: wcwidth in /usr/local/lib/python3.7/dist-packages (from prompt-toolkit<2.0.0,>=1.0.4->IPython>=0.13->line_profiler) (0.2.5)\n",
            "Requirement already satisfied: six>=1.9.0 in /usr/local/lib/python3.7/dist-packages (from prompt-toolkit<2.0.0,>=1.0.4->IPython>=0.13->line_profiler) (1.15.0)\n",
            "Requirement already satisfied: ipython-genutils in /usr/local/lib/python3.7/dist-packages (from traitlets>=4.2->IPython>=0.13->line_profiler) (0.2.0)\n",
            "Requirement already satisfied: ptyprocess>=0.5 in /usr/local/lib/python3.7/dist-packages (from pexpect->IPython>=0.13->line_profiler) (0.7.0)\n",
            "Installing collected packages: line-profiler\n",
            "Successfully installed line-profiler-3.3.0\n"
          ],
          "name": "stdout"
        }
      ]
    },
    {
      "cell_type": "markdown",
      "metadata": {
        "id": "Elv5hfRK6WRx"
      },
      "source": [
        "### We can note two things from the output.\n",
        "1. Line 9 our trigonometric calcuation accounts for the bulk of our processing time, understandably so.\n",
        "2. Each line is being hit 1631 times, that is because we're still **looping** so we iterate through every row in our dataframe"
      ]
    },
    {
      "cell_type": "markdown",
      "metadata": {
        "id": "Q2yD4mfY6wt_"
      },
      "source": [
        "# Now for Vectorization!\n",
        "\n",
        "- We've only been passing scalars to our Haversine function. Fortunately, all of the functions being used within the Haversine function, are also able to operate on arrays. \n",
        "- This makes the process of vectorizing our distance function quite simple as we can pass the entire series (columns) to it, performing all the calculations on the entire array simultaneously.\n",
        "\n",
        "![alt text](https://github.com/rajeevratan84/datascienceforbusiness/blob/master/vectorization.png?raw=true)"
      ]
    },
    {
      "cell_type": "code",
      "metadata": {
        "id": "y5u3sY3mvjUI",
        "colab": {
          "base_uri": "https://localhost:8080/"
        },
        "outputId": "f0d6d845-3a54-4408-d4cb-ae11d75ebf6c"
      },
      "source": [
        "%%timeit \n",
        "\n",
        "# Vectorized implementation of Haversine applied on Pandas series\n",
        "df['distance'] = haversine(40.671, -73.985, df['latitude'], df['longitude'])"
      ],
      "execution_count": null,
      "outputs": [
        {
          "output_type": "stream",
          "text": [
            "The slowest run took 15.00 times longer than the fastest. This could mean that an intermediate result is being cached.\n",
            "100 loops, best of 5: 2.33 ms per loop\n"
          ],
          "name": "stdout"
        }
      ]
    },
    {
      "cell_type": "code",
      "metadata": {
        "id": "Fsrxrx087KDf"
      },
      "source": [
        "# Run our line profiler to inspect further\n",
        "%lprun -f haversine df['distance'] = haversine(40.671, -73.985, df['latitude'], df['longitude'])"
      ],
      "execution_count": 12,
      "outputs": []
    },
    {
      "cell_type": "markdown",
      "metadata": {
        "id": "JGkuYa6j7Zu5"
      },
      "source": [
        "We can see that each line is hit once! exactly what we wanted, however, line 9 still accounts for the bulk of our proessing time. Can that be sped up? \n",
        "\n",
        "## Let's use numpy vectorization instead of pandas"
      ]
    },
    {
      "cell_type": "code",
      "metadata": {
        "id": "QYQUqnp_7VFo",
        "colab": {
          "base_uri": "https://localhost:8080/"
        },
        "outputId": "2ff01140-e675-45ce-f80a-c9fff8c378e0"
      },
      "source": [
        "%%timeit\n",
        "\n",
        "# Vectorized implementation of Haversine applied on NumPy arrays (note we use .values to access the numpy series)\n",
        "df['distance'] = haversine(40.671, -73.985, df['latitude'].values, df['longitude'].values)"
      ],
      "execution_count": 13,
      "outputs": [
        {
          "output_type": "stream",
          "text": [
            "1000 loops, best of 5: 234 µs per loop\n"
          ],
          "name": "stdout"
        }
      ]
    },
    {
      "cell_type": "markdown",
      "metadata": {
        "id": "EmFiXcCP759g"
      },
      "source": [
        "# So we went from 609 ms using regular for loops, to 275 µs (or 0.275ms)!!! A 2000 fold increase in performance!"
      ]
    },
    {
      "cell_type": "markdown",
      "metadata": {
        "id": "J1tz9ViAabbb"
      },
      "source": [
        "##Course ##\n",
        "\n",
        "Data Science, Analytics & AI for Business & the Real World by Rajeev D. Ratan"
      ]
    }
  ]
}
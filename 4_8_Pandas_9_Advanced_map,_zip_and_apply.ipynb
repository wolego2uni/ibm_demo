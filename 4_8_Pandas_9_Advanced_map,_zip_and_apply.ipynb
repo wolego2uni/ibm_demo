{
  "nbformat": 4,
  "nbformat_minor": 0,
  "metadata": {
    "colab": {
      "name": "4.8 Pandas 9 - Advanced - map, zip and apply.ipynb",
      "provenance": [],
      "collapsed_sections": [],
      "include_colab_link": true
    },
    "kernelspec": {
      "name": "python3",
      "display_name": "Python 3"
    }
  },
  "cells": [
    {
      "cell_type": "markdown",
      "metadata": {
        "id": "view-in-github",
        "colab_type": "text"
      },
      "source": [
        "<a href=\"https://colab.research.google.com/github/wolego2uni/ibm_demo/blob/main/4_8_Pandas_9_Advanced_map%2C_zip_and_apply.ipynb\" target=\"_parent\"><img src=\"https://colab.research.google.com/assets/colab-badge.svg\" alt=\"Open In Colab\"/></a>"
      ]
    },
    {
      "cell_type": "markdown",
      "metadata": {
        "id": "rwPPmYl7FtnD"
      },
      "source": [
        "#Learn to use Map(), Zip() and Apply()"
      ]
    },
    {
      "cell_type": "markdown",
      "metadata": {
        "id": "rh5F6I69latY"
      },
      "source": [
        "Let's start with map().\n",
        "\n",
        "map() is a Python funtion that can be used to apply another function to a list or dictiony. "
      ]
    },
    {
      "cell_type": "code",
      "metadata": {
        "id": "JsFHlzsaFwmS"
      },
      "source": [
        "numbers = [5, 2, 7, 3, 4, 6, 8, 1]\n",
        "\n",
        "# Let's make a function that caculates squares\n",
        "def square_number(x): \n",
        "    return x**2"
      ],
      "execution_count": 18,
      "outputs": []
    },
    {
      "cell_type": "code",
      "metadata": {
        "id": "so2y5MXUmg5w",
        "colab": {
          "base_uri": "https://localhost:8080/"
        },
        "outputId": "6e506aff-b9df-4b81-d689-fd46b4df7dfd"
      },
      "source": [
        "# A non-pythonic approach is using a for loop to iterate over each element in our list and append the result to our squares list\n",
        "squares = []\n",
        "for num in numbers:\n",
        "    squares.append(square_number(num))\n",
        "print('Non-Pythonic Approach: ', squares)"
      ],
      "execution_count": 19,
      "outputs": [
        {
          "output_type": "stream",
          "text": [
            "Non-Pythonic Approach:  [25, 4, 49, 9, 16, 36, 64, 1]\n"
          ],
          "name": "stdout"
        }
      ]
    },
    {
      "cell_type": "code",
      "metadata": {
        "id": "DV31kAqbmhBk",
        "colab": {
          "base_uri": "https://localhost:8080/"
        },
        "outputId": "02662f12-f263-41b8-fa5f-e43819855eeb"
      },
      "source": [
        "# A pythonic approach would be to use Map. It takes the function and the list as its input arguments.\n",
        "x = map(square_number, numbers)\n",
        "print('Pythonic Approach: ', list(x))"
      ],
      "execution_count": 20,
      "outputs": [
        {
          "output_type": "stream",
          "text": [
            "Pythonic Approach:  [25, 4, 49, 9, 16, 36, 64, 1]\n"
          ],
          "name": "stdout"
        }
      ]
    },
    {
      "cell_type": "markdown",
      "metadata": {
        "id": "etzvSgmcmuxr"
      },
      "source": [
        "# Let's now explore zip()"
      ]
    },
    {
      "cell_type": "code",
      "metadata": {
        "id": "QyFBD3okFiq2",
        "colab": {
          "base_uri": "https://localhost:8080/"
        },
        "outputId": "74e4973b-5132-479f-cfe6-2ebead67fb1d"
      },
      "source": [
        "a = [5, 2, 7, 3, 4]\n",
        "b = [3, 8, 6, 8, 1]\n",
        "c=[3, 8, 6, 8, 1]\n",
        "# Iterate over two or more lists simultaneously\n",
        "for x, y,z in zip(a, b, c):\n",
        "    print(x,y,z)"
      ],
      "execution_count": 21,
      "outputs": [
        {
          "output_type": "stream",
          "text": [
            "5 3 3\n",
            "2 8 8\n",
            "7 6 6\n",
            "3 8 8\n",
            "4 1 1\n"
          ],
          "name": "stdout"
        }
      ]
    },
    {
      "cell_type": "markdown",
      "metadata": {
        "id": "7bkQ_jgymzKf"
      },
      "source": [
        "# Now let's look at filter().\n",
        "Filter takes a function and a sequence (list or dictionarty) as its input and works similarly to **map** however, filter only stores the elements that were evaluated to be **True**"
      ]
    },
    {
      "cell_type": "code",
      "metadata": {
        "id": "47jOWtUrFj-O"
      },
      "source": [
        "numbers = [5, 2, 7, 3, 4, 6, 8, 1, 9, 0, 10]\n",
        "\n",
        "# Will return true if input number is even\n",
        "def isEven(x):\n",
        "    return x % 2 == 0"
      ],
      "execution_count": 22,
      "outputs": []
    },
    {
      "cell_type": "code",
      "metadata": {
        "id": "1br8gVgGnDMV",
        "colab": {
          "base_uri": "https://localhost:8080/"
        },
        "outputId": "817488a8-8d2f-4605-9bb3-6ca3e42ce278"
      },
      "source": [
        "\n",
        "# A non-pythonic approach would be to use a for loop with an if statement inside\n",
        "even_numbers = []\n",
        "for num in numbers:\n",
        "    if isEven(num):\n",
        "        even_numbers.append(num)\n",
        "print('Non-Pythonic Approach: ', even_numbers)"
      ],
      "execution_count": 23,
      "outputs": [
        {
          "output_type": "stream",
          "text": [
            "Non-Pythonic Approach:  [2, 4, 6, 8, 0, 10]\n"
          ],
          "name": "stdout"
        }
      ]
    },
    {
      "cell_type": "code",
      "metadata": {
        "id": "6aAjiIybnFbh",
        "colab": {
          "base_uri": "https://localhost:8080/"
        },
        "outputId": "810ba0b2-eec8-4f44-d934-9df54f60b0d6"
      },
      "source": [
        "\n",
        "# A pythonic approach would be to use filter()\n",
        "even_numbers = filter(isEven, numbers)\n",
        "print('Pythonic Approach: ', list(even_numbers))"
      ],
      "execution_count": 24,
      "outputs": [
        {
          "output_type": "stream",
          "text": [
            "Pythonic Approach:  [2, 4, 6, 8, 0, 10]\n"
          ],
          "name": "stdout"
        }
      ]
    },
    {
      "cell_type": "code",
      "metadata": {
        "id": "wJ_OXr4IJ93m",
        "colab": {
          "base_uri": "https://localhost:8080/"
        },
        "outputId": "b4510eef-82e0-4538-ddb3-c8defb316fc2"
      },
      "source": [
        "# A pythonic approach would be to use filter()\n",
        "even_numbers = filter(isEven, numbers)\n",
        "print('Pythonic Approach: ', list(even_numbers))"
      ],
      "execution_count": 25,
      "outputs": [
        {
          "output_type": "stream",
          "text": [
            "Pythonic Approach:  [2, 4, 6, 8, 0, 10]\n"
          ],
          "name": "stdout"
        }
      ]
    }
  ]
}
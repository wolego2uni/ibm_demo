{
  "nbformat": 4,
  "nbformat_minor": 0,
  "metadata": {
    "colab": {
      "name": "5.1 Statistics 2 - Sampling.ipynb",
      "provenance": [],
      "include_colab_link": true
    },
    "kernelspec": {
      "name": "python3",
      "display_name": "Python 3"
    }
  },
  "cells": [
    {
      "cell_type": "markdown",
      "metadata": {
        "id": "view-in-github",
        "colab_type": "text"
      },
      "source": [
        "<a href=\"https://colab.research.google.com/github/wolego2uni/ibm_demo/blob/main/5_1_Statistics_2_Sampling.ipynb\" target=\"_parent\"><img src=\"https://colab.research.google.com/assets/colab-badge.svg\" alt=\"Open In Colab\"/></a>"
      ]
    },
    {
      "cell_type": "markdown",
      "metadata": {
        "id": "h4yFyC0WOGa6"
      },
      "source": [
        "# Sampling"
      ]
    },
    {
      "cell_type": "code",
      "metadata": {
        "id": "Yk6lpNsKOHd4",
        "colab": {
          "base_uri": "https://localhost:8080/",
          "height": 203
        },
        "outputId": "9aa769e9-bc5b-423c-908c-42d6cdbd63fe"
      },
      "source": [
        "import pandas as pd\n",
        "import numpy as np\n",
        "import seaborn as sns\n",
        "import matplotlib.pyplot as plt\n",
        "\n",
        "file_name = \"https://raw.githubusercontent.com/rajeevratan84/datascienceforbusiness/master/winequalityN.csv\"\n",
        "df = pd.read_csv(file_name)\n",
        "df.head()"
      ],
      "execution_count": 1,
      "outputs": [
        {
          "output_type": "execute_result",
          "data": {
            "text/html": [
              "<div>\n",
              "<style scoped>\n",
              "    .dataframe tbody tr th:only-of-type {\n",
              "        vertical-align: middle;\n",
              "    }\n",
              "\n",
              "    .dataframe tbody tr th {\n",
              "        vertical-align: top;\n",
              "    }\n",
              "\n",
              "    .dataframe thead th {\n",
              "        text-align: right;\n",
              "    }\n",
              "</style>\n",
              "<table border=\"1\" class=\"dataframe\">\n",
              "  <thead>\n",
              "    <tr style=\"text-align: right;\">\n",
              "      <th></th>\n",
              "      <th>type</th>\n",
              "      <th>fixed acidity</th>\n",
              "      <th>volatile acidity</th>\n",
              "      <th>citric acid</th>\n",
              "      <th>residual sugar</th>\n",
              "      <th>chlorides</th>\n",
              "      <th>free sulfur dioxide</th>\n",
              "      <th>total sulfur dioxide</th>\n",
              "      <th>density</th>\n",
              "      <th>pH</th>\n",
              "      <th>sulphates</th>\n",
              "      <th>alcohol</th>\n",
              "      <th>quality</th>\n",
              "    </tr>\n",
              "  </thead>\n",
              "  <tbody>\n",
              "    <tr>\n",
              "      <th>0</th>\n",
              "      <td>white</td>\n",
              "      <td>7.0</td>\n",
              "      <td>0.27</td>\n",
              "      <td>0.36</td>\n",
              "      <td>20.7</td>\n",
              "      <td>0.045</td>\n",
              "      <td>45.0</td>\n",
              "      <td>170.0</td>\n",
              "      <td>1.0010</td>\n",
              "      <td>3.00</td>\n",
              "      <td>0.45</td>\n",
              "      <td>8.8</td>\n",
              "      <td>6</td>\n",
              "    </tr>\n",
              "    <tr>\n",
              "      <th>1</th>\n",
              "      <td>white</td>\n",
              "      <td>6.3</td>\n",
              "      <td>0.30</td>\n",
              "      <td>0.34</td>\n",
              "      <td>1.6</td>\n",
              "      <td>0.049</td>\n",
              "      <td>14.0</td>\n",
              "      <td>132.0</td>\n",
              "      <td>0.9940</td>\n",
              "      <td>3.30</td>\n",
              "      <td>0.49</td>\n",
              "      <td>9.5</td>\n",
              "      <td>6</td>\n",
              "    </tr>\n",
              "    <tr>\n",
              "      <th>2</th>\n",
              "      <td>white</td>\n",
              "      <td>8.1</td>\n",
              "      <td>0.28</td>\n",
              "      <td>0.40</td>\n",
              "      <td>6.9</td>\n",
              "      <td>0.050</td>\n",
              "      <td>30.0</td>\n",
              "      <td>97.0</td>\n",
              "      <td>0.9951</td>\n",
              "      <td>3.26</td>\n",
              "      <td>0.44</td>\n",
              "      <td>10.1</td>\n",
              "      <td>6</td>\n",
              "    </tr>\n",
              "    <tr>\n",
              "      <th>3</th>\n",
              "      <td>white</td>\n",
              "      <td>7.2</td>\n",
              "      <td>0.23</td>\n",
              "      <td>0.32</td>\n",
              "      <td>8.5</td>\n",
              "      <td>0.058</td>\n",
              "      <td>47.0</td>\n",
              "      <td>186.0</td>\n",
              "      <td>0.9956</td>\n",
              "      <td>3.19</td>\n",
              "      <td>0.40</td>\n",
              "      <td>9.9</td>\n",
              "      <td>6</td>\n",
              "    </tr>\n",
              "    <tr>\n",
              "      <th>4</th>\n",
              "      <td>white</td>\n",
              "      <td>7.2</td>\n",
              "      <td>0.23</td>\n",
              "      <td>0.32</td>\n",
              "      <td>8.5</td>\n",
              "      <td>0.058</td>\n",
              "      <td>47.0</td>\n",
              "      <td>186.0</td>\n",
              "      <td>0.9956</td>\n",
              "      <td>3.19</td>\n",
              "      <td>0.40</td>\n",
              "      <td>9.9</td>\n",
              "      <td>6</td>\n",
              "    </tr>\n",
              "  </tbody>\n",
              "</table>\n",
              "</div>"
            ],
            "text/plain": [
              "    type  fixed acidity  volatile acidity  ...  sulphates  alcohol  quality\n",
              "0  white            7.0              0.27  ...       0.45      8.8        6\n",
              "1  white            6.3              0.30  ...       0.49      9.5        6\n",
              "2  white            8.1              0.28  ...       0.44     10.1        6\n",
              "3  white            7.2              0.23  ...       0.40      9.9        6\n",
              "4  white            7.2              0.23  ...       0.40      9.9        6\n",
              "\n",
              "[5 rows x 13 columns]"
            ]
          },
          "metadata": {},
          "execution_count": 1
        }
      ]
    },
    {
      "cell_type": "code",
      "metadata": {
        "id": "1-UExI4Qw7MG",
        "colab": {
          "base_uri": "https://localhost:8080/"
        },
        "outputId": "d2a29700-9b3c-499f-8522-68e6222fe5cc"
      },
      "source": [
        "df.shape"
      ],
      "execution_count": 2,
      "outputs": [
        {
          "output_type": "execute_result",
          "data": {
            "text/plain": [
              "(6497, 13)"
            ]
          },
          "metadata": {},
          "execution_count": 2
        }
      ]
    },
    {
      "cell_type": "code",
      "metadata": {
        "id": "ZG-MgxTuOjC4",
        "colab": {
          "base_uri": "https://localhost:8080/",
          "height": 315
        },
        "outputId": "346a3b8f-b3c8-4d71-a1f5-b55c92766320"
      },
      "source": [
        "import pandas as pd\n",
        "\n",
        "sample_means = []\n",
        "population_mean = df['alcohol'].mean()\n",
        "sample_size = 500\n",
        "\n",
        "for i in range(sample_size):\n",
        "    # we use the sample function to take n samples, random state is a seed parameter to generate pseudo randomn numbers\n",
        "    sample = df['alcohol'].sample(sample_size, random_state=i)\n",
        "    sample_means.append(sample.mean())\n",
        "\n",
        "plt.scatter(range(1,sample_size+1), sample_means)\n",
        "\n",
        "# Plots our actual mean\n",
        "plt.axhline(population_mean, color='red')\n",
        "\n",
        "# Plots the mean of our sample size\n",
        "sample_size_mean = np.array(sample_means).mean()\n",
        "plt.axhline(sample_size_mean)\n",
        "\n",
        "print(\"Actual Mean: %2f\" % (population_mean))\n",
        "print(\"Sample Mean: %2f\" % (sample_size_mean))\n",
        "print(\"Sample Error: %2f\" % (population_mean-sample_size_mean))"
      ],
      "execution_count": 4,
      "outputs": [
        {
          "output_type": "stream",
          "text": [
            "Actual Mean: 10.491801\n",
            "Sample Mean: 10.492182\n",
            "Sample Error: -0.000381\n"
          ],
          "name": "stdout"
        },
        {
          "output_type": "display_data",
          "data": {
            "image/png": "[encoded data removed]",
            "text/plain": [
              "<Figure size 432x288 with 1 Axes>"
            ]
          },
          "metadata": {
            "needs_background": "light"
          }
        }
      ]
    },
    {
      "cell_type": "markdown",
      "metadata": {
        "id": "fgRRKQmFSbxa"
      },
      "source": [
        "# Stratifying Sampling\n",
        "\n",
        "Taking the average alcohol content of wines based on our sample can be misleading because our dataset contains both red and white wines, and when looking at the proportion, it contains far more white wines."
      ]
    },
    {
      "cell_type": "code",
      "metadata": {
        "id": "DKli6WCUSqdZ",
        "colab": {
          "base_uri": "https://localhost:8080/"
        },
        "outputId": "d5849296-9ad8-49ce-c0c2-512f5cb83afb"
      },
      "source": [
        "df['type'].value_counts()"
      ],
      "execution_count": 5,
      "outputs": [
        {
          "output_type": "execute_result",
          "data": {
            "text/plain": [
              "white    4898\n",
              "red      1599\n",
              "Name: type, dtype: int64"
            ]
          },
          "metadata": {},
          "execution_count": 5
        }
      ]
    },
    {
      "cell_type": "code",
      "metadata": {
        "id": "hPUi80aNPXKu"
      },
      "source": [
        "# We need to stratify the data\n",
        "\n",
        "stratum_white = df[df.type == 'white']\n",
        "stratum_red = df[df.type == 'red']"
      ],
      "execution_count": 6,
      "outputs": []
    },
    {
      "cell_type": "code",
      "metadata": {
        "id": "1y7OMOlUS2ZJ",
        "colab": {
          "base_uri": "https://localhost:8080/"
        },
        "outputId": "0f85b7e1-31ac-4f45-a083-648efd5172b6"
      },
      "source": [
        "len(stratum_white)"
      ],
      "execution_count": 7,
      "outputs": [
        {
          "output_type": "execute_result",
          "data": {
            "text/plain": [
              "4898"
            ]
          },
          "metadata": {},
          "execution_count": 7
        }
      ]
    },
    {
      "cell_type": "code",
      "metadata": {
        "id": "3lnXtaT8SOC_",
        "colab": {
          "base_uri": "https://localhost:8080/"
        },
        "outputId": "9777378a-315f-49e7-c48e-a19150f913bd"
      },
      "source": [
        "alcohol_per_wine_type = {}\n",
        "\n",
        "for stratum, wine_type in [(stratum_white, 'white'), (stratum_red, 'red')]:\n",
        "  sample = stratum['alcohol'].sample(250, random_state = 0) # random sampling on each stratum\n",
        "  alcohol_per_wine_type[wine_type] = sample.mean()\n",
        "\n",
        "print(alcohol_per_wine_type)"
      ],
      "execution_count": 8,
      "outputs": [
        {
          "output_type": "stream",
          "text": [
            "{'white': 10.610040000011999, 'red': 10.47900000000001}\n"
          ],
          "name": "stdout"
        }
      ]
    }
  ]
}
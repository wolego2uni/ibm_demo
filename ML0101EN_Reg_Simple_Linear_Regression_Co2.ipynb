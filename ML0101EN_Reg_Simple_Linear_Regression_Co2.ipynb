{
  "nbformat": 4,
  "nbformat_minor": 0,
  "metadata": {
    "kernelspec": {
      "display_name": "Python 3",
      "language": "python",
      "name": "python3"
    },
    "language_info": {
      "codemirror_mode": {
        "name": "ipython",
        "version": 3
      },
      "file_extension": ".py",
      "mimetype": "text/x-python",
      "name": "python",
      "nbconvert_exporter": "python",
      "pygments_lexer": "ipython3",
      "version": "3.7.6"
    },
    "colab": {
      "name": "ML0101EN-Reg-Simple-Linear-Regression-Co2.ipynb",
      "provenance": [],
      "include_colab_link": true
    }
  },
  "cells": [
    {
      "cell_type": "markdown",
      "metadata": {
        "id": "view-in-github",
        "colab_type": "text"
      },
      "source": [
        "<a href=\"https://colab.research.google.com/github/wolego2uni/ibm_demo/blob/main/ML0101EN_Reg_Simple_Linear_Regression_Co2.ipynb\" target=\"_parent\"><img src=\"https://colab.research.google.com/assets/colab-badge.svg\" alt=\"Open In Colab\"/></a>"
      ]
    },
    {
      "cell_type": "markdown",
      "metadata": {
        "button": false,
        "new_sheet": false,
        "run_control": {
          "read_only": false
        },
        "id": "3BkMDJtgJWaD"
      },
      "source": [
        "<center>\n",
        "    <img src=\"https://cf-courses-data.s3.us.cloud-object-storage.appdomain.cloud/IBMDeveloperSkillsNetwork-ML0101EN-SkillsNetwork/labs/Module%202/images/IDSNlogo.png\" width=\"300\" alt=\"cognitiveclass.ai logo\"  />\n",
        "</center>\n",
        "\n",
        "# Simple Linear Regression\n",
        "\n",
        "Estimated time needed: **15** minutes\n",
        "\n",
        "## Objectives\n",
        "\n",
        "After completing this lab you will be able to:\n",
        "\n",
        "*   Use scikit-learn to implement simple Linear Regression\n",
        "*   Create a model, train it, test it and use the model\n"
      ]
    },
    {
      "cell_type": "markdown",
      "metadata": {
        "button": false,
        "new_sheet": false,
        "run_control": {
          "read_only": false
        },
        "id": "qAPdeId7JWaE"
      },
      "source": [
        "### Importing Needed packages\n"
      ]
    },
    {
      "cell_type": "code",
      "metadata": {
        "button": false,
        "new_sheet": false,
        "run_control": {
          "read_only": false
        },
        "id": "E8Gyx1gKJWaE"
      },
      "source": [
        "import matplotlib.pyplot as plt\n",
        "import pandas as pd\n",
        "import pylab as pl\n",
        "import numpy as np\n",
        "%matplotlib inline"
      ],
      "execution_count": 1,
      "outputs": []
    },
    {
      "cell_type": "markdown",
      "metadata": {
        "button": false,
        "new_sheet": false,
        "run_control": {
          "read_only": false
        },
        "id": "Sxx_RWK7JWaF"
      },
      "source": [
        "### Downloading Data\n",
        "\n",
        "To download the data, we will use !wget to download it from IBM Object Storage.\n"
      ]
    },
    {
      "cell_type": "code",
      "metadata": {
        "button": false,
        "new_sheet": false,
        "run_control": {
          "read_only": false
        },
        "colab": {
          "base_uri": "https://localhost:8080/"
        },
        "id": "vC2_84ZrJWaF",
        "outputId": "68572e76-ba66-4e24-f2d7-c70c32b97ed0"
      },
      "source": [
        "!wget -O FuelConsumption.csv https://cf-courses-data.s3.us.cloud-object-storage.appdomain.cloud/IBMDeveloperSkillsNetwork-ML0101EN-SkillsNetwork/labs/Module%202/data/FuelConsumptionCo2.csv"
      ],
      "execution_count": 2,
      "outputs": [
        {
          "output_type": "stream",
          "name": "stdout",
          "text": [
            "--2021-09-07 16:44:44--  https://cf-courses-data.s3.us.cloud-object-storage.appdomain.cloud/IBMDeveloperSkillsNetwork-ML0101EN-SkillsNetwork/labs/Module%202/data/FuelConsumptionCo2.csv\n",
            "Resolving cf-courses-data.s3.us.cloud-object-storage.appdomain.cloud (cf-courses-data.s3.us.cloud-object-storage.appdomain.cloud)... 169.45.118.108\n",
            "Connecting to cf-courses-data.s3.us.cloud-object-storage.appdomain.cloud (cf-courses-data.s3.us.cloud-object-storage.appdomain.cloud)|169.45.118.108|:443... connected.\n",
            "HTTP request sent, awaiting response... 200 OK\n",
            "Length: 72629 (71K) [text/csv]\n",
            "Saving to: ‘FuelConsumption.csv’\n",
            "\n",
            "FuelConsumption.csv 100%[===================>]  70.93K  --.-KB/s    in 0.05s   \n",
            "\n",
            "2021-09-07 16:44:44 (1.49 MB/s) - ‘FuelConsumption.csv’ saved [72629/72629]\n",
            "\n"
          ]
        }
      ]
    },
    {
      "cell_type": "markdown",
      "metadata": {
        "id": "cKCOVXRIJWaF"
      },
      "source": [
        "**Did you know?** When it comes to Machine Learning, you will likely be working with large datasets. As a business, where can you host your data? IBM is offering a unique opportunity for businesses, with 10 Tb of IBM Cloud Object Storage: [Sign up now for free](http://cocl.us/ML0101EN-IBM-Offer-CC)\n"
      ]
    },
    {
      "cell_type": "markdown",
      "metadata": {
        "button": false,
        "new_sheet": false,
        "run_control": {
          "read_only": false
        },
        "id": "XJkcEE_UJWaG"
      },
      "source": [
        "## Understanding the Data\n",
        "\n",
        "### `FuelConsumption.csv`:\n",
        "\n",
        "We have downloaded a fuel consumption dataset, **`FuelConsumption.csv`**, which contains model-specific fuel consumption ratings and estimated carbon dioxide emissions for new light-duty vehicles for retail sale in Canada. [Dataset source](http://open.canada.ca/data/en/dataset/98f1a129-f628-4ce4-b24d-6f16bf24dd64?utm_medium=Exinfluencer&utm_source=Exinfluencer&utm_content=000026UJ&utm_term=10006555&utm_id=NA-SkillsNetwork-Channel-SkillsNetworkCoursesIBMDeveloperSkillsNetworkML0101ENSkillsNetwork20718538-2021-01-01)\n",
        "\n",
        "*   **MODELYEAR** e.g. 2014\n",
        "*   **MAKE** e.g. Acura\n",
        "*   **MODEL** e.g. ILX\n",
        "*   **VEHICLE CLASS** e.g. SUV\n",
        "*   **ENGINE SIZE** e.g. 4.7\n",
        "*   **CYLINDERS** e.g 6\n",
        "*   **TRANSMISSION** e.g. A6\n",
        "*   **FUEL CONSUMPTION in CITY(L/100 km)** e.g. 9.9\n",
        "*   **FUEL CONSUMPTION in HWY (L/100 km)** e.g. 8.9\n",
        "*   **FUEL CONSUMPTION COMB (L/100 km)** e.g. 9.2\n",
        "*   **CO2 EMISSIONS (g/km)** e.g. 182   --> low --> 0\n"
      ]
    },
    {
      "cell_type": "markdown",
      "metadata": {
        "button": false,
        "new_sheet": false,
        "run_control": {
          "read_only": false
        },
        "id": "l_6Z_JFpJWaG"
      },
      "source": [
        "## Reading the data in\n"
      ]
    },
    {
      "cell_type": "code",
      "metadata": {
        "button": false,
        "new_sheet": false,
        "run_control": {
          "read_only": false
        },
        "colab": {
          "base_uri": "https://localhost:8080/",
          "height": 274
        },
        "id": "TukzG9GWJWaG",
        "outputId": "9aebc616-a8c0-4791-ba61-dd1377bb8521"
      },
      "source": [
        "df = pd.read_csv(\"FuelConsumption.csv\")\n",
        "\n",
        "# take a look at the dataset\n",
        "df.head()\n",
        "\n"
      ],
      "execution_count": 3,
      "outputs": [
        {
          "output_type": "execute_result",
          "data": {
            "text/html": [
              "<div>\n",
              "<style scoped>\n",
              "    .dataframe tbody tr th:only-of-type {\n",
              "        vertical-align: middle;\n",
              "    }\n",
              "\n",
              "    .dataframe tbody tr th {\n",
              "        vertical-align: top;\n",
              "    }\n",
              "\n",
              "    .dataframe thead th {\n",
              "        text-align: right;\n",
              "    }\n",
              "</style>\n",
              "<table border=\"1\" class=\"dataframe\">\n",
              "  <thead>\n",
              "    <tr style=\"text-align: right;\">\n",
              "      <th></th>\n",
              "      <th>MODELYEAR</th>\n",
              "      <th>MAKE</th>\n",
              "      <th>MODEL</th>\n",
              "      <th>VEHICLECLASS</th>\n",
              "      <th>ENGINESIZE</th>\n",
              "      <th>CYLINDERS</th>\n",
              "      <th>TRANSMISSION</th>\n",
              "      <th>FUELTYPE</th>\n",
              "      <th>FUELCONSUMPTION_CITY</th>\n",
              "      <th>FUELCONSUMPTION_HWY</th>\n",
              "      <th>FUELCONSUMPTION_COMB</th>\n",
              "      <th>FUELCONSUMPTION_COMB_MPG</th>\n",
              "      <th>CO2EMISSIONS</th>\n",
              "    </tr>\n",
              "  </thead>\n",
              "  <tbody>\n",
              "    <tr>\n",
              "      <th>0</th>\n",
              "      <td>2014</td>\n",
              "      <td>ACURA</td>\n",
              "      <td>ILX</td>\n",
              "      <td>COMPACT</td>\n",
              "      <td>2.0</td>\n",
              "      <td>4</td>\n",
              "      <td>AS5</td>\n",
              "      <td>Z</td>\n",
              "      <td>9.9</td>\n",
              "      <td>6.7</td>\n",
              "      <td>8.5</td>\n",
              "      <td>33</td>\n",
              "      <td>196</td>\n",
              "    </tr>\n",
              "    <tr>\n",
              "      <th>1</th>\n",
              "      <td>2014</td>\n",
              "      <td>ACURA</td>\n",
              "      <td>ILX</td>\n",
              "      <td>COMPACT</td>\n",
              "      <td>2.4</td>\n",
              "      <td>4</td>\n",
              "      <td>M6</td>\n",
              "      <td>Z</td>\n",
              "      <td>11.2</td>\n",
              "      <td>7.7</td>\n",
              "      <td>9.6</td>\n",
              "      <td>29</td>\n",
              "      <td>221</td>\n",
              "    </tr>\n",
              "    <tr>\n",
              "      <th>2</th>\n",
              "      <td>2014</td>\n",
              "      <td>ACURA</td>\n",
              "      <td>ILX HYBRID</td>\n",
              "      <td>COMPACT</td>\n",
              "      <td>1.5</td>\n",
              "      <td>4</td>\n",
              "      <td>AV7</td>\n",
              "      <td>Z</td>\n",
              "      <td>6.0</td>\n",
              "      <td>5.8</td>\n",
              "      <td>5.9</td>\n",
              "      <td>48</td>\n",
              "      <td>136</td>\n",
              "    </tr>\n",
              "    <tr>\n",
              "      <th>3</th>\n",
              "      <td>2014</td>\n",
              "      <td>ACURA</td>\n",
              "      <td>MDX 4WD</td>\n",
              "      <td>SUV - SMALL</td>\n",
              "      <td>3.5</td>\n",
              "      <td>6</td>\n",
              "      <td>AS6</td>\n",
              "      <td>Z</td>\n",
              "      <td>12.7</td>\n",
              "      <td>9.1</td>\n",
              "      <td>11.1</td>\n",
              "      <td>25</td>\n",
              "      <td>255</td>\n",
              "    </tr>\n",
              "    <tr>\n",
              "      <th>4</th>\n",
              "      <td>2014</td>\n",
              "      <td>ACURA</td>\n",
              "      <td>RDX AWD</td>\n",
              "      <td>SUV - SMALL</td>\n",
              "      <td>3.5</td>\n",
              "      <td>6</td>\n",
              "      <td>AS6</td>\n",
              "      <td>Z</td>\n",
              "      <td>12.1</td>\n",
              "      <td>8.7</td>\n",
              "      <td>10.6</td>\n",
              "      <td>27</td>\n",
              "      <td>244</td>\n",
              "    </tr>\n",
              "  </tbody>\n",
              "</table>\n",
              "</div>"
            ],
            "text/plain": [
              "   MODELYEAR   MAKE  ... FUELCONSUMPTION_COMB_MPG CO2EMISSIONS\n",
              "0       2014  ACURA  ...                       33          196\n",
              "1       2014  ACURA  ...                       29          221\n",
              "2       2014  ACURA  ...                       48          136\n",
              "3       2014  ACURA  ...                       25          255\n",
              "4       2014  ACURA  ...                       27          244\n",
              "\n",
              "[5 rows x 13 columns]"
            ]
          },
          "metadata": {},
          "execution_count": 3
        }
      ]
    },
    {
      "cell_type": "markdown",
      "metadata": {
        "button": false,
        "new_sheet": false,
        "run_control": {
          "read_only": false
        },
        "id": "V73SzdSYJWaH"
      },
      "source": [
        "### Data Exploration\n",
        "\n",
        "Let's first have a descriptive exploration on our data.\n"
      ]
    },
    {
      "cell_type": "code",
      "metadata": {
        "button": false,
        "new_sheet": false,
        "run_control": {
          "read_only": false
        },
        "colab": {
          "base_uri": "https://localhost:8080/",
          "height": 315
        },
        "id": "_MJNzBxOJWaH",
        "outputId": "235c8a56-941d-489a-ce50-7e1310d6cab8"
      },
      "source": [
        "# summarize the data\n",
        "df.describe()"
      ],
      "execution_count": 5,
      "outputs": [
        {
          "output_type": "execute_result",
          "data": {
            "text/html": [
              "<div>\n",
              "<style scoped>\n",
              "    .dataframe tbody tr th:only-of-type {\n",
              "        vertical-align: middle;\n",
              "    }\n",
              "\n",
              "    .dataframe tbody tr th {\n",
              "        vertical-align: top;\n",
              "    }\n",
              "\n",
              "    .dataframe thead th {\n",
              "        text-align: right;\n",
              "    }\n",
              "</style>\n",
              "<table border=\"1\" class=\"dataframe\">\n",
              "  <thead>\n",
              "    <tr style=\"text-align: right;\">\n",
              "      <th></th>\n",
              "      <th>MODELYEAR</th>\n",
              "      <th>ENGINESIZE</th>\n",
              "      <th>CYLINDERS</th>\n",
              "      <th>FUELCONSUMPTION_CITY</th>\n",
              "      <th>FUELCONSUMPTION_HWY</th>\n",
              "      <th>FUELCONSUMPTION_COMB</th>\n",
              "      <th>FUELCONSUMPTION_COMB_MPG</th>\n",
              "      <th>CO2EMISSIONS</th>\n",
              "    </tr>\n",
              "  </thead>\n",
              "  <tbody>\n",
              "    <tr>\n",
              "      <th>count</th>\n",
              "      <td>1067.0</td>\n",
              "      <td>1067.000000</td>\n",
              "      <td>1067.000000</td>\n",
              "      <td>1067.000000</td>\n",
              "      <td>1067.000000</td>\n",
              "      <td>1067.000000</td>\n",
              "      <td>1067.000000</td>\n",
              "      <td>1067.000000</td>\n",
              "    </tr>\n",
              "    <tr>\n",
              "      <th>mean</th>\n",
              "      <td>2014.0</td>\n",
              "      <td>3.346298</td>\n",
              "      <td>5.794752</td>\n",
              "      <td>13.296532</td>\n",
              "      <td>9.474602</td>\n",
              "      <td>11.580881</td>\n",
              "      <td>26.441425</td>\n",
              "      <td>256.228679</td>\n",
              "    </tr>\n",
              "    <tr>\n",
              "      <th>std</th>\n",
              "      <td>0.0</td>\n",
              "      <td>1.415895</td>\n",
              "      <td>1.797447</td>\n",
              "      <td>4.101253</td>\n",
              "      <td>2.794510</td>\n",
              "      <td>3.485595</td>\n",
              "      <td>7.468702</td>\n",
              "      <td>63.372304</td>\n",
              "    </tr>\n",
              "    <tr>\n",
              "      <th>min</th>\n",
              "      <td>2014.0</td>\n",
              "      <td>1.000000</td>\n",
              "      <td>3.000000</td>\n",
              "      <td>4.600000</td>\n",
              "      <td>4.900000</td>\n",
              "      <td>4.700000</td>\n",
              "      <td>11.000000</td>\n",
              "      <td>108.000000</td>\n",
              "    </tr>\n",
              "    <tr>\n",
              "      <th>25%</th>\n",
              "      <td>2014.0</td>\n",
              "      <td>2.000000</td>\n",
              "      <td>4.000000</td>\n",
              "      <td>10.250000</td>\n",
              "      <td>7.500000</td>\n",
              "      <td>9.000000</td>\n",
              "      <td>21.000000</td>\n",
              "      <td>207.000000</td>\n",
              "    </tr>\n",
              "    <tr>\n",
              "      <th>50%</th>\n",
              "      <td>2014.0</td>\n",
              "      <td>3.400000</td>\n",
              "      <td>6.000000</td>\n",
              "      <td>12.600000</td>\n",
              "      <td>8.800000</td>\n",
              "      <td>10.900000</td>\n",
              "      <td>26.000000</td>\n",
              "      <td>251.000000</td>\n",
              "    </tr>\n",
              "    <tr>\n",
              "      <th>75%</th>\n",
              "      <td>2014.0</td>\n",
              "      <td>4.300000</td>\n",
              "      <td>8.000000</td>\n",
              "      <td>15.550000</td>\n",
              "      <td>10.850000</td>\n",
              "      <td>13.350000</td>\n",
              "      <td>31.000000</td>\n",
              "      <td>294.000000</td>\n",
              "    </tr>\n",
              "    <tr>\n",
              "      <th>max</th>\n",
              "      <td>2014.0</td>\n",
              "      <td>8.400000</td>\n",
              "      <td>12.000000</td>\n",
              "      <td>30.200000</td>\n",
              "      <td>20.500000</td>\n",
              "      <td>25.800000</td>\n",
              "      <td>60.000000</td>\n",
              "      <td>488.000000</td>\n",
              "    </tr>\n",
              "  </tbody>\n",
              "</table>\n",
              "</div>"
            ],
            "text/plain": [
              "       MODELYEAR   ENGINESIZE  ...  FUELCONSUMPTION_COMB_MPG  CO2EMISSIONS\n",
              "count     1067.0  1067.000000  ...               1067.000000   1067.000000\n",
              "mean      2014.0     3.346298  ...                 26.441425    256.228679\n",
              "std          0.0     1.415895  ...                  7.468702     63.372304\n",
              "min       2014.0     1.000000  ...                 11.000000    108.000000\n",
              "25%       2014.0     2.000000  ...                 21.000000    207.000000\n",
              "50%       2014.0     3.400000  ...                 26.000000    251.000000\n",
              "75%       2014.0     4.300000  ...                 31.000000    294.000000\n",
              "max       2014.0     8.400000  ...                 60.000000    488.000000\n",
              "\n",
              "[8 rows x 8 columns]"
            ]
          },
          "metadata": {},
          "execution_count": 5
        }
      ]
    },
    {
      "cell_type": "markdown",
      "metadata": {
        "id": "-MCgFH2nJWaH"
      },
      "source": [
        "Let's select some features to explore more.\n"
      ]
    },
    {
      "cell_type": "code",
      "metadata": {
        "button": false,
        "new_sheet": false,
        "run_control": {
          "read_only": false
        },
        "colab": {
          "base_uri": "https://localhost:8080/",
          "height": 326
        },
        "id": "ojTDAofyJWaH",
        "outputId": "4dc924ae-09bb-4887-a143-0c94c0702aba"
      },
      "source": [
        "cdf = df[['ENGINESIZE','CYLINDERS','FUELCONSUMPTION_COMB','CO2EMISSIONS']]\n",
        "cdf.head(9)"
      ],
      "execution_count": 6,
      "outputs": [
        {
          "output_type": "execute_result",
          "data": {
            "text/html": [
              "<div>\n",
              "<style scoped>\n",
              "    .dataframe tbody tr th:only-of-type {\n",
              "        vertical-align: middle;\n",
              "    }\n",
              "\n",
              "    .dataframe tbody tr th {\n",
              "        vertical-align: top;\n",
              "    }\n",
              "\n",
              "    .dataframe thead th {\n",
              "        text-align: right;\n",
              "    }\n",
              "</style>\n",
              "<table border=\"1\" class=\"dataframe\">\n",
              "  <thead>\n",
              "    <tr style=\"text-align: right;\">\n",
              "      <th></th>\n",
              "      <th>ENGINESIZE</th>\n",
              "      <th>CYLINDERS</th>\n",
              "      <th>FUELCONSUMPTION_COMB</th>\n",
              "      <th>CO2EMISSIONS</th>\n",
              "    </tr>\n",
              "  </thead>\n",
              "  <tbody>\n",
              "    <tr>\n",
              "      <th>0</th>\n",
              "      <td>2.0</td>\n",
              "      <td>4</td>\n",
              "      <td>8.5</td>\n",
              "      <td>196</td>\n",
              "    </tr>\n",
              "    <tr>\n",
              "      <th>1</th>\n",
              "      <td>2.4</td>\n",
              "      <td>4</td>\n",
              "      <td>9.6</td>\n",
              "      <td>221</td>\n",
              "    </tr>\n",
              "    <tr>\n",
              "      <th>2</th>\n",
              "      <td>1.5</td>\n",
              "      <td>4</td>\n",
              "      <td>5.9</td>\n",
              "      <td>136</td>\n",
              "    </tr>\n",
              "    <tr>\n",
              "      <th>3</th>\n",
              "      <td>3.5</td>\n",
              "      <td>6</td>\n",
              "      <td>11.1</td>\n",
              "      <td>255</td>\n",
              "    </tr>\n",
              "    <tr>\n",
              "      <th>4</th>\n",
              "      <td>3.5</td>\n",
              "      <td>6</td>\n",
              "      <td>10.6</td>\n",
              "      <td>244</td>\n",
              "    </tr>\n",
              "    <tr>\n",
              "      <th>5</th>\n",
              "      <td>3.5</td>\n",
              "      <td>6</td>\n",
              "      <td>10.0</td>\n",
              "      <td>230</td>\n",
              "    </tr>\n",
              "    <tr>\n",
              "      <th>6</th>\n",
              "      <td>3.5</td>\n",
              "      <td>6</td>\n",
              "      <td>10.1</td>\n",
              "      <td>232</td>\n",
              "    </tr>\n",
              "    <tr>\n",
              "      <th>7</th>\n",
              "      <td>3.7</td>\n",
              "      <td>6</td>\n",
              "      <td>11.1</td>\n",
              "      <td>255</td>\n",
              "    </tr>\n",
              "    <tr>\n",
              "      <th>8</th>\n",
              "      <td>3.7</td>\n",
              "      <td>6</td>\n",
              "      <td>11.6</td>\n",
              "      <td>267</td>\n",
              "    </tr>\n",
              "  </tbody>\n",
              "</table>\n",
              "</div>"
            ],
            "text/plain": [
              "   ENGINESIZE  CYLINDERS  FUELCONSUMPTION_COMB  CO2EMISSIONS\n",
              "0         2.0          4                   8.5           196\n",
              "1         2.4          4                   9.6           221\n",
              "2         1.5          4                   5.9           136\n",
              "3         3.5          6                  11.1           255\n",
              "4         3.5          6                  10.6           244\n",
              "5         3.5          6                  10.0           230\n",
              "6         3.5          6                  10.1           232\n",
              "7         3.7          6                  11.1           255\n",
              "8         3.7          6                  11.6           267"
            ]
          },
          "metadata": {},
          "execution_count": 6
        }
      ]
    },
    {
      "cell_type": "markdown",
      "metadata": {
        "id": "RQwmWx67JWaH"
      },
      "source": [
        "We can plot each of these features:\n"
      ]
    },
    {
      "cell_type": "code",
      "metadata": {
        "button": false,
        "new_sheet": false,
        "run_control": {
          "read_only": false
        },
        "colab": {
          "base_uri": "https://localhost:8080/",
          "height": 314
        },
        "id": "MBI2Z0pNJWaH",
        "outputId": "324621c0-6a26-4c97-ee7e-3de96b32af07"
      },
      "source": [
        "viz = cdf[['CYLINDERS','ENGINESIZE','CO2EMISSIONS','FUELCONSUMPTION_COMB']]\n",
        "\n",
        "# plt.figure(figsize=[9,9])\n",
        "viz.hist()\n",
        "plt.tight_layout()\n",
        "plt.show()"
      ],
      "execution_count": 11,
      "outputs": [
        {
          "output_type": "display_data",
          "data": {
            "text/plain": [
              "<Figure size 648x648 with 0 Axes>"
            ]
          },
          "metadata": {}
        },
        {
          "output_type": "display_data",
          "data": {
            "image/png": "[encoded data removed]",
            "text/plain": [
              "<Figure size 432x288 with 4 Axes>"
            ]
          },
          "metadata": {
            "needs_background": "light"
          }
        }
      ]
    },
    {
      "cell_type": "markdown",
      "metadata": {
        "id": "jK4cZCTvJWaI"
      },
      "source": [
        "Now, let's plot each of these features against the Emission, to see how linear their relationship is:\n"
      ]
    },
    {
      "cell_type": "code",
      "metadata": {
        "button": false,
        "new_sheet": false,
        "run_control": {
          "read_only": false
        },
        "colab": {
          "base_uri": "https://localhost:8080/",
          "height": 281
        },
        "id": "CUwx1jpQJWaI",
        "outputId": "4376ce6b-b6a4-40f1-db2a-891b16894354"
      },
      "source": [
        "plt.scatter(cdf.FUELCONSUMPTION_COMB, cdf.CO2EMISSIONS,  color='blue')\n",
        "plt.xlabel(\"FUELCONSUMPTION_COMB\")\n",
        "plt.ylabel(\"Emission\")\n",
        "plt.show()"
      ],
      "execution_count": 12,
      "outputs": [
        {
          "output_type": "display_data",
          "data": {
            "image/png": "[encoded data removed]",
            "text/plain": [
              "<Figure size 432x288 with 1 Axes>"
            ]
          },
          "metadata": {
            "needs_background": "light"
          }
        }
      ]
    },
    {
      "cell_type": "code",
      "metadata": {
        "button": false,
        "new_sheet": false,
        "run_control": {
          "read_only": false
        },
        "scrolled": true,
        "colab": {
          "base_uri": "https://localhost:8080/",
          "height": 280
        },
        "id": "16Sr2JTdJWaI",
        "outputId": "cd260157-0fc6-4382-b347-d78b2c768f7f"
      },
      "source": [
        "plt.scatter(cdf.ENGINESIZE, cdf.CO2EMISSIONS,  color='blue')\n",
        "plt.xlabel(\"Engine size\")\n",
        "plt.ylabel(\"Emission\")\n",
        "plt.show()"
      ],
      "execution_count": 13,
      "outputs": [
        {
          "output_type": "display_data",
          "data": {
            "image/png": "[encoded data removed]",
            "text/plain": [
              "<Figure size 432x288 with 1 Axes>"
            ]
          },
          "metadata": {
            "needs_background": "light"
          }
        }
      ]
    },
    {
      "cell_type": "markdown",
      "metadata": {
        "id": "wfgHpIyrJWaI"
      },
      "source": [
        "## Practice\n",
        "\n",
        "Plot **CYLINDER** vs the Emission, to see how linear is their relationship is:\n"
      ]
    },
    {
      "cell_type": "code",
      "metadata": {
        "button": false,
        "new_sheet": false,
        "run_control": {
          "read_only": false
        },
        "colab": {
          "base_uri": "https://localhost:8080/",
          "height": 280
        },
        "id": "BLIbjctsJWaI",
        "outputId": "743b4163-499c-49bf-fd10-6b1b141f1674"
      },
      "source": [
        "plt.scatter(cdf.CYLINDERS, cdf.CO2EMISSIONS, color='blue')\n",
        "plt.xlabel(\"Cylinders\")\n",
        "plt.ylabel(\"Emission\")\n",
        "plt.show()"
      ],
      "execution_count": 16,
      "outputs": [
        {
          "output_type": "display_data",
          "data": {
            "image/png": "[encoded data removed]",
            "text/plain": [
              "<Figure size 432x288 with 1 Axes>"
            ]
          },
          "metadata": {
            "needs_background": "light"
          }
        }
      ]
    },
    {
      "cell_type": "markdown",
      "metadata": {
        "id": "I9fs_nJyJWaJ"
      },
      "source": [
        "<details><summary>Click here for the solution</summary>\n",
        "\n",
        "```python\n",
        "plt.scatter(cdf.CYLINDERS, cdf.CO2EMISSIONS, color='blue')\n",
        "plt.xlabel(\"Cylinders\")\n",
        "plt.ylabel(\"Emission\")\n",
        "plt.show()\n",
        "\n",
        "```\n",
        "\n",
        "</details>\n"
      ]
    },
    {
      "cell_type": "markdown",
      "metadata": {
        "button": false,
        "new_sheet": false,
        "run_control": {
          "read_only": false
        },
        "id": "vt1Ji_7YJWaJ"
      },
      "source": [
        "#### Creating train and test dataset\n",
        "\n",
        "Train/Test Split involves splitting the dataset into training and testing sets that are mutually exclusive. After which, you train with the training set and test with the testing set.\n",
        "This will provide a more accurate evaluation on out-of-sample accuracy because the testing dataset is not part of the dataset that have been used to train the model. Therefore, it gives us a better understanding of how well our model generalizes on new data.\n",
        "\n",
        "This means that we know the outcome of each data point in the testing dataset, making it great to test with! Since this data has not been used to train the model, the model has no knowledge of the outcome of these data points. So, in essence, it is truly an out-of-sample testing.\n",
        "\n",
        "Let's split our dataset into train and test sets. 80% of the entire dataset will be used for training and 20% for testing. We create a mask to select random rows using **np.random.rand()** function:\n"
      ]
    },
    {
      "cell_type": "code",
      "metadata": {
        "id": "htmzMmhzLrQU"
      },
      "source": [
        "mask =np.random.rand(len(df))<0.8"
      ],
      "execution_count": 19,
      "outputs": []
    },
    {
      "cell_type": "code",
      "metadata": {
        "colab": {
          "base_uri": "https://localhost:8080/"
        },
        "id": "uxzLQLsQL4oK",
        "outputId": "02e50e4d-3bea-4683-c386-f5afe97fc4bc"
      },
      "source": [
        "df.shape"
      ],
      "execution_count": 21,
      "outputs": [
        {
          "output_type": "execute_result",
          "data": {
            "text/plain": [
              "(1067, 13)"
            ]
          },
          "metadata": {},
          "execution_count": 21
        }
      ]
    },
    {
      "cell_type": "code",
      "metadata": {
        "colab": {
          "base_uri": "https://localhost:8080/"
        },
        "id": "TIHbaX7NL0Nu",
        "outputId": "108274a9-a652-48bd-fb3d-144c4c25c889"
      },
      "source": [
        "cdf[mask].shape"
      ],
      "execution_count": 22,
      "outputs": [
        {
          "output_type": "execute_result",
          "data": {
            "text/plain": [
              "(862, 4)"
            ]
          },
          "metadata": {},
          "execution_count": 22
        }
      ]
    },
    {
      "cell_type": "code",
      "metadata": {
        "button": false,
        "new_sheet": false,
        "run_control": {
          "read_only": false
        },
        "id": "woKXDOzLJWaJ"
      },
      "source": [
        "msk = np.random.rand(len(df)) < 0.8\n",
        "train = cdf[msk]\n",
        "test = cdf[~msk]"
      ],
      "execution_count": 23,
      "outputs": []
    },
    {
      "cell_type": "markdown",
      "metadata": {
        "button": false,
        "new_sheet": false,
        "run_control": {
          "read_only": false
        },
        "id": "0M_u2G1ZJWaJ"
      },
      "source": [
        "### Simple Regression Model\n",
        "\n",
        "Linear Regression fits a linear model with coefficients B = (B1, ..., Bn) to minimize the 'residual sum of squares' between the actual value y in the dataset, and the predicted value yhat using linear approximation.\n"
      ]
    },
    {
      "cell_type": "markdown",
      "metadata": {
        "button": false,
        "new_sheet": false,
        "run_control": {
          "read_only": false
        },
        "id": "LRV57yS6JWaJ"
      },
      "source": [
        "#### Train data distribution\n"
      ]
    },
    {
      "cell_type": "code",
      "metadata": {
        "button": false,
        "new_sheet": false,
        "run_control": {
          "read_only": false
        },
        "colab": {
          "base_uri": "https://localhost:8080/",
          "height": 280
        },
        "id": "A42TPUnCJWaK",
        "outputId": "f6469417-1d0f-4e86-bc93-69e9ec9045b2"
      },
      "source": [
        "plt.scatter(train.ENGINESIZE, train.CO2EMISSIONS,  color='blue')\n",
        "plt.xlabel(\"Engine size\")\n",
        "plt.ylabel(\"Emission\")\n",
        "plt.show()"
      ],
      "execution_count": 24,
      "outputs": [
        {
          "output_type": "display_data",
          "data": {
            "image/png": "[encoded data removed]",
            "text/plain": [
              "<Figure size 432x288 with 1 Axes>"
            ]
          },
          "metadata": {
            "needs_background": "light"
          }
        }
      ]
    },
    {
      "cell_type": "markdown",
      "metadata": {
        "button": false,
        "new_sheet": false,
        "run_control": {
          "read_only": false
        },
        "id": "3kfL_8EHJWaK"
      },
      "source": [
        "#### Modeling\n",
        "\n",
        "Using sklearn package to model data.\n"
      ]
    },
    {
      "cell_type": "code",
      "metadata": {
        "button": false,
        "new_sheet": false,
        "run_control": {
          "read_only": false
        },
        "colab": {
          "base_uri": "https://localhost:8080/"
        },
        "id": "0613CRdKJWaK",
        "outputId": "8ee1415c-a2ca-43cd-943f-b1f313854dee"
      },
      "source": [
        "from sklearn import linear_model\n",
        "regr = linear_model.LinearRegression()\n",
        "train_x = np.asanyarray(train[['ENGINESIZE']])\n",
        "train_y = np.asanyarray(train[['CO2EMISSIONS']])\n",
        "regr.fit (train_x, train_y)\n",
        "# The coefficients\n",
        "print ('Coefficients: ', regr.coef_)\n",
        "print ('Intercept: ',regr.intercept_)"
      ],
      "execution_count": 25,
      "outputs": [
        {
          "output_type": "stream",
          "name": "stdout",
          "text": [
            "Coefficients:  [[39.34415887]]\n",
            "Intercept:  [124.57502748]\n"
          ]
        }
      ]
    },
    {
      "cell_type": "markdown",
      "metadata": {
        "id": "wtXVFiaJJWaK"
      },
      "source": [
        "As mentioned before, **Coefficient** and **Intercept** in the simple linear regression, are the parameters of the fit line.\n",
        "Given that it is a simple linear regression, with only 2 parameters, and knowing that the parameters are the intercept and slope of the line, sklearn can estimate them directly from our data.\n",
        "Notice that all of the data must be available to traverse and calculate the parameters.\n"
      ]
    },
    {
      "cell_type": "markdown",
      "metadata": {
        "button": false,
        "new_sheet": false,
        "run_control": {
          "read_only": false
        },
        "id": "1qCx9RNBJWaK"
      },
      "source": [
        "#### Plot outputs\n"
      ]
    },
    {
      "cell_type": "markdown",
      "metadata": {
        "id": "HkfXHz7PJWaL"
      },
      "source": [
        "We can plot the fit line over the data:\n"
      ]
    },
    {
      "cell_type": "code",
      "metadata": {
        "button": false,
        "new_sheet": false,
        "run_control": {
          "read_only": false
        },
        "colab": {
          "base_uri": "https://localhost:8080/",
          "height": 297
        },
        "id": "bdvSrKDNJWaL",
        "outputId": "10194ef1-1fa7-4892-f76f-b693d7933f1e"
      },
      "source": [
        "plt.scatter(train.ENGINESIZE, train.CO2EMISSIONS,  color='blue')\n",
        "plt.plot(train_x, regr.coef_[0][0]*train_x + regr.intercept_[0], '-r')\n",
        "plt.xlabel(\"Engine size\")\n",
        "plt.ylabel(\"Emission\")"
      ],
      "execution_count": 26,
      "outputs": [
        {
          "output_type": "execute_result",
          "data": {
            "text/plain": [
              "Text(0, 0.5, 'Emission')"
            ]
          },
          "metadata": {},
          "execution_count": 26
        },
        {
          "output_type": "display_data",
          "data": {
            "image/png": "[encoded data removed]",
            "text/plain": [
              "<Figure size 432x288 with 1 Axes>"
            ]
          },
          "metadata": {
            "needs_background": "light"
          }
        }
      ]
    },
    {
      "cell_type": "markdown",
      "metadata": {
        "button": false,
        "new_sheet": false,
        "run_control": {
          "read_only": false
        },
        "id": "rvxVDwABJWaL"
      },
      "source": [
        "#### Evaluation\n",
        "\n",
        "We compare the actual values and predicted values to calculate the accuracy of a regression model. Evaluation metrics provide a key role in the development of a model, as it provides insight to areas that require improvement.\n",
        "\n",
        "There are different model evaluation metrics, lets use MSE here to calculate the accuracy of our model based on the test set:\n",
        "\n",
        "*   Mean Absolute Error: It is the mean of the absolute value of the errors. This is the easiest of the metrics to understand since it’s just average error.\n",
        "\n",
        "*   Mean Squared Error (MSE): Mean Squared Error (MSE) is the mean of the squared error. It’s more popular than Mean Absolute Error because the focus is geared more towards large errors. This is due to the squared term exponentially increasing larger errors in comparison to smaller ones.\n",
        "\n",
        "*   Root Mean Squared Error (RMSE).\n",
        "\n",
        "*   R-squared is not an error, but rather a popular metric to measure the performance of your regression model. It represents how close the data points are to the fitted regression line. The higher the R-squared value, the better the model fits your data. The best possible score is 1.0 and it can be negative (because the model can be arbitrarily worse).\n"
      ]
    },
    {
      "cell_type": "code",
      "metadata": {
        "button": false,
        "new_sheet": false,
        "run_control": {
          "read_only": false
        },
        "scrolled": true,
        "colab": {
          "base_uri": "https://localhost:8080/"
        },
        "id": "TeJ5BVWTJWaL",
        "outputId": "654915e8-8c52-477b-8e38-c48c382f9f11"
      },
      "source": [
        "from sklearn.metrics import r2_score\n",
        "\n",
        "test_x = np.asanyarray(test[['ENGINESIZE']])\n",
        "test_y = np.asanyarray(test[['CO2EMISSIONS']])\n",
        "test_y_ = regr.predict(test_x)\n",
        "\n",
        "print(\"Mean absolute error: %.2f\" % np.mean(np.absolute(test_y_ - test_y)))\n",
        "print(\"Residual sum of squares (MSE): %.2f\" % np.mean((test_y_ - test_y) ** 2))\n",
        "print(\"R2-score: %.2f\" % r2_score(test_y , test_y_) )"
      ],
      "execution_count": 27,
      "outputs": [
        {
          "output_type": "stream",
          "name": "stdout",
          "text": [
            "Mean absolute error: 22.25\n",
            "Residual sum of squares (MSE): 857.29\n",
            "R2-score: 0.78\n"
          ]
        }
      ]
    },
    {
      "cell_type": "markdown",
      "metadata": {
        "id": "vJLwsncgJWaM"
      },
      "source": [
        "## Author\n",
        "\n",
        "<a href=\"https://www.linkedin.com/in/wolehat/\" target=\"_blank\">Oluwole Fagbohun</a>\n",
        "\n",
        "Founder Go2uni｜Co-Founder ZeaScore｜Mentor DeepLearningai｜Msc Candidate Data Science｜Tensorflow certified Developer｜Tableau Desktop Specialist\n"
      ]
    }
  ]
}
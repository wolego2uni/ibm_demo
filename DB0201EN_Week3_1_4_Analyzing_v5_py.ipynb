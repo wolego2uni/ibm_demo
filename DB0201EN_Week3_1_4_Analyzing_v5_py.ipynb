{
  "nbformat": 4,
  "nbformat_minor": 0,
  "metadata": {
    "kernelspec": {
      "display_name": "Python",
      "language": "python",
      "name": "conda-env-python-py"
    },
    "language_info": {
      "codemirror_mode": {
        "name": "ipython",
        "version": 3
      },
      "file_extension": ".py",
      "mimetype": "text/x-python",
      "name": "python",
      "nbconvert_exporter": "python",
      "pygments_lexer": "ipython3",
      "version": "3.6.13"
    },
    "colab": {
      "name": "DB0201EN-Week3-1-4-Analyzing-v5-py.ipynb",
      "provenance": [],
      "include_colab_link": true
    }
  },
  "cells": [
    {
      "cell_type": "markdown",
      "metadata": {
        "id": "view-in-github",
        "colab_type": "text"
      },
      "source": [
        "<a href=\"https://colab.research.google.com/github/wolego2uni/ibm_demo/blob/main/DB0201EN_Week3_1_4_Analyzing_v5_py.ipynb\" target=\"_parent\"><img src=\"https://colab.research.google.com/assets/colab-badge.svg\" alt=\"Open In Colab\"/></a>"
      ]
    },
    {
      "cell_type": "markdown",
      "metadata": {
        "id": "SfjMG9VONc4d"
      },
      "source": [
        "<center>\n",
        "    <img src=\"https://cf-courses-data.s3.us.cloud-object-storage.appdomain.cloud/IBMDeveloperSkillsNetwork-DB0201EN-SkillsNetwork/labs/Module%205/images/IDSNlogo.png\" width=\"300\" alt=\"cognitiveclass.ai logo\"  />\n",
        "</center>\n",
        "\n",
        "# Analyzing a real world data-set with SQL and Python\n",
        "\n",
        "Estimated time needed: **15** minutes\n",
        "\n",
        "## Objectives\n",
        "\n",
        "After completing this lab you will be able to:\n",
        "\n",
        "*   Understand a dataset of selected socioeconomic indicators in Chicago\n",
        "*   Learn how to store data in an Db2 database on IBM Cloud instance\n",
        "*   Solve example problems to practice your SQL skills\n"
      ]
    },
    {
      "cell_type": "markdown",
      "metadata": {
        "id": "hwbeqIjZNc4f"
      },
      "source": [
        "## Selected Socioeconomic Indicators in Chicago\n",
        "\n",
        "The city of Chicago released a dataset of socioeconomic data to the Chicago City Portal.\n",
        "This dataset contains a selection of six socioeconomic indicators of public health significance and a “hardship index,” for each Chicago community area, for the years 2008 – 2012.\n",
        "\n",
        "Scores on the hardship index can range from 1 to 100, with a higher index number representing a greater level of hardship.\n",
        "\n",
        "A detailed description of the dataset can be found on [the city of Chicago's website](https://data.cityofchicago.org/Health-Human-Services/Census-Data-Selected-socioeconomic-indicators-in-C/kn9c-c2s2?utm_medium=Exinfluencer\\&utm_source=Exinfluencer\\&utm_content=000026UJ\\&utm_term=10006555\\&utm_id=NA-SkillsNetwork-Channel-SkillsNetworkCoursesIBMDeveloperSkillsNetworkDB0201ENSkillsNetwork20127838-2021-01-01), but to summarize, the dataset has the following variables:\n",
        "\n",
        "*   **Community Area Number** (`ca`): Used to uniquely identify each row of the dataset\n",
        "\n",
        "*   **Community Area Name** (`community_area_name`): The name of the region in the city of Chicago\n",
        "\n",
        "*   **Percent of Housing Crowded** (`percent_of_housing_crowded`): Percent of occupied housing units with more than one person per room\n",
        "\n",
        "*   **Percent Households Below Poverty** (`percent_households_below_poverty`): Percent of households living below the federal poverty line\n",
        "\n",
        "*   **Percent Aged 16+ Unemployed** (`percent_aged_16_unemployed`): Percent of persons over the age of 16 years that are unemployed\n",
        "\n",
        "*   **Percent Aged 25+ without High School Diploma** (`percent_aged_25_without_high_school_diploma`): Percent of persons over the age of 25 years without a high school education\n",
        "\n",
        "*   **Percent Aged Under** 18 or Over 64:Percent of population under 18 or over 64 years of age (`percent_aged_under_18_or_over_64`): (ie. dependents)\n",
        "\n",
        "*   **Per Capita Income** (`per_capita_income_`): Community Area per capita income is estimated as the sum of tract-level aggragate incomes divided by the total population\n",
        "\n",
        "*   **Hardship Index** (`hardship_index`): Score that incorporates each of the six selected socioeconomic indicators\n",
        "\n",
        "In this Lab, we'll take a look at the variables in the socioeconomic indicators dataset and do some basic analysis with Python.\n"
      ]
    },
    {
      "cell_type": "markdown",
      "metadata": {
        "id": "HPG4fngCNc4g"
      },
      "source": [
        "### Connect to the database\n",
        "\n",
        "Let us first load the SQL extension and establish a connection with the database\n"
      ]
    },
    {
      "cell_type": "code",
      "metadata": {
        "id": "3L-hGbibNc4h",
        "outputId": "d858a66c-f9cf-4f18-b06e-dafc9456146e"
      },
      "source": [
        "!pip install sqlalchemy==1.3.9\n",
        "!pip install ibm_db_sa"
      ],
      "execution_count": null,
      "outputs": [
        {
          "output_type": "stream",
          "text": [
            "Requirement already satisfied: sqlalchemy==1.3.9 in /home/jupyterlab/conda/envs/python/lib/python3.6/site-packages (1.3.9)\n",
            "Requirement already satisfied: ibm_db_sa in /home/jupyterlab/conda/envs/python/lib/python3.6/site-packages (0.3.3)\n",
            "Requirement already satisfied: sqlalchemy>=0.7.3 in /home/jupyterlab/conda/envs/python/lib/python3.6/site-packages (from ibm_db_sa) (1.3.9)\n"
          ],
          "name": "stdout"
        }
      ]
    },
    {
      "cell_type": "code",
      "metadata": {
        "id": "4qkcxInLNc4h"
      },
      "source": [
        "%load_ext sql"
      ],
      "execution_count": null,
      "outputs": []
    },
    {
      "cell_type": "code",
      "metadata": {
        "id": "WgxKJIUzNc4i",
        "outputId": "9ff5e7c0-3659-4506-c090-f8ec08713e17"
      },
      "source": [
        "# Remember the connection string is of the format:\n",
        "# %sql ibm_db_sa://my-username:my-password@hostname:port/BLUDB?security=SSL\n",
        "# Enter the connection string for your Db2 on Cloud database instance below\n",
        "# i.e. copy after db2:// from the URI string in Service Credentials of your Db2 instance. Remove the double quotes at the end.\n",
        "%sql ibm_db_sa://nwp26832:p9agypBYRIRHlYDJ@0c77d6f2-5da9-48a9-81f8-86b520b87518.bs2io90l08kqb1od8lcg.databases.appdomain.cloud:31198/BLUDB?security=SSL    "
      ],
      "execution_count": null,
      "outputs": [
        {
          "output_type": "execute_result",
          "data": {
            "text/plain": [
              "'Connected: nwp26832@BLUDB'"
            ]
          },
          "metadata": {
            "tags": []
          },
          "execution_count": 3
        }
      ]
    },
    {
      "cell_type": "markdown",
      "metadata": {
        "id": "TSJj2nq9Nc4i"
      },
      "source": [
        "### Store the dataset in a Table\n",
        "\n",
        "##### In many cases the dataset to be analyzed is available as a .CSV (comma separated values) file, perhaps on the internet. To analyze the data using SQL, it first needs to be stored in the database.\n",
        "\n",
        "##### We will first read the dataset source .CSV from the internet into pandas dataframe\n",
        "\n",
        "##### Then we need to create a table in our Db2 database to store the dataset. The PERSIST command in SQL \"magic\" simplifies the process of table creation and writing the data from a `pandas` dataframe into the table\n"
      ]
    },
    {
      "cell_type": "code",
      "metadata": {
        "id": "LhZwwlpxNc4i",
        "outputId": "d33e7485-aff0-4d73-ab4d-498921dee0b0"
      },
      "source": [
        "import pandas\n",
        "chicago_socioeconomic_data = pandas.read_csv('https://data.cityofchicago.org/resource/jcxq-k9xf.csv')\n",
        "%sql PERSIST chicago_socioeconomic_data"
      ],
      "execution_count": null,
      "outputs": [
        {
          "output_type": "stream",
          "text": [
            " * ibm_db_sa://nwp26832:***@0c77d6f2-5da9-48a9-81f8-86b520b87518.bs2io90l08kqb1od8lcg.databases.appdomain.cloud:31198/BLUDB\n"
          ],
          "name": "stdout"
        },
        {
          "output_type": "execute_result",
          "data": {
            "text/plain": [
              "'Persisted chicago_socioeconomic_data'"
            ]
          },
          "metadata": {
            "tags": []
          },
          "execution_count": 4
        }
      ]
    },
    {
      "cell_type": "markdown",
      "metadata": {
        "id": "UM1hQdOgNc4j"
      },
      "source": [
        "##### You can verify that the table creation was successful by making a basic query like:\n"
      ]
    },
    {
      "cell_type": "code",
      "metadata": {
        "id": "vn_IszDNNc4j",
        "outputId": "bdbb32cd-a507-4b02-a622-32044d51f5d3"
      },
      "source": [
        "%sql SELECT * FROM chicago_socioeconomic_data limit 10;"
      ],
      "execution_count": null,
      "outputs": [
        {
          "output_type": "stream",
          "text": [
            " * ibm_db_sa://nwp26832:***@0c77d6f2-5da9-48a9-81f8-86b520b87518.bs2io90l08kqb1od8lcg.databases.appdomain.cloud:31198/BLUDB\n",
            "Done.\n"
          ],
          "name": "stdout"
        },
        {
          "output_type": "execute_result",
          "data": {
            "text/html": [
              "<table>\n",
              "    <thead>\n",
              "        <tr>\n",
              "            <th>index</th>\n",
              "            <th>ca</th>\n",
              "            <th>community_area_name</th>\n",
              "            <th>percent_of_housing_crowded</th>\n",
              "            <th>percent_households_below_poverty</th>\n",
              "            <th>percent_aged_16_unemployed</th>\n",
              "            <th>percent_aged_25_without_high_school_diploma</th>\n",
              "            <th>percent_aged_under_18_or_over_64</th>\n",
              "            <th>per_capita_income_</th>\n",
              "            <th>hardship_index</th>\n",
              "        </tr>\n",
              "    </thead>\n",
              "    <tbody>\n",
              "        <tr>\n",
              "            <td>0</td>\n",
              "            <td>1.0</td>\n",
              "            <td>Rogers Park</td>\n",
              "            <td>7.7</td>\n",
              "            <td>23.6</td>\n",
              "            <td>8.7</td>\n",
              "            <td>18.2</td>\n",
              "            <td>27.5</td>\n",
              "            <td>23939</td>\n",
              "            <td>39.0</td>\n",
              "        </tr>\n",
              "        <tr>\n",
              "            <td>1</td>\n",
              "            <td>2.0</td>\n",
              "            <td>West Ridge</td>\n",
              "            <td>7.8</td>\n",
              "            <td>17.2</td>\n",
              "            <td>8.8</td>\n",
              "            <td>20.8</td>\n",
              "            <td>38.5</td>\n",
              "            <td>23040</td>\n",
              "            <td>46.0</td>\n",
              "        </tr>\n",
              "        <tr>\n",
              "            <td>2</td>\n",
              "            <td>3.0</td>\n",
              "            <td>Uptown</td>\n",
              "            <td>3.8</td>\n",
              "            <td>24.0</td>\n",
              "            <td>8.9</td>\n",
              "            <td>11.8</td>\n",
              "            <td>22.2</td>\n",
              "            <td>35787</td>\n",
              "            <td>20.0</td>\n",
              "        </tr>\n",
              "        <tr>\n",
              "            <td>3</td>\n",
              "            <td>4.0</td>\n",
              "            <td>Lincoln Square</td>\n",
              "            <td>3.4</td>\n",
              "            <td>10.9</td>\n",
              "            <td>8.2</td>\n",
              "            <td>13.4</td>\n",
              "            <td>25.5</td>\n",
              "            <td>37524</td>\n",
              "            <td>17.0</td>\n",
              "        </tr>\n",
              "        <tr>\n",
              "            <td>4</td>\n",
              "            <td>5.0</td>\n",
              "            <td>North Center</td>\n",
              "            <td>0.3</td>\n",
              "            <td>7.5</td>\n",
              "            <td>5.2</td>\n",
              "            <td>4.5</td>\n",
              "            <td>26.2</td>\n",
              "            <td>57123</td>\n",
              "            <td>6.0</td>\n",
              "        </tr>\n",
              "        <tr>\n",
              "            <td>5</td>\n",
              "            <td>6.0</td>\n",
              "            <td>Lake View</td>\n",
              "            <td>1.1</td>\n",
              "            <td>11.4</td>\n",
              "            <td>4.7</td>\n",
              "            <td>2.6</td>\n",
              "            <td>17.0</td>\n",
              "            <td>60058</td>\n",
              "            <td>5.0</td>\n",
              "        </tr>\n",
              "        <tr>\n",
              "            <td>6</td>\n",
              "            <td>7.0</td>\n",
              "            <td>Lincoln Park</td>\n",
              "            <td>0.8</td>\n",
              "            <td>12.3</td>\n",
              "            <td>5.1</td>\n",
              "            <td>3.6</td>\n",
              "            <td>21.5</td>\n",
              "            <td>71551</td>\n",
              "            <td>2.0</td>\n",
              "        </tr>\n",
              "        <tr>\n",
              "            <td>7</td>\n",
              "            <td>8.0</td>\n",
              "            <td>Near North Side</td>\n",
              "            <td>1.9</td>\n",
              "            <td>12.9</td>\n",
              "            <td>7.0</td>\n",
              "            <td>2.5</td>\n",
              "            <td>22.6</td>\n",
              "            <td>88669</td>\n",
              "            <td>1.0</td>\n",
              "        </tr>\n",
              "        <tr>\n",
              "            <td>8</td>\n",
              "            <td>9.0</td>\n",
              "            <td>Edison Park</td>\n",
              "            <td>1.1</td>\n",
              "            <td>3.3</td>\n",
              "            <td>6.5</td>\n",
              "            <td>7.4</td>\n",
              "            <td>35.3</td>\n",
              "            <td>40959</td>\n",
              "            <td>8.0</td>\n",
              "        </tr>\n",
              "        <tr>\n",
              "            <td>9</td>\n",
              "            <td>10.0</td>\n",
              "            <td>Norwood Park</td>\n",
              "            <td>2.0</td>\n",
              "            <td>5.4</td>\n",
              "            <td>9.0</td>\n",
              "            <td>11.5</td>\n",
              "            <td>39.5</td>\n",
              "            <td>32875</td>\n",
              "            <td>21.0</td>\n",
              "        </tr>\n",
              "    </tbody>\n",
              "</table>"
            ],
            "text/plain": [
              "[(0, 1.0, 'Rogers Park', 7.7, 23.6, 8.7, 18.2, 27.5, 23939, 39.0),\n",
              " (1, 2.0, 'West Ridge', 7.8, 17.2, 8.8, 20.8, 38.5, 23040, 46.0),\n",
              " (2, 3.0, 'Uptown', 3.8, 24.0, 8.9, 11.8, 22.2, 35787, 20.0),\n",
              " (3, 4.0, 'Lincoln Square', 3.4, 10.9, 8.2, 13.4, 25.5, 37524, 17.0),\n",
              " (4, 5.0, 'North Center', 0.3, 7.5, 5.2, 4.5, 26.2, 57123, 6.0),\n",
              " (5, 6.0, 'Lake View', 1.1, 11.4, 4.7, 2.6, 17.0, 60058, 5.0),\n",
              " (6, 7.0, 'Lincoln Park', 0.8, 12.3, 5.1, 3.6, 21.5, 71551, 2.0),\n",
              " (7, 8.0, 'Near North Side', 1.9, 12.9, 7.0, 2.5, 22.6, 88669, 1.0),\n",
              " (8, 9.0, 'Edison Park', 1.1, 3.3, 6.5, 7.4, 35.3, 40959, 8.0),\n",
              " (9, 10.0, 'Norwood Park', 2.0, 5.4, 9.0, 11.5, 39.5, 32875, 21.0)]"
            ]
          },
          "metadata": {
            "tags": []
          },
          "execution_count": 26
        }
      ]
    },
    {
      "cell_type": "markdown",
      "metadata": {
        "id": "tjmSz5iTNc4j"
      },
      "source": [
        "## Problems\n",
        "\n",
        "### Problem 1\n",
        "\n",
        "##### How many rows are in the dataset?\n"
      ]
    },
    {
      "cell_type": "code",
      "metadata": {
        "id": "2BQM6YAtNc4k",
        "outputId": "2d6c334e-3fd1-459d-eeee-b84fa96d1de5"
      },
      "source": [
        "%sql SELECT count(*) FROM chicago_socioeconomic_data; "
      ],
      "execution_count": null,
      "outputs": [
        {
          "output_type": "stream",
          "text": [
            " * ibm_db_sa://nwp26832:***@0c77d6f2-5da9-48a9-81f8-86b520b87518.bs2io90l08kqb1od8lcg.databases.appdomain.cloud:31198/BLUDB\n",
            "Done.\n"
          ],
          "name": "stdout"
        },
        {
          "output_type": "execute_result",
          "data": {
            "text/html": [
              "<table>\n",
              "    <thead>\n",
              "        <tr>\n",
              "            <th>1</th>\n",
              "        </tr>\n",
              "    </thead>\n",
              "    <tbody>\n",
              "        <tr>\n",
              "            <td>78</td>\n",
              "        </tr>\n",
              "    </tbody>\n",
              "</table>"
            ],
            "text/plain": [
              "[(78,)]"
            ]
          },
          "metadata": {
            "tags": []
          },
          "execution_count": 6
        }
      ]
    },
    {
      "cell_type": "markdown",
      "metadata": {
        "id": "JQ8BeIoZNc4k"
      },
      "source": [
        "<details><summary>Click here for the solution</summary>\n",
        "\n",
        "```python\n",
        "%sql SELECT COUNT(*) FROM chicago_socioeconomic_data;\n",
        "\n",
        "Correct answer: 78\n",
        "```\n",
        "\n",
        "</details>\n"
      ]
    },
    {
      "cell_type": "markdown",
      "metadata": {
        "id": "J5RQAtrsNc4k"
      },
      "source": [
        "### Problem 2\n",
        "\n",
        "##### How many community areas in Chicago have a hardship index greater than 50.0?\n"
      ]
    },
    {
      "cell_type": "code",
      "metadata": {
        "tags": [],
        "id": "NBCoutWlNc4k",
        "outputId": "8445027c-c6dd-437b-df88-306d85c82441"
      },
      "source": [
        "%sql SELECT count(community_area_name) as community FROM chicago_socioeconomic_data where hardship_index > 50.0"
      ],
      "execution_count": null,
      "outputs": [
        {
          "output_type": "stream",
          "text": [
            " * ibm_db_sa://nwp26832:***@0c77d6f2-5da9-48a9-81f8-86b520b87518.bs2io90l08kqb1od8lcg.databases.appdomain.cloud:31198/BLUDB\n",
            "Done.\n"
          ],
          "name": "stdout"
        },
        {
          "output_type": "execute_result",
          "data": {
            "text/html": [
              "<table>\n",
              "    <thead>\n",
              "        <tr>\n",
              "            <th>community</th>\n",
              "        </tr>\n",
              "    </thead>\n",
              "    <tbody>\n",
              "        <tr>\n",
              "            <td>38</td>\n",
              "        </tr>\n",
              "    </tbody>\n",
              "</table>"
            ],
            "text/plain": [
              "[(38,)]"
            ]
          },
          "metadata": {
            "tags": []
          },
          "execution_count": 12
        }
      ]
    },
    {
      "cell_type": "markdown",
      "metadata": {
        "id": "ii-8IDZuNc4l"
      },
      "source": [
        "<details><summary>Click here for the solution</summary>\n",
        "\n",
        "```python\n",
        "%sql SELECT COUNT(*) FROM chicago_socioeconomic_data WHERE hardship_index > 50.0;\n",
        "\n",
        "Correct answer: 38\n",
        "```\n",
        "\n",
        "</details>\n"
      ]
    },
    {
      "cell_type": "markdown",
      "metadata": {
        "id": "a9KDWO3MNc4l"
      },
      "source": [
        "### Problem 3\n",
        "\n",
        "##### What is the maximum value of hardship index in this dataset?\n"
      ]
    },
    {
      "cell_type": "code",
      "metadata": {
        "tags": [],
        "id": "k86ZINfFNc4l",
        "outputId": "13dac7ef-b943-4ca1-ca4d-1cab22e95113"
      },
      "source": [
        "%sql SELECT max(hardship_index) as max_hardship_index FROM chicago_socioeconomic_data;"
      ],
      "execution_count": null,
      "outputs": [
        {
          "output_type": "stream",
          "text": [
            " * ibm_db_sa://nwp26832:***@0c77d6f2-5da9-48a9-81f8-86b520b87518.bs2io90l08kqb1od8lcg.databases.appdomain.cloud:31198/BLUDB\n",
            "Done.\n"
          ],
          "name": "stdout"
        },
        {
          "output_type": "execute_result",
          "data": {
            "text/html": [
              "<table>\n",
              "    <thead>\n",
              "        <tr>\n",
              "            <th>max_hardship_index</th>\n",
              "        </tr>\n",
              "    </thead>\n",
              "    <tbody>\n",
              "        <tr>\n",
              "            <td>98.0</td>\n",
              "        </tr>\n",
              "    </tbody>\n",
              "</table>"
            ],
            "text/plain": [
              "[(98.0,)]"
            ]
          },
          "metadata": {
            "tags": []
          },
          "execution_count": 14
        }
      ]
    },
    {
      "cell_type": "markdown",
      "metadata": {
        "id": "CK5cV9nNNc4l"
      },
      "source": [
        "<details><summary>Click here for the solution</summary>\n",
        "\n",
        "```python\n",
        "%sql SELECT MAX(hardship_index) FROM chicago_socioeconomic_data;\n",
        "\n",
        "Correct answer: 98.0\n",
        "```\n",
        "\n",
        "</details>\n"
      ]
    },
    {
      "cell_type": "markdown",
      "metadata": {
        "id": "1BGRSWBENc4l"
      },
      "source": [
        "### Problem 4\n",
        "\n",
        "##### Which community area which has the highest hardship index?\n"
      ]
    },
    {
      "cell_type": "code",
      "metadata": {
        "tags": [],
        "id": "3LyFwBWvNc4l",
        "outputId": "b0967d16-7769-43fa-b7cd-3ea411e13f01"
      },
      "source": [
        "%sql SELECT community_area_name, hardship_index FROM chicago_socioeconomic_data where hardship_index is not null order by hardship_index desc \n"
      ],
      "execution_count": null,
      "outputs": [
        {
          "output_type": "stream",
          "text": [
            " * ibm_db_sa://nwp26832:***@0c77d6f2-5da9-48a9-81f8-86b520b87518.bs2io90l08kqb1od8lcg.databases.appdomain.cloud:31198/BLUDB\n",
            "Done.\n"
          ],
          "name": "stdout"
        },
        {
          "output_type": "execute_result",
          "data": {
            "text/html": [
              "<table>\n",
              "    <thead>\n",
              "        <tr>\n",
              "            <th>community_area_name</th>\n",
              "            <th>hardship_index</th>\n",
              "        </tr>\n",
              "    </thead>\n",
              "    <tbody>\n",
              "        <tr>\n",
              "            <td>Riverdale</td>\n",
              "            <td>98.0</td>\n",
              "        </tr>\n",
              "        <tr>\n",
              "            <td>Fuller Park</td>\n",
              "            <td>97.0</td>\n",
              "        </tr>\n",
              "        <tr>\n",
              "            <td>South Lawndale</td>\n",
              "            <td>96.0</td>\n",
              "        </tr>\n",
              "        <tr>\n",
              "            <td>Englewood</td>\n",
              "            <td>94.0</td>\n",
              "        </tr>\n",
              "        <tr>\n",
              "            <td>Gage Park</td>\n",
              "            <td>93.0</td>\n",
              "        </tr>\n",
              "        <tr>\n",
              "            <td>West Garfield Park</td>\n",
              "            <td>92.0</td>\n",
              "        </tr>\n",
              "        <tr>\n",
              "            <td>New City</td>\n",
              "            <td>91.0</td>\n",
              "        </tr>\n",
              "        <tr>\n",
              "            <td>West Englewood</td>\n",
              "            <td>89.0</td>\n",
              "        </tr>\n",
              "        <tr>\n",
              "            <td>Washington Park</td>\n",
              "            <td>88.0</td>\n",
              "        </tr>\n",
              "        <tr>\n",
              "            <td>North Lawndale</td>\n",
              "            <td>87.0</td>\n",
              "        </tr>\n",
              "        <tr>\n",
              "            <td>Humboldt park</td>\n",
              "            <td>85.0</td>\n",
              "        </tr>\n",
              "        <tr>\n",
              "            <td>Brighton Park</td>\n",
              "            <td>84.0</td>\n",
              "        </tr>\n",
              "        <tr>\n",
              "            <td>East Garfield Park</td>\n",
              "            <td>83.0</td>\n",
              "        </tr>\n",
              "        <tr>\n",
              "            <td>Armour Square</td>\n",
              "            <td>82.0</td>\n",
              "        </tr>\n",
              "        <tr>\n",
              "            <td>Chicago Lawn</td>\n",
              "            <td>80.0</td>\n",
              "        </tr>\n",
              "        <tr>\n",
              "            <td>Burnside</td>\n",
              "            <td>79.0</td>\n",
              "        </tr>\n",
              "        <tr>\n",
              "            <td>Oakland</td>\n",
              "            <td>78.0</td>\n",
              "        </tr>\n",
              "        <tr>\n",
              "            <td>Lower West Side</td>\n",
              "            <td>76.0</td>\n",
              "        </tr>\n",
              "        <tr>\n",
              "            <td>South Chicago</td>\n",
              "            <td>75.0</td>\n",
              "        </tr>\n",
              "        <tr>\n",
              "            <td>Auburn Gresham</td>\n",
              "            <td>74.0</td>\n",
              "        </tr>\n",
              "        <tr>\n",
              "            <td>Austin</td>\n",
              "            <td>73.0</td>\n",
              "        </tr>\n",
              "        <tr>\n",
              "            <td>Hermosa</td>\n",
              "            <td>71.0</td>\n",
              "        </tr>\n",
              "        <tr>\n",
              "            <td>Belmont Cragin</td>\n",
              "            <td>70.0</td>\n",
              "        </tr>\n",
              "        <tr>\n",
              "            <td>West Elsdon</td>\n",
              "            <td>69.0</td>\n",
              "        </tr>\n",
              "        <tr>\n",
              "            <td>Archer Heights</td>\n",
              "            <td>67.0</td>\n",
              "        </tr>\n",
              "        <tr>\n",
              "            <td>Greater Grand Crossing</td>\n",
              "            <td>66.0</td>\n",
              "        </tr>\n",
              "        <tr>\n",
              "            <td>South Deering</td>\n",
              "            <td>65.0</td>\n",
              "        </tr>\n",
              "        <tr>\n",
              "            <td>East Side</td>\n",
              "            <td>64.0</td>\n",
              "        </tr>\n",
              "        <tr>\n",
              "            <td>West Pullman</td>\n",
              "            <td>62.0</td>\n",
              "        </tr>\n",
              "        <tr>\n",
              "            <td>McKinley Park</td>\n",
              "            <td>61.0</td>\n",
              "        </tr>\n",
              "        <tr>\n",
              "            <td>Chatham</td>\n",
              "            <td>60.0</td>\n",
              "        </tr>\n",
              "        <tr>\n",
              "            <td>Woodlawn</td>\n",
              "            <td>58.0</td>\n",
              "        </tr>\n",
              "        <tr>\n",
              "            <td>Grand Boulevard</td>\n",
              "            <td>57.0</td>\n",
              "        </tr>\n",
              "        <tr>\n",
              "            <td>West Lawn</td>\n",
              "            <td>56.0</td>\n",
              "        </tr>\n",
              "        <tr>\n",
              "            <td>South Shore</td>\n",
              "            <td>55.0</td>\n",
              "        </tr>\n",
              "        <tr>\n",
              "            <td>Albany Park</td>\n",
              "            <td>53.0</td>\n",
              "        </tr>\n",
              "        <tr>\n",
              "            <td>Roseland</td>\n",
              "            <td>52.0</td>\n",
              "        </tr>\n",
              "        <tr>\n",
              "            <td>Pullman</td>\n",
              "            <td>51.0</td>\n",
              "        </tr>\n",
              "        <tr>\n",
              "            <td>Montclaire</td>\n",
              "            <td>50.0</td>\n",
              "        </tr>\n",
              "        <tr>\n",
              "            <td>Washington Height</td>\n",
              "            <td>48.0</td>\n",
              "        </tr>\n",
              "        <tr>\n",
              "            <td>Douglas</td>\n",
              "            <td>47.0</td>\n",
              "        </tr>\n",
              "        <tr>\n",
              "            <td>West Ridge</td>\n",
              "            <td>46.0</td>\n",
              "        </tr>\n",
              "        <tr>\n",
              "            <td>Hegewisch</td>\n",
              "            <td>44.0</td>\n",
              "        </tr>\n",
              "        <tr>\n",
              "            <td>Bridgeport</td>\n",
              "            <td>43.0</td>\n",
              "        </tr>\n",
              "        <tr>\n",
              "            <td>Avondale</td>\n",
              "            <td>42.0</td>\n",
              "        </tr>\n",
              "        <tr>\n",
              "            <td>Avalon Park</td>\n",
              "            <td>41.0</td>\n",
              "        </tr>\n",
              "        <tr>\n",
              "            <td>Rogers Park</td>\n",
              "            <td>39.0</td>\n",
              "        </tr>\n",
              "        <tr>\n",
              "            <td>Calumet Heights</td>\n",
              "            <td>38.0</td>\n",
              "        </tr>\n",
              "        <tr>\n",
              "            <td>Ashburn</td>\n",
              "            <td>37.0</td>\n",
              "        </tr>\n",
              "        <tr>\n",
              "            <td>Portage Park</td>\n",
              "            <td>35.0</td>\n",
              "        </tr>\n",
              "        <tr>\n",
              "            <td>Irving Park</td>\n",
              "            <td>34.0</td>\n",
              "        </tr>\n",
              "        <tr>\n",
              "            <td>North Park</td>\n",
              "            <td>33.0</td>\n",
              "        </tr>\n",
              "        <tr>\n",
              "            <td>Garfield Ridge</td>\n",
              "            <td>32.0</td>\n",
              "        </tr>\n",
              "        <tr>\n",
              "            <td>Morgan Park</td>\n",
              "            <td>30.0</td>\n",
              "        </tr>\n",
              "        <tr>\n",
              "            <td>Clearing</td>\n",
              "            <td>29.0</td>\n",
              "        </tr>\n",
              "        <tr>\n",
              "            <td>Dunning</td>\n",
              "            <td>28.0</td>\n",
              "        </tr>\n",
              "        <tr>\n",
              "            <td>Kenwood</td>\n",
              "            <td>26.0</td>\n",
              "        </tr>\n",
              "        <tr>\n",
              "            <td>Jefferson Park</td>\n",
              "            <td>25.0</td>\n",
              "        </tr>\n",
              "        <tr>\n",
              "            <td>O&#x27;Hare</td>\n",
              "            <td>24.0</td>\n",
              "        </tr>\n",
              "        <tr>\n",
              "            <td>Logan Square</td>\n",
              "            <td>23.0</td>\n",
              "        </tr>\n",
              "        <tr>\n",
              "            <td>Norwood Park</td>\n",
              "            <td>21.0</td>\n",
              "        </tr>\n",
              "        <tr>\n",
              "            <td>Uptown</td>\n",
              "            <td>20.0</td>\n",
              "        </tr>\n",
              "        <tr>\n",
              "            <td>Edgewater</td>\n",
              "            <td>19.0</td>\n",
              "        </tr>\n",
              "        <tr>\n",
              "            <td>Lincoln Square</td>\n",
              "            <td>17.0</td>\n",
              "        </tr>\n",
              "        <tr>\n",
              "            <td>Mount Greenwood</td>\n",
              "            <td>16.0</td>\n",
              "        </tr>\n",
              "        <tr>\n",
              "            <td>Near West Side</td>\n",
              "            <td>15.0</td>\n",
              "        </tr>\n",
              "        <tr>\n",
              "            <td>Hyde Park</td>\n",
              "            <td>14.0</td>\n",
              "        </tr>\n",
              "        <tr>\n",
              "            <td>Beverly</td>\n",
              "            <td>12.0</td>\n",
              "        </tr>\n",
              "        <tr>\n",
              "            <td>Forest Glen</td>\n",
              "            <td>11.0</td>\n",
              "        </tr>\n",
              "        <tr>\n",
              "            <td>West Town</td>\n",
              "            <td>10.0</td>\n",
              "        </tr>\n",
              "        <tr>\n",
              "            <td>Edison Park</td>\n",
              "            <td>8.0</td>\n",
              "        </tr>\n",
              "        <tr>\n",
              "            <td>Near South Side</td>\n",
              "            <td>7.0</td>\n",
              "        </tr>\n",
              "        <tr>\n",
              "            <td>North Center</td>\n",
              "            <td>6.0</td>\n",
              "        </tr>\n",
              "        <tr>\n",
              "            <td>Lake View</td>\n",
              "            <td>5.0</td>\n",
              "        </tr>\n",
              "        <tr>\n",
              "            <td>Loop</td>\n",
              "            <td>3.0</td>\n",
              "        </tr>\n",
              "        <tr>\n",
              "            <td>Lincoln Park</td>\n",
              "            <td>2.0</td>\n",
              "        </tr>\n",
              "        <tr>\n",
              "            <td>Near North Side</td>\n",
              "            <td>1.0</td>\n",
              "        </tr>\n",
              "    </tbody>\n",
              "</table>"
            ],
            "text/plain": [
              "[('Riverdale', 98.0),\n",
              " ('Fuller Park', 97.0),\n",
              " ('South Lawndale', 96.0),\n",
              " ('Englewood', 94.0),\n",
              " ('Gage Park', 93.0),\n",
              " ('West Garfield Park', 92.0),\n",
              " ('New City', 91.0),\n",
              " ('West Englewood', 89.0),\n",
              " ('Washington Park', 88.0),\n",
              " ('North Lawndale', 87.0),\n",
              " ('Humboldt park', 85.0),\n",
              " ('Brighton Park', 84.0),\n",
              " ('East Garfield Park', 83.0),\n",
              " ('Armour Square', 82.0),\n",
              " ('Chicago Lawn', 80.0),\n",
              " ('Burnside', 79.0),\n",
              " ('Oakland', 78.0),\n",
              " ('Lower West Side', 76.0),\n",
              " ('South Chicago', 75.0),\n",
              " ('Auburn Gresham', 74.0),\n",
              " ('Austin', 73.0),\n",
              " ('Hermosa', 71.0),\n",
              " ('Belmont Cragin', 70.0),\n",
              " ('West Elsdon', 69.0),\n",
              " ('Archer Heights', 67.0),\n",
              " ('Greater Grand Crossing', 66.0),\n",
              " ('South Deering', 65.0),\n",
              " ('East Side', 64.0),\n",
              " ('West Pullman', 62.0),\n",
              " ('McKinley Park', 61.0),\n",
              " ('Chatham', 60.0),\n",
              " ('Woodlawn', 58.0),\n",
              " ('Grand Boulevard', 57.0),\n",
              " ('West Lawn', 56.0),\n",
              " ('South Shore', 55.0),\n",
              " ('Albany Park', 53.0),\n",
              " ('Roseland', 52.0),\n",
              " ('Pullman', 51.0),\n",
              " ('Montclaire', 50.0),\n",
              " ('Washington Height', 48.0),\n",
              " ('Douglas', 47.0),\n",
              " ('West Ridge', 46.0),\n",
              " ('Hegewisch', 44.0),\n",
              " ('Bridgeport', 43.0),\n",
              " ('Avondale', 42.0),\n",
              " ('Avalon Park', 41.0),\n",
              " ('Rogers Park', 39.0),\n",
              " ('Calumet Heights', 38.0),\n",
              " ('Ashburn', 37.0),\n",
              " ('Portage Park', 35.0),\n",
              " ('Irving Park', 34.0),\n",
              " ('North Park', 33.0),\n",
              " ('Garfield Ridge', 32.0),\n",
              " ('Morgan Park', 30.0),\n",
              " ('Clearing', 29.0),\n",
              " ('Dunning', 28.0),\n",
              " ('Kenwood', 26.0),\n",
              " ('Jefferson Park', 25.0),\n",
              " (\"O'Hare\", 24.0),\n",
              " ('Logan Square', 23.0),\n",
              " ('Norwood Park', 21.0),\n",
              " ('Uptown', 20.0),\n",
              " ('Edgewater', 19.0),\n",
              " ('Lincoln Square', 17.0),\n",
              " ('Mount Greenwood', 16.0),\n",
              " ('Near West Side', 15.0),\n",
              " ('Hyde Park', 14.0),\n",
              " ('Beverly', 12.0),\n",
              " ('Forest Glen', 11.0),\n",
              " ('West Town', 10.0),\n",
              " ('Edison Park', 8.0),\n",
              " ('Near South Side', 7.0),\n",
              " ('North Center', 6.0),\n",
              " ('Lake View', 5.0),\n",
              " ('Loop', 3.0),\n",
              " ('Lincoln Park', 2.0),\n",
              " ('Near North Side', 1.0)]"
            ]
          },
          "metadata": {
            "tags": []
          },
          "execution_count": 24
        }
      ]
    },
    {
      "cell_type": "markdown",
      "metadata": {
        "id": "UfTKYULTNc4m"
      },
      "source": [
        "<details><summary>Click here for the solution</summary>\n",
        "\n",
        "```python\n",
        "#We can use the result of the last query to as an input to this query:\n",
        "%sql SELECT community_area_name FROM chicago_socioeconomic_data where hardship_index=98.0\n",
        "\n",
        "#or another option:\n",
        "%sql SELECT community_area_name FROM chicago_socioeconomic_data ORDER BY hardship_index DESC NULLS LAST FETCH FIRST ROW ONLY;\n",
        "\n",
        "#or you can use a sub-query to determine the max hardship index:\n",
        "%sql select community_area_name from chicago_socioeconomic_data where hardship_index = ( select max(hardship_index) from chicago_socioeconomic_data ) \n",
        "\n",
        "Correct answer: 'Riverdale'\n",
        "    \n",
        "```\n",
        "\n",
        "</details>\n"
      ]
    },
    {
      "cell_type": "markdown",
      "metadata": {
        "id": "pEcmPdqtNc4m"
      },
      "source": [
        "### Problem 5\n",
        "\n",
        "##### Which Chicago community areas have per-capita incomes greater than $60,000?\n"
      ]
    },
    {
      "cell_type": "code",
      "metadata": {
        "tags": [],
        "id": "8TZ70b5fNc4m",
        "outputId": "96a6a190-d938-4dae-d2a7-ad3e3e8fa519"
      },
      "source": [
        "%sql SELECT community_area_name FROM chicago_socioeconomic_data where per_capita_income_ > 60000\n"
      ],
      "execution_count": null,
      "outputs": [
        {
          "output_type": "stream",
          "text": [
            " * ibm_db_sa://nwp26832:***@0c77d6f2-5da9-48a9-81f8-86b520b87518.bs2io90l08kqb1od8lcg.databases.appdomain.cloud:31198/BLUDB\n",
            "Done.\n"
          ],
          "name": "stdout"
        },
        {
          "output_type": "execute_result",
          "data": {
            "text/html": [
              "<table>\n",
              "    <thead>\n",
              "        <tr>\n",
              "            <th>community_area_name</th>\n",
              "        </tr>\n",
              "    </thead>\n",
              "    <tbody>\n",
              "        <tr>\n",
              "            <td>Lake View</td>\n",
              "        </tr>\n",
              "        <tr>\n",
              "            <td>Lincoln Park</td>\n",
              "        </tr>\n",
              "        <tr>\n",
              "            <td>Near North Side</td>\n",
              "        </tr>\n",
              "        <tr>\n",
              "            <td>Loop</td>\n",
              "        </tr>\n",
              "    </tbody>\n",
              "</table>"
            ],
            "text/plain": [
              "[('Lake View',), ('Lincoln Park',), ('Near North Side',), ('Loop',)]"
            ]
          },
          "metadata": {
            "tags": []
          },
          "execution_count": 27
        }
      ]
    },
    {
      "cell_type": "markdown",
      "metadata": {
        "id": "JzIlkMWeNc4m"
      },
      "source": [
        "<details><summary>Click here for the solution</summary>\n",
        "\n",
        "```python\n",
        "%sql SELECT community_area_name FROM chicago_socioeconomic_data WHERE per_capita_income_ > 60000;\n",
        "\n",
        "Correct answer:Lake View,Lincoln Park, Near North Side, Loop\n",
        "    \n",
        "```\n",
        "\n",
        "</details>\n"
      ]
    },
    {
      "cell_type": "markdown",
      "metadata": {
        "id": "WSyXmOtZNc4m"
      },
      "source": [
        "### Problem 6\n",
        "\n",
        "##### Create a scatter plot using the variables `per_capita_income_` and `hardship_index`. Explain the correlation between the two variables.\n"
      ]
    },
    {
      "cell_type": "code",
      "metadata": {
        "tags": [],
        "id": "lFINmXqtNc4m",
        "outputId": "ba041a25-5b6b-4e1b-8622-77e31dbd7772"
      },
      "source": [
        "import matplotlib.pyplot as plt\n",
        "%matplotlib inline\n",
        "import seaborn as sns\n",
        "\n",
        "income_vs_hardship = %sql SELECT per_capita_income_, hardship_index FROM chicago_socioeconomic_data;\n",
        "plot = sns.jointplot(x='per_capita_income_',y='hardship_index', data=income_vs_hardship.DataFrame())"
      ],
      "execution_count": null,
      "outputs": [
        {
          "output_type": "stream",
          "text": [
            " * ibm_db_sa://nwp26832:***@0c77d6f2-5da9-48a9-81f8-86b520b87518.bs2io90l08kqb1od8lcg.databases.appdomain.cloud:31198/BLUDB\n",
            "Done.\n"
          ],
          "name": "stdout"
        },
        {
          "output_type": "display_data",
          "data": {
            "image/png": "[encoded data removed]",
            "text/plain": [
              "<Figure size 432x432 with 3 Axes>"
            ]
          },
          "metadata": {
            "tags": [],
            "needs_background": "light"
          }
        }
      ]
    },
    {
      "cell_type": "markdown",
      "metadata": {
        "id": "xJdO7lihNc4n"
      },
      "source": [
        "<details><summary>Click here for the solution</summary>\n",
        "\n",
        "```python\n",
        "# if the import command gives ModuleNotFoundError: No module named 'seaborn'\n",
        "# then uncomment the following line i.e. delete the # to install the seaborn package \n",
        "# !pip install seaborn\n",
        "\n",
        "import matplotlib.pyplot as plt\n",
        "%matplotlib inline\n",
        "import seaborn as sns\n",
        "\n",
        "income_vs_hardship = %sql SELECT per_capita_income_, hardship_index FROM chicago_socioeconomic_data;\n",
        "plot = sns.jointplot(x='per_capita_income_',y='hardship_index', data=income_vs_hardship.DataFrame())\n",
        "\n",
        "Correct answer:You can see that as Per Capita Income rises as the Hardship Index decreases. We see that the points on the scatter plot are somewhat closer to a straight line in the negative direction, so we have a negative correlation between the two variables. \n",
        "    \n",
        "```\n",
        "\n",
        "</details>\n"
      ]
    },
    {
      "cell_type": "markdown",
      "metadata": {
        "id": "LfIltR_zNc4n"
      },
      "source": [
        "### Conclusion\n",
        "\n",
        "##### Now that you know how to do basic exploratory data analysis using SQL and python visualization tools, you can further explore this dataset to see how the variable `per_capita_income_` is related to `percent_households_below_poverty` and `percent_aged_16_unemployed`. Try to create interesting visualizations!\n"
      ]
    },
    {
      "cell_type": "markdown",
      "metadata": {
        "id": "l__uzrqVNc4n"
      },
      "source": [
        "## Summary\n",
        "\n",
        "##### In this lab you learned how to store a real world data set from the internet in a database (Db2 on IBM Cloud), gain insights into data using SQL queries. You also visualized a portion of the data in the database to see what story it tells.\n"
      ]
    },
    {
      "cell_type": "markdown",
      "metadata": {
        "id": "onHZkmZTNc4n"
      },
      "source": [
        "## Author\n",
        "\n",
        "<a href=\"https://www.linkedin.com/in/wolehat/\" target=\"_blank\">Oluwole Fagbohun</a>\n"
      ]
    }
  ]
}